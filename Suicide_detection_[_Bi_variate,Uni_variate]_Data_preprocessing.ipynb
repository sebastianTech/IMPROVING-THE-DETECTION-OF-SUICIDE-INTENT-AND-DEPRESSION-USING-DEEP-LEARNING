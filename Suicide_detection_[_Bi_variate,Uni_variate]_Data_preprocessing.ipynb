{
  "cells": [
    {
      "cell_type": "code",
      "execution_count": null,
      "metadata": {
        "colab": {
          "base_uri": "https://localhost:8080/"
        },
        "id": "5ikrlJ62wfEd",
        "outputId": "28078dd9-b6b7-4e62-8e77-a071bad3e4e9"
      },
      "outputs": [
        {
          "output_type": "stream",
          "name": "stdout",
          "text": [
            "Mounted at /content/drive\n"
          ]
        }
      ],
      "source": [
        "from google.colab import drive\n",
        "drive.mount('/content/drive')"
      ]
    },
    {
      "cell_type": "code",
      "execution_count": null,
      "metadata": {
        "id": "j7pErIL8xJut",
        "colab": {
          "base_uri": "https://localhost:8080/"
        },
        "outputId": "29467d7d-a9b6-4baf-9f94-6ebc01926d5d"
      },
      "outputs": [
        {
          "output_type": "stream",
          "name": "stdout",
          "text": [
            "Collecting chart-studio\n",
            "  Downloading chart_studio-1.1.0-py3-none-any.whl (64 kB)\n",
            "\u001b[?25l\r\u001b[K     |█████                           | 10 kB 21.0 MB/s eta 0:00:01\r\u001b[K     |██████████▏                     | 20 kB 7.3 MB/s eta 0:00:01\r\u001b[K     |███████████████▎                | 30 kB 5.2 MB/s eta 0:00:01\r\u001b[K     |████████████████████▍           | 40 kB 5.1 MB/s eta 0:00:01\r\u001b[K     |█████████████████████████▍      | 51 kB 2.5 MB/s eta 0:00:01\r\u001b[K     |██████████████████████████████▌ | 61 kB 2.8 MB/s eta 0:00:01\r\u001b[K     |████████████████████████████████| 64 kB 1.6 MB/s \n",
            "\u001b[?25hRequirement already satisfied: requests in /usr/local/lib/python3.7/dist-packages (from chart-studio) (2.23.0)\n",
            "Collecting retrying>=1.3.3\n",
            "  Downloading retrying-1.3.3.tar.gz (10 kB)\n",
            "Requirement already satisfied: six in /usr/local/lib/python3.7/dist-packages (from chart-studio) (1.15.0)\n",
            "Requirement already satisfied: plotly in /usr/local/lib/python3.7/dist-packages (from chart-studio) (5.5.0)\n",
            "Requirement already satisfied: tenacity>=6.2.0 in /usr/local/lib/python3.7/dist-packages (from plotly->chart-studio) (8.0.1)\n",
            "Requirement already satisfied: certifi>=2017.4.17 in /usr/local/lib/python3.7/dist-packages (from requests->chart-studio) (2021.10.8)\n",
            "Requirement already satisfied: chardet<4,>=3.0.2 in /usr/local/lib/python3.7/dist-packages (from requests->chart-studio) (3.0.4)\n",
            "Requirement already satisfied: urllib3!=1.25.0,!=1.25.1,<1.26,>=1.21.1 in /usr/local/lib/python3.7/dist-packages (from requests->chart-studio) (1.24.3)\n",
            "Requirement already satisfied: idna<3,>=2.5 in /usr/local/lib/python3.7/dist-packages (from requests->chart-studio) (2.10)\n",
            "Building wheels for collected packages: retrying\n",
            "  Building wheel for retrying (setup.py) ... \u001b[?25l\u001b[?25hdone\n",
            "  Created wheel for retrying: filename=retrying-1.3.3-py3-none-any.whl size=11447 sha256=d48f96bff3383c3edb32212c27227ca0eedd176d030b2dcb1332f3eac56a4812\n",
            "  Stored in directory: /root/.cache/pip/wheels/f9/8d/8d/f6af3f7f9eea3553bc2fe6d53e4b287dad18b06a861ac56ddf\n",
            "Successfully built retrying\n",
            "Installing collected packages: retrying, chart-studio\n",
            "Successfully installed chart-studio-1.1.0 retrying-1.3.3\n"
          ]
        }
      ],
      "source": [
        "pip install chart-studio"
      ]
    },
    {
      "cell_type": "code",
      "source": [
        ""
      ],
      "metadata": {
        "id": "CkoeWs_6kDg7"
      },
      "execution_count": null,
      "outputs": []
    },
    {
      "cell_type": "code",
      "execution_count": null,
      "metadata": {
        "id": "gs_dH6stZov2",
        "colab": {
          "base_uri": "https://localhost:8080/",
          "height": 17
        },
        "outputId": "51906b05-a00e-4a49-e25e-5ee25c8f75f9"
      },
      "outputs": [
        {
          "output_type": "display_data",
          "data": {
            "text/html": [
              "        <script type=\"text/javascript\">\n",
              "        window.PlotlyConfig = {MathJaxConfig: 'local'};\n",
              "        if (window.MathJax) {MathJax.Hub.Config({SVG: {font: \"STIX-Web\"}});}\n",
              "        if (typeof require !== 'undefined') {\n",
              "        require.undef(\"plotly\");\n",
              "        requirejs.config({\n",
              "            paths: {\n",
              "                'plotly': ['https://cdn.plot.ly/plotly-2.8.3.min']\n",
              "            }\n",
              "        });\n",
              "        require(['plotly'], function(Plotly) {\n",
              "            window._Plotly = Plotly;\n",
              "        });\n",
              "        }\n",
              "        </script>\n",
              "        "
            ]
          },
          "metadata": {}
        }
      ],
      "source": [
        "## Importing Libraries\n",
        "import numpy as np\n",
        "import pandas as pd\n",
        "import matplotlib.pyplot as plt\n",
        "import seaborn as sns\n",
        "import plotly as plty\n",
        "from chart_studio import plotly\n",
        "import plotly.graph_objs as go\n",
        "import plotly.figure_factory as ff\n",
        "import plotly.tools as tls\n",
        "import warnings\n",
        "warnings.filterwarnings('ignore')\n",
        "warnings.simplefilter('ignore')\n",
        "from plotly.offline import download_plotlyjs, init_notebook_mode, plot, iplot\n",
        "init_notebook_mode(connected=True)\n",
        "import scipy.stats #for a bit of statistiscs\n",
        "%matplotlib inline"
      ]
    },
    {
      "cell_type": "code",
      "execution_count": null,
      "metadata": {
        "id": "25b-kCkZwmDu"
      },
      "outputs": [],
      "source": [
        "test = pd.read_csv(\"/content/drive/MyDrive/UoB Dissertation Folder/foreveralone...csv\")"
      ]
    },
    {
      "cell_type": "code",
      "execution_count": null,
      "metadata": {
        "colab": {
          "base_uri": "https://localhost:8080/",
          "height": 531
        },
        "id": "gksnrmtSxuqO",
        "outputId": "0acb759f-2b20-483e-b2b5-aacb21cfa196"
      },
      "outputs": [
        {
          "output_type": "execute_result",
          "data": {
            "text/html": [
              "\n",
              "  <div id=\"df-cb1d0e11-04c2-4e2d-ab54-221677a3c6b7\">\n",
              "    <div class=\"colab-df-container\">\n",
              "      <div>\n",
              "<style scoped>\n",
              "    .dataframe tbody tr th:only-of-type {\n",
              "        vertical-align: middle;\n",
              "    }\n",
              "\n",
              "    .dataframe tbody tr th {\n",
              "        vertical-align: top;\n",
              "    }\n",
              "\n",
              "    .dataframe thead th {\n",
              "        text-align: right;\n",
              "    }\n",
              "</style>\n",
              "<table border=\"1\" class=\"dataframe\">\n",
              "  <thead>\n",
              "    <tr style=\"text-align: right;\">\n",
              "      <th></th>\n",
              "      <th>time</th>\n",
              "      <th>gender</th>\n",
              "      <th>sexuallity</th>\n",
              "      <th>age</th>\n",
              "      <th>income</th>\n",
              "      <th>race</th>\n",
              "      <th>bodyweight</th>\n",
              "      <th>virgin</th>\n",
              "      <th>prostitution_legal</th>\n",
              "      <th>pay_for_sex</th>\n",
              "      <th>friends</th>\n",
              "      <th>social_fear</th>\n",
              "      <th>depressed</th>\n",
              "      <th>what_help_from_others</th>\n",
              "      <th>attempt_suicide</th>\n",
              "      <th>employment</th>\n",
              "      <th>job_title</th>\n",
              "      <th>edu_level</th>\n",
              "      <th>improve_yourself_how</th>\n",
              "    </tr>\n",
              "  </thead>\n",
              "  <tbody>\n",
              "    <tr>\n",
              "      <th>0</th>\n",
              "      <td>5/17/2016 20:04:18</td>\n",
              "      <td>Male</td>\n",
              "      <td>Straight</td>\n",
              "      <td>35</td>\n",
              "      <td>$30,000 to $39,999</td>\n",
              "      <td>White non-Hispanic</td>\n",
              "      <td>Normal weight</td>\n",
              "      <td>Yes</td>\n",
              "      <td>No</td>\n",
              "      <td>No</td>\n",
              "      <td>0.0</td>\n",
              "      <td>Yes</td>\n",
              "      <td>Yes</td>\n",
              "      <td>wingman/wingwoman, Set me up with a date</td>\n",
              "      <td>Yes</td>\n",
              "      <td>Employed for wages</td>\n",
              "      <td>mechanical drafter</td>\n",
              "      <td>Associate degree</td>\n",
              "      <td>None</td>\n",
              "    </tr>\n",
              "    <tr>\n",
              "      <th>1</th>\n",
              "      <td>5/17/2016 20:04:30</td>\n",
              "      <td>Male</td>\n",
              "      <td>Bisexual</td>\n",
              "      <td>21</td>\n",
              "      <td>$1 to $10,000</td>\n",
              "      <td>White non-Hispanic</td>\n",
              "      <td>Underweight</td>\n",
              "      <td>Yes</td>\n",
              "      <td>No</td>\n",
              "      <td>No</td>\n",
              "      <td>0.0</td>\n",
              "      <td>Yes</td>\n",
              "      <td>Yes</td>\n",
              "      <td>wingman/wingwoman, Set me up with a date, date...</td>\n",
              "      <td>No</td>\n",
              "      <td>Out of work and looking for work</td>\n",
              "      <td>-</td>\n",
              "      <td>Some college, no degree</td>\n",
              "      <td>join clubs/socual clubs/meet ups</td>\n",
              "    </tr>\n",
              "    <tr>\n",
              "      <th>2</th>\n",
              "      <td>5/17/2016 20:04:58</td>\n",
              "      <td>Male</td>\n",
              "      <td>Straight</td>\n",
              "      <td>22</td>\n",
              "      <td>$0</td>\n",
              "      <td>White non-Hispanic</td>\n",
              "      <td>Overweight</td>\n",
              "      <td>Yes</td>\n",
              "      <td>No</td>\n",
              "      <td>No</td>\n",
              "      <td>10.0</td>\n",
              "      <td>Yes</td>\n",
              "      <td>Yes</td>\n",
              "      <td>I don't want help</td>\n",
              "      <td>No</td>\n",
              "      <td>Out of work but not currently looking for work</td>\n",
              "      <td>unemployed</td>\n",
              "      <td>Some college, no degree</td>\n",
              "      <td>Other exercise</td>\n",
              "    </tr>\n",
              "    <tr>\n",
              "      <th>3</th>\n",
              "      <td>5/17/2016 20:08:01</td>\n",
              "      <td>Male</td>\n",
              "      <td>Straight</td>\n",
              "      <td>19</td>\n",
              "      <td>$1 to $10,000</td>\n",
              "      <td>White non-Hispanic</td>\n",
              "      <td>Overweight</td>\n",
              "      <td>Yes</td>\n",
              "      <td>Yes</td>\n",
              "      <td>No</td>\n",
              "      <td>8.0</td>\n",
              "      <td>Yes</td>\n",
              "      <td>Yes</td>\n",
              "      <td>date coaching</td>\n",
              "      <td>No</td>\n",
              "      <td>A student</td>\n",
              "      <td>student</td>\n",
              "      <td>Some college, no degree</td>\n",
              "      <td>Joined a gym/go to the gym</td>\n",
              "    </tr>\n",
              "    <tr>\n",
              "      <th>4</th>\n",
              "      <td>5/17/2016 20:08:04</td>\n",
              "      <td>Male</td>\n",
              "      <td>Straight</td>\n",
              "      <td>23</td>\n",
              "      <td>$30,000 to $39,999</td>\n",
              "      <td>White non-Hispanic</td>\n",
              "      <td>Overweight</td>\n",
              "      <td>No</td>\n",
              "      <td>No</td>\n",
              "      <td>Yes and I have</td>\n",
              "      <td>10.0</td>\n",
              "      <td>No</td>\n",
              "      <td>Yes</td>\n",
              "      <td>I don't want help</td>\n",
              "      <td>No</td>\n",
              "      <td>Employed for wages</td>\n",
              "      <td>Factory worker</td>\n",
              "      <td>High school graduate, diploma or the equivalen...</td>\n",
              "      <td>None</td>\n",
              "    </tr>\n",
              "  </tbody>\n",
              "</table>\n",
              "</div>\n",
              "      <button class=\"colab-df-convert\" onclick=\"convertToInteractive('df-cb1d0e11-04c2-4e2d-ab54-221677a3c6b7')\"\n",
              "              title=\"Convert this dataframe to an interactive table.\"\n",
              "              style=\"display:none;\">\n",
              "        \n",
              "  <svg xmlns=\"http://www.w3.org/2000/svg\" height=\"24px\"viewBox=\"0 0 24 24\"\n",
              "       width=\"24px\">\n",
              "    <path d=\"M0 0h24v24H0V0z\" fill=\"none\"/>\n",
              "    <path d=\"M18.56 5.44l.94 2.06.94-2.06 2.06-.94-2.06-.94-.94-2.06-.94 2.06-2.06.94zm-11 1L8.5 8.5l.94-2.06 2.06-.94-2.06-.94L8.5 2.5l-.94 2.06-2.06.94zm10 10l.94 2.06.94-2.06 2.06-.94-2.06-.94-.94-2.06-.94 2.06-2.06.94z\"/><path d=\"M17.41 7.96l-1.37-1.37c-.4-.4-.92-.59-1.43-.59-.52 0-1.04.2-1.43.59L10.3 9.45l-7.72 7.72c-.78.78-.78 2.05 0 2.83L4 21.41c.39.39.9.59 1.41.59.51 0 1.02-.2 1.41-.59l7.78-7.78 2.81-2.81c.8-.78.8-2.07 0-2.86zM5.41 20L4 18.59l7.72-7.72 1.47 1.35L5.41 20z\"/>\n",
              "  </svg>\n",
              "      </button>\n",
              "      \n",
              "  <style>\n",
              "    .colab-df-container {\n",
              "      display:flex;\n",
              "      flex-wrap:wrap;\n",
              "      gap: 12px;\n",
              "    }\n",
              "\n",
              "    .colab-df-convert {\n",
              "      background-color: #E8F0FE;\n",
              "      border: none;\n",
              "      border-radius: 50%;\n",
              "      cursor: pointer;\n",
              "      display: none;\n",
              "      fill: #1967D2;\n",
              "      height: 32px;\n",
              "      padding: 0 0 0 0;\n",
              "      width: 32px;\n",
              "    }\n",
              "\n",
              "    .colab-df-convert:hover {\n",
              "      background-color: #E2EBFA;\n",
              "      box-shadow: 0px 1px 2px rgba(60, 64, 67, 0.3), 0px 1px 3px 1px rgba(60, 64, 67, 0.15);\n",
              "      fill: #174EA6;\n",
              "    }\n",
              "\n",
              "    [theme=dark] .colab-df-convert {\n",
              "      background-color: #3B4455;\n",
              "      fill: #D2E3FC;\n",
              "    }\n",
              "\n",
              "    [theme=dark] .colab-df-convert:hover {\n",
              "      background-color: #434B5C;\n",
              "      box-shadow: 0px 1px 3px 1px rgba(0, 0, 0, 0.15);\n",
              "      filter: drop-shadow(0px 1px 2px rgba(0, 0, 0, 0.3));\n",
              "      fill: #FFFFFF;\n",
              "    }\n",
              "  </style>\n",
              "\n",
              "      <script>\n",
              "        const buttonEl =\n",
              "          document.querySelector('#df-cb1d0e11-04c2-4e2d-ab54-221677a3c6b7 button.colab-df-convert');\n",
              "        buttonEl.style.display =\n",
              "          google.colab.kernel.accessAllowed ? 'block' : 'none';\n",
              "\n",
              "        async function convertToInteractive(key) {\n",
              "          const element = document.querySelector('#df-cb1d0e11-04c2-4e2d-ab54-221677a3c6b7');\n",
              "          const dataTable =\n",
              "            await google.colab.kernel.invokeFunction('convertToInteractive',\n",
              "                                                     [key], {});\n",
              "          if (!dataTable) return;\n",
              "\n",
              "          const docLinkHtml = 'Like what you see? Visit the ' +\n",
              "            '<a target=\"_blank\" href=https://colab.research.google.com/notebooks/data_table.ipynb>data table notebook</a>'\n",
              "            + ' to learn more about interactive tables.';\n",
              "          element.innerHTML = '';\n",
              "          dataTable['output_type'] = 'display_data';\n",
              "          await google.colab.output.renderOutput(dataTable, element);\n",
              "          const docLink = document.createElement('div');\n",
              "          docLink.innerHTML = docLinkHtml;\n",
              "          element.appendChild(docLink);\n",
              "        }\n",
              "      </script>\n",
              "    </div>\n",
              "  </div>\n",
              "  "
            ],
            "text/plain": [
              "                 time gender sexuallity  age              income  \\\n",
              "0  5/17/2016 20:04:18   Male   Straight   35  $30,000 to $39,999   \n",
              "1  5/17/2016 20:04:30   Male   Bisexual   21       $1 to $10,000   \n",
              "2  5/17/2016 20:04:58   Male   Straight   22                  $0   \n",
              "3  5/17/2016 20:08:01   Male   Straight   19       $1 to $10,000   \n",
              "4  5/17/2016 20:08:04   Male   Straight   23  $30,000 to $39,999   \n",
              "\n",
              "                 race     bodyweight virgin prostitution_legal  \\\n",
              "0  White non-Hispanic  Normal weight    Yes                 No   \n",
              "1  White non-Hispanic    Underweight    Yes                 No   \n",
              "2  White non-Hispanic     Overweight    Yes                 No   \n",
              "3  White non-Hispanic     Overweight    Yes                Yes   \n",
              "4  White non-Hispanic     Overweight     No                 No   \n",
              "\n",
              "      pay_for_sex  friends social_fear depressed  \\\n",
              "0              No      0.0         Yes       Yes   \n",
              "1              No      0.0         Yes       Yes   \n",
              "2              No     10.0         Yes       Yes   \n",
              "3              No      8.0         Yes       Yes   \n",
              "4  Yes and I have     10.0          No       Yes   \n",
              "\n",
              "                               what_help_from_others attempt_suicide  \\\n",
              "0           wingman/wingwoman, Set me up with a date             Yes   \n",
              "1  wingman/wingwoman, Set me up with a date, date...              No   \n",
              "2                                  I don't want help              No   \n",
              "3                                      date coaching              No   \n",
              "4                                  I don't want help              No   \n",
              "\n",
              "                                       employment           job_title  \\\n",
              "0                              Employed for wages  mechanical drafter   \n",
              "1                Out of work and looking for work                   -   \n",
              "2  Out of work but not currently looking for work          unemployed   \n",
              "3                                       A student             student   \n",
              "4                              Employed for wages      Factory worker   \n",
              "\n",
              "                                           edu_level  \\\n",
              "0                                   Associate degree   \n",
              "1                            Some college, no degree   \n",
              "2                            Some college, no degree   \n",
              "3                            Some college, no degree   \n",
              "4  High school graduate, diploma or the equivalen...   \n",
              "\n",
              "               improve_yourself_how  \n",
              "0                              None  \n",
              "1  join clubs/socual clubs/meet ups  \n",
              "2                    Other exercise  \n",
              "3        Joined a gym/go to the gym  \n",
              "4                              None  "
            ]
          },
          "metadata": {},
          "execution_count": 5
        }
      ],
      "source": [
        "test.head()"
      ]
    },
    {
      "cell_type": "code",
      "execution_count": null,
      "metadata": {
        "colab": {
          "base_uri": "https://localhost:8080/"
        },
        "id": "1uNpdRQ5x9Xx",
        "outputId": "120512c5-421c-4392-ae70-8b19def26423"
      },
      "outputs": [
        {
          "output_type": "execute_result",
          "data": {
            "text/plain": [
              "(469, 19)"
            ]
          },
          "metadata": {},
          "execution_count": 6
        }
      ],
      "source": [
        "test.shape"
      ]
    },
    {
      "cell_type": "code",
      "execution_count": null,
      "metadata": {
        "colab": {
          "base_uri": "https://localhost:8080/"
        },
        "id": "N_Y_fztFyZEB",
        "outputId": "7d001ed8-77e5-4b90-a4e8-13ef823d7c44"
      },
      "outputs": [
        {
          "output_type": "execute_result",
          "data": {
            "text/plain": [
              "No     0.818763\n",
              "Yes    0.181237\n",
              "Name: attempt_suicide, dtype: float64"
            ]
          },
          "metadata": {},
          "execution_count": 7
        }
      ],
      "source": [
        "test['attempt_suicide'].value_counts(normalize=True)"
      ]
    },
    {
      "cell_type": "code",
      "execution_count": null,
      "metadata": {
        "colab": {
          "base_uri": "https://localhost:8080/"
        },
        "id": "NDBHtDR8yt-e",
        "outputId": "2cde8a27-8cba-4f63-8970-37b58139d201"
      },
      "outputs": [
        {
          "output_type": "execute_result",
          "data": {
            "text/plain": [
              "Yes    0.665245\n",
              "No     0.334755\n",
              "Name: depressed, dtype: float64"
            ]
          },
          "metadata": {},
          "execution_count": 8
        }
      ],
      "source": [
        "test['depressed'].value_counts(normalize=True)"
      ]
    },
    {
      "cell_type": "code",
      "execution_count": null,
      "metadata": {
        "colab": {
          "base_uri": "https://localhost:8080/"
        },
        "id": "ey9LVgS9y157",
        "outputId": "97392181-25c5-4522-d2bd-8def79eac7d9"
      },
      "outputs": [
        {
          "output_type": "execute_result",
          "data": {
            "text/plain": [
              "Yes    0.656716\n",
              "No     0.343284\n",
              "Name: social_fear, dtype: float64"
            ]
          },
          "metadata": {},
          "execution_count": 9
        }
      ],
      "source": [
        "test['social_fear'].value_counts(normalize=True)"
      ]
    },
    {
      "cell_type": "code",
      "execution_count": null,
      "metadata": {
        "colab": {
          "base_uri": "https://localhost:8080/"
        },
        "id": "SD-2ARxtzRNZ",
        "outputId": "57ace143-3df5-4a5c-8ef0-33dc6faa46f5"
      },
      "outputs": [
        {
          "output_type": "execute_result",
          "data": {
            "text/plain": [
              "White non-Hispanic                                                                 0.716418\n",
              "Asian                                                                              0.115139\n",
              "Hispanic (of any race)                                                             0.068230\n",
              "Black                                                                              0.046908\n",
              "Mixed                                                                              0.006397\n",
              "Middle Eastern                                                                     0.004264\n",
              "Indian                                                                             0.004264\n",
              "half Arab                                                                          0.002132\n",
              "Mixed race                                                                         0.002132\n",
              "First two answers. Gender is androgyne, not male; sexuality is asexual, not bi.    0.002132\n",
              "White and Native American                                                          0.002132\n",
              "Half Asian half white                                                              0.002132\n",
              "North African                                                                      0.002132\n",
              "Native American mix                                                                0.002132\n",
              "Multi                                                                              0.002132\n",
              "indian                                                                             0.002132\n",
              "Mixed white/asian                                                                  0.002132\n",
              "mixed                                                                              0.002132\n",
              "white and asian                                                                    0.002132\n",
              "Native american                                                                    0.002132\n",
              "caucasian                                                                          0.002132\n",
              "Turkish                                                                            0.002132\n",
              "helicopterkin                                                                      0.002132\n",
              "Pakistani                                                                          0.002132\n",
              "European                                                                           0.002132\n",
              "Name: race, dtype: float64"
            ]
          },
          "metadata": {},
          "execution_count": 10
        }
      ],
      "source": [
        "test['race'].value_counts(normalize=True)"
      ]
    },
    {
      "cell_type": "code",
      "execution_count": null,
      "metadata": {
        "colab": {
          "base_uri": "https://localhost:8080/"
        },
        "id": "Fn2VAWQxzY3B",
        "outputId": "98072782-a95e-4d61-ae9f-a9bf564b41ab"
      },
      "outputs": [
        {
          "output_type": "execute_result",
          "data": {
            "text/plain": [
              "Some college, no degree                                               0.292111\n",
              "Bachelor’s degree                                                     0.255864\n",
              "High school graduate, diploma or the equivalent (for example: GED)    0.198294\n",
              "Some high school, no diploma                                          0.106610\n",
              "Master’s degree                                                       0.059701\n",
              "Associate degree                                                      0.038380\n",
              "Trade/technical/vocational training                                   0.025586\n",
              "Professional degree                                                   0.012793\n",
              "Doctorate degree                                                      0.010661\n",
              "Name: edu_level, dtype: float64"
            ]
          },
          "metadata": {},
          "execution_count": 11
        }
      ],
      "source": [
        "test['edu_level'].value_counts(normalize=True)"
      ]
    },
    {
      "cell_type": "code",
      "source": [
        "# change dataype to int\n",
        "test['friends'] = test['friends'].astype(np.int64)"
      ],
      "metadata": {
        "id": "6JRRpUXCfr4s"
      },
      "execution_count": null,
      "outputs": []
    },
    {
      "cell_type": "code",
      "source": [
        "#drop rows with null values\n",
        "test.dropna(inplace=True)"
      ],
      "metadata": {
        "id": "JQlmFJkmf3Q-"
      },
      "execution_count": null,
      "outputs": []
    },
    {
      "cell_type": "code",
      "source": [
        "# strip stings with white space\n",
        "test['job_title'] = test.job_title.str.strip()"
      ],
      "metadata": {
        "id": "_qTvXZ9HgjYV"
      },
      "execution_count": null,
      "outputs": []
    },
    {
      "cell_type": "code",
      "source": [
        "# Function to replace job_title values\n",
        "def replace_text(what, to):\n",
        "    test.replace(what, to, inplace= True)"
      ],
      "metadata": {
        "id": "Bc2pO2svgqiG"
      },
      "execution_count": null,
      "outputs": []
    },
    {
      "cell_type": "code",
      "source": [
        "replace_text('student', 'Student')\n",
        "replace_text('none', 'None')\n",
        "replace_text(\"N/a\", 'None')\n",
        "replace_text('na', 'None')\n",
        "replace_text('-', 'None')\n",
        "replace_text('.', 'None')\n",
        "replace_text('*', 'None')\n",
        "replace_text('ggg', 'None')"
      ],
      "metadata": {
        "id": "t0zUqBqagziK"
      },
      "execution_count": null,
      "outputs": []
    },
    {
      "cell_type": "code",
      "source": [
        "test.job_title.value_counts()"
      ],
      "metadata": {
        "colab": {
          "base_uri": "https://localhost:8080/"
        },
        "id": "YKM7zBx0g3Fi",
        "outputId": "6741e3b5-8443-44e0-d24a-e8d6a31ba344"
      },
      "execution_count": null,
      "outputs": [
        {
          "output_type": "execute_result",
          "data": {
            "text/plain": [
              "Student                         82\n",
              "None                            51\n",
              "Unemployed                      13\n",
              "Engineer                         9\n",
              "Software Engineer                6\n",
              "                                ..\n",
              "Accounts Receivable              1\n",
              "Zivildiener (austrian stuff)     1\n",
              "RN                               1\n",
              "Freelance writer                 1\n",
              "Scientist                        1\n",
              "Name: job_title, Length: 258, dtype: int64"
            ]
          },
          "metadata": {},
          "execution_count": 17
        }
      ]
    },
    {
      "cell_type": "code",
      "source": [
        "# body weight\n",
        "test.bodyweight.value_counts()"
      ],
      "metadata": {
        "colab": {
          "base_uri": "https://localhost:8080/"
        },
        "id": "8wUBo5Obg-s8",
        "outputId": "d019fc5d-9ad6-4c8d-c963-fc0f2addaeba"
      },
      "execution_count": null,
      "outputs": [
        {
          "output_type": "execute_result",
          "data": {
            "text/plain": [
              "Normal weight    265\n",
              "Overweight       110\n",
              "Underweight       57\n",
              "Obese             25\n",
              "Name: bodyweight, dtype: int64"
            ]
          },
          "metadata": {},
          "execution_count": 18
        }
      ]
    },
    {
      "cell_type": "code",
      "source": [
        "# sexuality freqency\n",
        "\n",
        "test.sexuallity.value_counts()"
      ],
      "metadata": {
        "colab": {
          "base_uri": "https://localhost:8080/"
        },
        "id": "VQqDegljhMJI",
        "outputId": "29b2c240-c1ca-4fa7-b587-199285082e46"
      },
      "execution_count": null,
      "outputs": [
        {
          "output_type": "execute_result",
          "data": {
            "text/plain": [
              "Straight       404\n",
              "Bisexual        45\n",
              "Gay/Lesbian      8\n",
              "Name: sexuallity, dtype: int64"
            ]
          },
          "metadata": {},
          "execution_count": 19
        }
      ]
    },
    {
      "cell_type": "markdown",
      "metadata": {
        "id": "wW8YhuWJwz3x"
      },
      "source": [
        "# Univariate Analysis\n"
      ]
    },
    {
      "cell_type": "code",
      "source": [
        "test.gender.value_counts()"
      ],
      "metadata": {
        "colab": {
          "base_uri": "https://localhost:8080/"
        },
        "id": "9-kABq9yinvM",
        "outputId": "31fe4e17-ba1f-4c98-8775-63913a97afb7"
      },
      "execution_count": null,
      "outputs": [
        {
          "output_type": "execute_result",
          "data": {
            "text/plain": [
              "Male                  382\n",
              "Female                 72\n",
              "Transgender male        2\n",
              "Transgender female      1\n",
              "Name: gender, dtype: int64"
            ]
          },
          "metadata": {},
          "execution_count": 20
        }
      ]
    },
    {
      "cell_type": "markdown",
      "metadata": {
        "id": "iAJeIXxK1HIU"
      },
      "source": [
        "Univariante Analysis\n",
        "\n",
        "Variables visualisation based on data type: Categorical, ordinal and numerical.\n",
        "\n",
        "Categorical features:(Gender, depressed, attempt_sucide,sexuality)\n",
        "\n",
        "Ordinal features:(age, Education,)\n",
        "\n",
        "Numerical features:(Income)"
      ]
    },
    {
      "cell_type": "code",
      "execution_count": null,
      "metadata": {
        "colab": {
          "base_uri": "https://localhost:8080/",
          "height": 1000
        },
        "id": "rD3ff5l00-_G",
        "outputId": "234f546c-4cb3-48ba-999a-a7a6d43bf957"
      },
      "outputs": [
        {
          "output_type": "display_data",
          "data": {
            "image/png": "[encoded data removed]",
            "text/plain": [
              "<Figure size 432x288 with 1 Axes>"
            ]
          },
          "metadata": {
            "needs_background": "light"
          }
        },
        {
          "output_type": "display_data",
          "data": {
            "image/png": "[encoded data removed]",
            "text/plain": [
              "<Figure size 432x288 with 1 Axes>"
            ]
          },
          "metadata": {
            "needs_background": "light"
          }
        },
        {
          "output_type": "display_data",
          "data": {
            "image/png": "[encoded data removed]",
            "text/plain": [
              "<Figure size 432x288 with 1 Axes>"
            ]
          },
          "metadata": {
            "needs_background": "light"
          }
        },
        {
          "output_type": "display_data",
          "data": {
            "image/png": "[encoded data removed]",
            "text/plain": [
              "<Figure size 432x288 with 1 Axes>"
            ]
          },
          "metadata": {
            "needs_background": "light"
          }
        },
        {
          "output_type": "display_data",
          "data": {
            "image/png": "[encoded data removed]",
            "text/plain": [
              "<Figure size 432x288 with 1 Axes>"
            ]
          },
          "metadata": {
            "needs_background": "light"
          }
        }
      ],
      "source": [
        "test['gender'].value_counts(normalize=True).plot.bar(title='gender')\n",
        "plt.show()\n",
        "test['depressed'].value_counts(normalize=True).plot.bar(title='depressed')\n",
        "plt.show()\n",
        "test['attempt_suicide'].value_counts(normalize=True).plot.bar(title='attempt_suicide')\n",
        "plt.show()\n",
        "test['sexuallity'].value_counts(normalize=True).plot.bar(title='sexuallity')\n",
        "plt.show()\n",
        "test['bodyweight'].value_counts(normalize=True).plot.bar(title='bodyweight')\n",
        "plt.show()"
      ]
    },
    {
      "cell_type": "markdown",
      "metadata": {
        "id": "CsKtruxl92hH"
      },
      "source": [
        "Independent Variable (Ordinal)"
      ]
    },
    {
      "cell_type": "code",
      "execution_count": null,
      "metadata": {
        "colab": {
          "base_uri": "https://localhost:8080/",
          "height": 661
        },
        "id": "BqXgvOuB7rEh",
        "outputId": "49fe9c5f-5275-459a-8b8d-825e3a740966"
      },
      "outputs": [
        {
          "output_type": "display_data",
          "data": {
            "image/png": "[encoded data removed]",
            "text/plain": [
              "<Figure size 864x144 with 1 Axes>"
            ]
          },
          "metadata": {
            "needs_background": "light"
          }
        },
        {
          "output_type": "display_data",
          "data": {
            "image/png": "[encoded data removed]",
            "text/plain": [
              "<Figure size 864x144 with 1 Axes>"
            ]
          },
          "metadata": {
            "needs_background": "light"
          }
        }
      ],
      "source": [
        "test['age'].value_counts(normalize=True).plot.bar(figsize=(12,2), title='age')\n",
        "plt.show()\n",
        "test['edu_level'].value_counts(normalize=True).plot.bar(figsize=(12,2), title='edu_level')\n",
        "plt.show()\n"
      ]
    },
    {
      "cell_type": "code",
      "execution_count": null,
      "metadata": {
        "id": "8JCIMQQKX1Fm",
        "colab": {
          "base_uri": "https://localhost:8080/",
          "height": 369
        },
        "outputId": "5e87deb2-1a3e-4471-c3e5-02218ad2f99a"
      },
      "outputs": [
        {
          "output_type": "display_data",
          "data": {
            "image/png": "[encoded data removed]",
            "text/plain": [
              "<Figure size 288x288 with 1 Axes>"
            ]
          },
          "metadata": {
            "needs_background": "light"
          }
        }
      ],
      "source": [
        "Gender=pd.crosstab(test['gender'],test['attempt_suicide'])\n",
        "Gender.div(Gender.sum(1).astype(float), axis=0).plot(kind=\"bar\",stacked=True,figsize=(4,4))\n",
        "plt.show()"
      ]
    },
    {
      "cell_type": "code",
      "source": [
        "Age=pd.crosstab(test['age'],test['attempt_suicide'])\n",
        "Depressed=pd.crosstab(test['depressed'],test['attempt_suicide'])\n",
        "Sexuality=pd.crosstab(test['sexuallity'], test['attempt_suicide'])\n",
        "Body_weight=pd.crosstab(test['bodyweight'],test['attempt_suicide'])\n",
        "Age.div(Age.sum(1).astype(float), axis=0).plot(kind=\"bar\",stacked=True,figsize=(20,4))\n",
        "plt.show()\n",
        "Depressed.div(Depressed.sum(1).astype(float), axis=0).plot(kind=\"bar\",stacked=True,figsize=(4,4))\n",
        "plt.show()\n",
        "Sexuality.div(Sexuality.sum(1).astype(float), axis=0).plot(kind=\"bar\",stacked=True,figsize=(4,4))\n",
        "plt.show()\n",
        "Body_weight.div(Body_weight.sum(1).astype(float), axis=0).plot(kind=\"bar\",stacked=True,figsize=(4,4))\n",
        "plt.show()"
      ],
      "metadata": {
        "colab": {
          "base_uri": "https://localhost:8080/",
          "height": 1000
        },
        "id": "2j2_Z6eUy7zB",
        "outputId": "9923dfe6-6b37-41f9-9d47-09d040885f8d"
      },
      "execution_count": null,
      "outputs": [
        {
          "output_type": "display_data",
          "data": {
            "image/png": "[encoded data removed]",
            "text/plain": [
              "<Figure size 1440x288 with 1 Axes>"
            ]
          },
          "metadata": {
            "needs_background": "light"
          }
        },
        {
          "output_type": "display_data",
          "data": {
            "image/png": "[encoded data removed]",
            "text/plain": [
              "<Figure size 288x288 with 1 Axes>"
            ]
          },
          "metadata": {
            "needs_background": "light"
          }
        },
        {
          "output_type": "display_data",
          "data": {
            "image/png": "[encoded data removed]",
            "text/plain": [
              "<Figure size 288x288 with 1 Axes>"
            ]
          },
          "metadata": {
            "needs_background": "light"
          }
        },
        {
          "output_type": "display_data",
          "data": {
            "image/png": "[encoded data removed]",
            "text/plain": [
              "<Figure size 288x288 with 1 Axes>"
            ]
          },
          "metadata": {
            "needs_background": "light"
          }
        }
      ]
    },
    {
      "cell_type": "markdown",
      "metadata": {
        "id": "oijOMvaz-tNY"
      },
      "source": [
        ""
      ]
    },
    {
      "cell_type": "code",
      "source": [
        "matrix = test.corr()\n",
        "f, ax = plt.subplots(figsize=(9,6))\n",
        "sns.heatmap(matrix,vmax=.8,square=True,cmap=\"BuPu\", annot = True)"
      ],
      "metadata": {
        "colab": {
          "base_uri": "https://localhost:8080/",
          "height": 395
        },
        "id": "90MHX9lK2k2n",
        "outputId": "e92e05c7-c3aa-46a2-d58d-ced72691d69d"
      },
      "execution_count": null,
      "outputs": [
        {
          "output_type": "execute_result",
          "data": {
            "text/plain": [
              "<matplotlib.axes._subplots.AxesSubplot at 0x7f98b427f0d0>"
            ]
          },
          "metadata": {},
          "execution_count": 25
        },
        {
          "output_type": "display_data",
          "data": {
            "image/png": "[encoded data removed]",
            "text/plain": [
              "<Figure size 648x432 with 2 Axes>"
            ]
          },
          "metadata": {
            "needs_background": "light"
          }
        }
      ]
    },
    {
      "cell_type": "code",
      "source": [
        "test.describe()"
      ],
      "metadata": {
        "colab": {
          "base_uri": "https://localhost:8080/",
          "height": 300
        },
        "id": "uQPQN9rJWbck",
        "outputId": "566d9e09-3b07-4317-f004-4fc68ed7562c"
      },
      "execution_count": null,
      "outputs": [
        {
          "output_type": "execute_result",
          "data": {
            "text/html": [
              "\n",
              "  <div id=\"df-ee00f2b4-1f54-4d6e-964d-b1e7e3633e5d\">\n",
              "    <div class=\"colab-df-container\">\n",
              "      <div>\n",
              "<style scoped>\n",
              "    .dataframe tbody tr th:only-of-type {\n",
              "        vertical-align: middle;\n",
              "    }\n",
              "\n",
              "    .dataframe tbody tr th {\n",
              "        vertical-align: top;\n",
              "    }\n",
              "\n",
              "    .dataframe thead th {\n",
              "        text-align: right;\n",
              "    }\n",
              "</style>\n",
              "<table border=\"1\" class=\"dataframe\">\n",
              "  <thead>\n",
              "    <tr style=\"text-align: right;\">\n",
              "      <th></th>\n",
              "      <th>age</th>\n",
              "      <th>friends</th>\n",
              "    </tr>\n",
              "  </thead>\n",
              "  <tbody>\n",
              "    <tr>\n",
              "      <th>count</th>\n",
              "      <td>457.000000</td>\n",
              "      <td>457.000000</td>\n",
              "    </tr>\n",
              "    <tr>\n",
              "      <th>mean</th>\n",
              "      <td>24.032823</td>\n",
              "      <td>8.089716</td>\n",
              "    </tr>\n",
              "    <tr>\n",
              "      <th>std</th>\n",
              "      <td>6.045969</td>\n",
              "      <td>34.805075</td>\n",
              "    </tr>\n",
              "    <tr>\n",
              "      <th>min</th>\n",
              "      <td>12.000000</td>\n",
              "      <td>0.000000</td>\n",
              "    </tr>\n",
              "    <tr>\n",
              "      <th>25%</th>\n",
              "      <td>20.000000</td>\n",
              "      <td>1.000000</td>\n",
              "    </tr>\n",
              "    <tr>\n",
              "      <th>50%</th>\n",
              "      <td>23.000000</td>\n",
              "      <td>3.000000</td>\n",
              "    </tr>\n",
              "    <tr>\n",
              "      <th>75%</th>\n",
              "      <td>26.000000</td>\n",
              "      <td>7.000000</td>\n",
              "    </tr>\n",
              "    <tr>\n",
              "      <th>max</th>\n",
              "      <td>70.000000</td>\n",
              "      <td>600.000000</td>\n",
              "    </tr>\n",
              "  </tbody>\n",
              "</table>\n",
              "</div>\n",
              "      <button class=\"colab-df-convert\" onclick=\"convertToInteractive('df-ee00f2b4-1f54-4d6e-964d-b1e7e3633e5d')\"\n",
              "              title=\"Convert this dataframe to an interactive table.\"\n",
              "              style=\"display:none;\">\n",
              "        \n",
              "  <svg xmlns=\"http://www.w3.org/2000/svg\" height=\"24px\"viewBox=\"0 0 24 24\"\n",
              "       width=\"24px\">\n",
              "    <path d=\"M0 0h24v24H0V0z\" fill=\"none\"/>\n",
              "    <path d=\"M18.56 5.44l.94 2.06.94-2.06 2.06-.94-2.06-.94-.94-2.06-.94 2.06-2.06.94zm-11 1L8.5 8.5l.94-2.06 2.06-.94-2.06-.94L8.5 2.5l-.94 2.06-2.06.94zm10 10l.94 2.06.94-2.06 2.06-.94-2.06-.94-.94-2.06-.94 2.06-2.06.94z\"/><path d=\"M17.41 7.96l-1.37-1.37c-.4-.4-.92-.59-1.43-.59-.52 0-1.04.2-1.43.59L10.3 9.45l-7.72 7.72c-.78.78-.78 2.05 0 2.83L4 21.41c.39.39.9.59 1.41.59.51 0 1.02-.2 1.41-.59l7.78-7.78 2.81-2.81c.8-.78.8-2.07 0-2.86zM5.41 20L4 18.59l7.72-7.72 1.47 1.35L5.41 20z\"/>\n",
              "  </svg>\n",
              "      </button>\n",
              "      \n",
              "  <style>\n",
              "    .colab-df-container {\n",
              "      display:flex;\n",
              "      flex-wrap:wrap;\n",
              "      gap: 12px;\n",
              "    }\n",
              "\n",
              "    .colab-df-convert {\n",
              "      background-color: #E8F0FE;\n",
              "      border: none;\n",
              "      border-radius: 50%;\n",
              "      cursor: pointer;\n",
              "      display: none;\n",
              "      fill: #1967D2;\n",
              "      height: 32px;\n",
              "      padding: 0 0 0 0;\n",
              "      width: 32px;\n",
              "    }\n",
              "\n",
              "    .colab-df-convert:hover {\n",
              "      background-color: #E2EBFA;\n",
              "      box-shadow: 0px 1px 2px rgba(60, 64, 67, 0.3), 0px 1px 3px 1px rgba(60, 64, 67, 0.15);\n",
              "      fill: #174EA6;\n",
              "    }\n",
              "\n",
              "    [theme=dark] .colab-df-convert {\n",
              "      background-color: #3B4455;\n",
              "      fill: #D2E3FC;\n",
              "    }\n",
              "\n",
              "    [theme=dark] .colab-df-convert:hover {\n",
              "      background-color: #434B5C;\n",
              "      box-shadow: 0px 1px 3px 1px rgba(0, 0, 0, 0.15);\n",
              "      filter: drop-shadow(0px 1px 2px rgba(0, 0, 0, 0.3));\n",
              "      fill: #FFFFFF;\n",
              "    }\n",
              "  </style>\n",
              "\n",
              "      <script>\n",
              "        const buttonEl =\n",
              "          document.querySelector('#df-ee00f2b4-1f54-4d6e-964d-b1e7e3633e5d button.colab-df-convert');\n",
              "        buttonEl.style.display =\n",
              "          google.colab.kernel.accessAllowed ? 'block' : 'none';\n",
              "\n",
              "        async function convertToInteractive(key) {\n",
              "          const element = document.querySelector('#df-ee00f2b4-1f54-4d6e-964d-b1e7e3633e5d');\n",
              "          const dataTable =\n",
              "            await google.colab.kernel.invokeFunction('convertToInteractive',\n",
              "                                                     [key], {});\n",
              "          if (!dataTable) return;\n",
              "\n",
              "          const docLinkHtml = 'Like what you see? Visit the ' +\n",
              "            '<a target=\"_blank\" href=https://colab.research.google.com/notebooks/data_table.ipynb>data table notebook</a>'\n",
              "            + ' to learn more about interactive tables.';\n",
              "          element.innerHTML = '';\n",
              "          dataTable['output_type'] = 'display_data';\n",
              "          await google.colab.output.renderOutput(dataTable, element);\n",
              "          const docLink = document.createElement('div');\n",
              "          docLink.innerHTML = docLinkHtml;\n",
              "          element.appendChild(docLink);\n",
              "        }\n",
              "      </script>\n",
              "    </div>\n",
              "  </div>\n",
              "  "
            ],
            "text/plain": [
              "              age     friends\n",
              "count  457.000000  457.000000\n",
              "mean    24.032823    8.089716\n",
              "std      6.045969   34.805075\n",
              "min     12.000000    0.000000\n",
              "25%     20.000000    1.000000\n",
              "50%     23.000000    3.000000\n",
              "75%     26.000000    7.000000\n",
              "max     70.000000  600.000000"
            ]
          },
          "metadata": {},
          "execution_count": 26
        }
      ]
    },
    {
      "cell_type": "code",
      "source": [
        "fig, ax = plt.subplots()\n",
        "# ax.set_ylim(0, 105)\n",
        "# whiskers on 0.3 and 99.7 percentile to determine outliers\n",
        "test.boxplot(column='friends', ax=ax, whis=[0.3,99.7])"
      ],
      "metadata": {
        "colab": {
          "base_uri": "https://localhost:8080/",
          "height": 282
        },
        "id": "dKufZJeYxZ_S",
        "outputId": "08e0d39f-c091-44fe-b8af-66e28d0411bc"
      },
      "execution_count": null,
      "outputs": [
        {
          "output_type": "execute_result",
          "data": {
            "text/plain": [
              "<matplotlib.axes._subplots.AxesSubplot at 0x7f98b40c15d0>"
            ]
          },
          "metadata": {},
          "execution_count": 27
        },
        {
          "output_type": "display_data",
          "data": {
            "image/png": "[encoded data removed]",
            "text/plain": [
              "<Figure size 432x288 with 1 Axes>"
            ]
          },
          "metadata": {
            "needs_background": "light"
          }
        }
      ]
    },
    {
      "cell_type": "code",
      "source": [
        "test.loc[test['friends'] <= 50,:] \\\n",
        "        .groupby('attempt_suicide')['friends'] \\\n",
        "        .plot.hist(legend=True, density=True, alpha = 0.5)"
      ],
      "metadata": {
        "colab": {
          "base_uri": "https://localhost:8080/",
          "height": 334
        },
        "id": "yrvu6G2_yAK4",
        "outputId": "3d3c0b5b-3509-42b8-da35-9ddde1ea6661"
      },
      "execution_count": null,
      "outputs": [
        {
          "output_type": "execute_result",
          "data": {
            "text/plain": [
              "attempt_suicide\n",
              "No     AxesSubplot(0.125,0.125;0.775x0.755)\n",
              "Yes    AxesSubplot(0.125,0.125;0.775x0.755)\n",
              "Name: friends, dtype: object"
            ]
          },
          "metadata": {},
          "execution_count": 28
        },
        {
          "output_type": "display_data",
          "data": {
            "image/png": "[encoded data removed]",
            "text/plain": [
              "<Figure size 432x288 with 1 Axes>"
            ]
          },
          "metadata": {
            "needs_background": "light"
          }
        }
      ]
    },
    {
      "cell_type": "code",
      "source": [
        "test['improve_yourself_how'].head(15)"
      ],
      "metadata": {
        "colab": {
          "base_uri": "https://localhost:8080/"
        },
        "id": "wqVOpS7fygyP",
        "outputId": "a2a1da79-3732-4ca5-82cf-117b8ad25fb9"
      },
      "execution_count": null,
      "outputs": [
        {
          "output_type": "execute_result",
          "data": {
            "text/plain": [
              "0                                                  None\n",
              "1                      join clubs/socual clubs/meet ups\n",
              "2                                        Other exercise\n",
              "3                            Joined a gym/go to the gym\n",
              "4                                                  None\n",
              "5     Joined a gym/go to the gym, join clubs/socual ...\n",
              "6                                                  None\n",
              "7     Therapy, join clubs/socual clubs/meet ups, Non...\n",
              "8                   Joined a gym/go to the gym, Therapy\n",
              "9                                               Therapy\n",
              "10     Other exercise, join clubs/socual clubs/meet ups\n",
              "11           Joined a gym/go to the gym, Other exercise\n",
              "12    Joined a gym/go to the gym, Therapy, join club...\n",
              "13                                                 None\n",
              "14    Cosmetic survey, Joined a gym/go to the gym, T...\n",
              "Name: improve_yourself_how, dtype: object"
            ]
          },
          "metadata": {},
          "execution_count": 29
        }
      ]
    },
    {
      "cell_type": "code",
      "source": [
        "test['improve_yourself_how'] = test['improve_yourself_how'].str.lower()\n",
        "# none isn't an improvment, so we don't need to count it\n",
        "test['total_improves'] = test['improve_yourself_how'].str.split(',').apply(lambda x: len([i for i in x if i != 'none']))\n",
        "test.groupby('attempt_suicide')['total_improves'].plot.hist(legend=True, density=True, alpha = 0.5)"
      ],
      "metadata": {
        "colab": {
          "base_uri": "https://localhost:8080/",
          "height": 334
        },
        "id": "w_u7j4Q7yjvx",
        "outputId": "730beacc-1651-4bca-d501-1638f42b16b8"
      },
      "execution_count": null,
      "outputs": [
        {
          "output_type": "execute_result",
          "data": {
            "text/plain": [
              "attempt_suicide\n",
              "No     AxesSubplot(0.125,0.125;0.775x0.755)\n",
              "Yes    AxesSubplot(0.125,0.125;0.775x0.755)\n",
              "Name: total_improves, dtype: object"
            ]
          },
          "metadata": {},
          "execution_count": 30
        },
        {
          "output_type": "display_data",
          "data": {
            "image/png": "[encoded data removed]",
            "text/plain": [
              "<Figure size 432x288 with 1 Axes>"
            ]
          },
          "metadata": {
            "needs_background": "light"
          }
        }
      ]
    },
    {
      "cell_type": "code",
      "source": [
        "improvements = test['improve_yourself_how'].str.split(',').apply(pd.Series).stack().reset_index(drop=True)\n",
        "improvements = improvements.str.strip()\n",
        "top_improvements = improvements.value_counts()"
      ],
      "metadata": {
        "id": "YaG_f1ERzHxh"
      },
      "execution_count": null,
      "outputs": []
    },
    {
      "cell_type": "code",
      "source": [
        "top_improvements.plot(kind='bar')"
      ],
      "metadata": {
        "colab": {
          "base_uri": "https://localhost:8080/",
          "height": 972
        },
        "id": "sMxWXYHnzjtp",
        "outputId": "ddceba7c-4e6f-4a2f-aedf-33bd300f27bb"
      },
      "execution_count": null,
      "outputs": [
        {
          "output_type": "execute_result",
          "data": {
            "text/plain": [
              "<matplotlib.axes._subplots.AxesSubplot at 0x7f98b15057d0>"
            ]
          },
          "metadata": {},
          "execution_count": 32
        },
        {
          "output_type": "display_data",
          "data": {
            "image/png": "[encoded data removed]",
            "text/plain": [
              "<Figure size 432x288 with 1 Axes>"
            ]
          },
          "metadata": {
            "needs_background": "light"
          }
        }
      ]
    },
    {
      "cell_type": "code",
      "source": [
        "# Most of improvements found in the dataset only once. \n",
        "# Actually there are some mistypes and values with pretty similar sense. But for now let's leave it as it is.\n",
        "# As far as they can't help us to understand polulation, it's good idea to remove these improvements"
      ],
      "metadata": {
        "id": "GB85ao--zlR3"
      },
      "execution_count": null,
      "outputs": []
    },
    {
      "cell_type": "code",
      "source": [
        "top_improvements = top_improvements[top_improvements > 5]"
      ],
      "metadata": {
        "id": "yoeW8WfZ1SvY"
      },
      "execution_count": null,
      "outputs": []
    },
    {
      "cell_type": "code",
      "source": [
        "top_improvements.plot(kind='bar')"
      ],
      "metadata": {
        "colab": {
          "base_uri": "https://localhost:8080/",
          "height": 436
        },
        "id": "Agtb58Nz1WUq",
        "outputId": "8082b58e-9d81-4160-ff18-ea07dba2054b"
      },
      "execution_count": null,
      "outputs": [
        {
          "output_type": "execute_result",
          "data": {
            "text/plain": [
              "<matplotlib.axes._subplots.AxesSubplot at 0x7f98b14e2810>"
            ]
          },
          "metadata": {},
          "execution_count": 35
        },
        {
          "output_type": "display_data",
          "data": {
            "image/png": "[encoded data removed]",
            "text/plain": [
              "<Figure size 432x288 with 1 Axes>"
            ]
          },
          "metadata": {
            "needs_background": "light"
          }
        }
      ]
    },
    {
      "cell_type": "code",
      "source": [
        "# Much better.\n",
        "# Now lets add these improvements to the data set as new features"
      ],
      "metadata": {
        "id": "Ddu8xYzy1f3v"
      },
      "execution_count": null,
      "outputs": []
    },
    {
      "cell_type": "code",
      "source": [
        "for imp in top_improvements.index:\n",
        "    test['[improve] {}'.format(imp)] = test['improve_yourself_how'].str.contains(imp, regex=False)"
      ],
      "metadata": {
        "id": "mLjqOIXn1iL1"
      },
      "execution_count": null,
      "outputs": []
    },
    {
      "cell_type": "code",
      "source": [
        "col = {x:'sum' for x in test.columns if '[improve]' in x}\n",
        "test.groupby('attempt_suicide').agg(col).apply(lambda x: x/x.sum(), axis=1)"
      ],
      "metadata": {
        "colab": {
          "base_uri": "https://localhost:8080/",
          "height": 143
        },
        "id": "r2-AFPPR1q90",
        "outputId": "8f6d06b2-f5b1-4c39-a37f-4c718eb0f702"
      },
      "execution_count": null,
      "outputs": [
        {
          "output_type": "execute_result",
          "data": {
            "text/html": [
              "\n",
              "  <div id=\"df-80a981cf-f590-4340-9f90-5ebd0adc8542\">\n",
              "    <div class=\"colab-df-container\">\n",
              "      <div>\n",
              "<style scoped>\n",
              "    .dataframe tbody tr th:only-of-type {\n",
              "        vertical-align: middle;\n",
              "    }\n",
              "\n",
              "    .dataframe tbody tr th {\n",
              "        vertical-align: top;\n",
              "    }\n",
              "\n",
              "    .dataframe thead th {\n",
              "        text-align: right;\n",
              "    }\n",
              "</style>\n",
              "<table border=\"1\" class=\"dataframe\">\n",
              "  <thead>\n",
              "    <tr style=\"text-align: right;\">\n",
              "      <th></th>\n",
              "      <th>[improve] other exercise</th>\n",
              "      <th>[improve] joined a gym/go to the gym</th>\n",
              "      <th>[improve] join clubs/socual clubs/meet ups</th>\n",
              "      <th>[improve] therapy</th>\n",
              "      <th>[improve] none</th>\n",
              "      <th>[improve] cosmetic survey</th>\n",
              "    </tr>\n",
              "    <tr>\n",
              "      <th>attempt_suicide</th>\n",
              "      <th></th>\n",
              "      <th></th>\n",
              "      <th></th>\n",
              "      <th></th>\n",
              "      <th></th>\n",
              "      <th></th>\n",
              "    </tr>\n",
              "  </thead>\n",
              "  <tbody>\n",
              "    <tr>\n",
              "      <th>No</th>\n",
              "      <td>0.251256</td>\n",
              "      <td>0.254606</td>\n",
              "      <td>0.180905</td>\n",
              "      <td>0.137353</td>\n",
              "      <td>0.155779</td>\n",
              "      <td>0.020101</td>\n",
              "    </tr>\n",
              "    <tr>\n",
              "      <th>Yes</th>\n",
              "      <td>0.251462</td>\n",
              "      <td>0.210526</td>\n",
              "      <td>0.175439</td>\n",
              "      <td>0.251462</td>\n",
              "      <td>0.087719</td>\n",
              "      <td>0.023392</td>\n",
              "    </tr>\n",
              "  </tbody>\n",
              "</table>\n",
              "</div>\n",
              "      <button class=\"colab-df-convert\" onclick=\"convertToInteractive('df-80a981cf-f590-4340-9f90-5ebd0adc8542')\"\n",
              "              title=\"Convert this dataframe to an interactive table.\"\n",
              "              style=\"display:none;\">\n",
              "        \n",
              "  <svg xmlns=\"http://www.w3.org/2000/svg\" height=\"24px\"viewBox=\"0 0 24 24\"\n",
              "       width=\"24px\">\n",
              "    <path d=\"M0 0h24v24H0V0z\" fill=\"none\"/>\n",
              "    <path d=\"M18.56 5.44l.94 2.06.94-2.06 2.06-.94-2.06-.94-.94-2.06-.94 2.06-2.06.94zm-11 1L8.5 8.5l.94-2.06 2.06-.94-2.06-.94L8.5 2.5l-.94 2.06-2.06.94zm10 10l.94 2.06.94-2.06 2.06-.94-2.06-.94-.94-2.06-.94 2.06-2.06.94z\"/><path d=\"M17.41 7.96l-1.37-1.37c-.4-.4-.92-.59-1.43-.59-.52 0-1.04.2-1.43.59L10.3 9.45l-7.72 7.72c-.78.78-.78 2.05 0 2.83L4 21.41c.39.39.9.59 1.41.59.51 0 1.02-.2 1.41-.59l7.78-7.78 2.81-2.81c.8-.78.8-2.07 0-2.86zM5.41 20L4 18.59l7.72-7.72 1.47 1.35L5.41 20z\"/>\n",
              "  </svg>\n",
              "      </button>\n",
              "      \n",
              "  <style>\n",
              "    .colab-df-container {\n",
              "      display:flex;\n",
              "      flex-wrap:wrap;\n",
              "      gap: 12px;\n",
              "    }\n",
              "\n",
              "    .colab-df-convert {\n",
              "      background-color: #E8F0FE;\n",
              "      border: none;\n",
              "      border-radius: 50%;\n",
              "      cursor: pointer;\n",
              "      display: none;\n",
              "      fill: #1967D2;\n",
              "      height: 32px;\n",
              "      padding: 0 0 0 0;\n",
              "      width: 32px;\n",
              "    }\n",
              "\n",
              "    .colab-df-convert:hover {\n",
              "      background-color: #E2EBFA;\n",
              "      box-shadow: 0px 1px 2px rgba(60, 64, 67, 0.3), 0px 1px 3px 1px rgba(60, 64, 67, 0.15);\n",
              "      fill: #174EA6;\n",
              "    }\n",
              "\n",
              "    [theme=dark] .colab-df-convert {\n",
              "      background-color: #3B4455;\n",
              "      fill: #D2E3FC;\n",
              "    }\n",
              "\n",
              "    [theme=dark] .colab-df-convert:hover {\n",
              "      background-color: #434B5C;\n",
              "      box-shadow: 0px 1px 3px 1px rgba(0, 0, 0, 0.15);\n",
              "      filter: drop-shadow(0px 1px 2px rgba(0, 0, 0, 0.3));\n",
              "      fill: #FFFFFF;\n",
              "    }\n",
              "  </style>\n",
              "\n",
              "      <script>\n",
              "        const buttonEl =\n",
              "          document.querySelector('#df-80a981cf-f590-4340-9f90-5ebd0adc8542 button.colab-df-convert');\n",
              "        buttonEl.style.display =\n",
              "          google.colab.kernel.accessAllowed ? 'block' : 'none';\n",
              "\n",
              "        async function convertToInteractive(key) {\n",
              "          const element = document.querySelector('#df-80a981cf-f590-4340-9f90-5ebd0adc8542');\n",
              "          const dataTable =\n",
              "            await google.colab.kernel.invokeFunction('convertToInteractive',\n",
              "                                                     [key], {});\n",
              "          if (!dataTable) return;\n",
              "\n",
              "          const docLinkHtml = 'Like what you see? Visit the ' +\n",
              "            '<a target=\"_blank\" href=https://colab.research.google.com/notebooks/data_table.ipynb>data table notebook</a>'\n",
              "            + ' to learn more about interactive tables.';\n",
              "          element.innerHTML = '';\n",
              "          dataTable['output_type'] = 'display_data';\n",
              "          await google.colab.output.renderOutput(dataTable, element);\n",
              "          const docLink = document.createElement('div');\n",
              "          docLink.innerHTML = docLinkHtml;\n",
              "          element.appendChild(docLink);\n",
              "        }\n",
              "      </script>\n",
              "    </div>\n",
              "  </div>\n",
              "  "
            ],
            "text/plain": [
              "                 [improve] other exercise  \\\n",
              "attempt_suicide                             \n",
              "No                               0.251256   \n",
              "Yes                              0.251462   \n",
              "\n",
              "                 [improve] joined a gym/go to the gym  \\\n",
              "attempt_suicide                                         \n",
              "No                                           0.254606   \n",
              "Yes                                          0.210526   \n",
              "\n",
              "                 [improve] join clubs/socual clubs/meet ups  \\\n",
              "attempt_suicide                                               \n",
              "No                                                 0.180905   \n",
              "Yes                                                0.175439   \n",
              "\n",
              "                 [improve] therapy  [improve] none  [improve] cosmetic survey  \n",
              "attempt_suicide                                                                \n",
              "No                        0.137353        0.155779                   0.020101  \n",
              "Yes                       0.251462        0.087719                   0.023392  "
            ]
          },
          "metadata": {},
          "execution_count": 38
        }
      ]
    },
    {
      "cell_type": "code",
      "source": [
        "test['income'] = test['income'].apply(lambda x: x.split(\"$\")[-1])"
      ],
      "metadata": {
        "id": "DkoYXiAE3F1d"
      },
      "execution_count": null,
      "outputs": []
    },
    {
      "cell_type": "code",
      "source": [
        "test['income'].value_counts()"
      ],
      "metadata": {
        "colab": {
          "base_uri": "https://localhost:8080/"
        },
        "id": "flsvaR1VEd6p",
        "outputId": "2d43d398-52e2-42c0-ff0c-9973e3f676b5"
      },
      "execution_count": null,
      "outputs": [
        {
          "output_type": "execute_result",
          "data": {
            "text/plain": [
              "0                  150\n",
              "10,000              99\n",
              "19,999              58\n",
              "29,999              44\n",
              "39,999              39\n",
              "74,999              27\n",
              "49,999              16\n",
              "99,999               9\n",
              "149,999              6\n",
              "124,999              3\n",
              "174,999              2\n",
              "199,999              2\n",
              "200,000 or more      2\n",
              "Name: income, dtype: int64"
            ]
          },
          "metadata": {},
          "execution_count": 40
        }
      ]
    },
    {
      "cell_type": "code",
      "source": [
        "plt.figure(figsize=(15,5))\n",
        "sns.countplot('age',data=test)"
      ],
      "metadata": {
        "colab": {
          "base_uri": "https://localhost:8080/",
          "height": 351
        },
        "id": "V1j-NoDaE601",
        "outputId": "e26b5cb3-72ae-49c2-b639-9eda68348590"
      },
      "execution_count": null,
      "outputs": [
        {
          "output_type": "execute_result",
          "data": {
            "text/plain": [
              "<matplotlib.axes._subplots.AxesSubplot at 0x7f98afc32b50>"
            ]
          },
          "metadata": {},
          "execution_count": 41
        },
        {
          "output_type": "display_data",
          "data": {
            "image/png": "[encoded data removed]",
            "text/plain": [
              "<Figure size 1080x360 with 1 Axes>"
            ]
          },
          "metadata": {
            "needs_background": "light"
          }
        }
      ]
    },
    {
      "cell_type": "code",
      "source": [
        "plt.figure(figsize=(15,5))\n",
        "sns.countplot('income',data=test)"
      ],
      "metadata": {
        "colab": {
          "base_uri": "https://localhost:8080/",
          "height": 351
        },
        "id": "8E3S8jXYE7iV",
        "outputId": "ad1f35d1-5ead-49b0-f5db-1216df7e8cbf"
      },
      "execution_count": null,
      "outputs": [
        {
          "output_type": "execute_result",
          "data": {
            "text/plain": [
              "<matplotlib.axes._subplots.AxesSubplot at 0x7f98b41d7cd0>"
            ]
          },
          "metadata": {},
          "execution_count": 42
        },
        {
          "output_type": "display_data",
          "data": {
            "image/png": "[encoded data removed]",
            "text/plain": [
              "<Figure size 1080x360 with 1 Axes>"
            ]
          },
          "metadata": {
            "needs_background": "light"
          }
        }
      ]
    },
    {
      "cell_type": "markdown",
      "source": [
        "What is the most common way in which people try to improve themselves?\n",
        "What is the most common favour that people want?\n",
        "Is there a relationship between depression and virginity?\n",
        "Is there a relationship between bodyweight and virginity?\n",
        "\n",
        "The first two questions are simple aggregations. They don't need a lot of thinking about. The nex three however, need a little more code and they do produce some rather unexpected results. So, let's start!"
      ],
      "metadata": {
        "id": "HZMaSdQqHwvb"
      }
    },
    {
      "cell_type": "code",
      "source": [
        "test[\"what_help_from_others\"].unique()"
      ],
      "metadata": {
        "colab": {
          "base_uri": "https://localhost:8080/"
        },
        "id": "oh6wn5dkH_O2",
        "outputId": "156c01fb-87a2-4ecc-bba0-579660b10ce6"
      },
      "execution_count": null,
      "outputs": [
        {
          "output_type": "execute_result",
          "data": {
            "text/plain": [
              "array(['wingman/wingwoman, Set me up with a date',\n",
              "       'wingman/wingwoman, Set me up with a date, date coaching',\n",
              "       \"I don't want help\", 'date coaching',\n",
              "       'Set me up with a date, date coaching',\n",
              "       'wingman/wingwoman, date coaching', 'Set me up with a date',\n",
              "       'wingman/wingwoman, Set me up with a date, date coaching, someone to kill.me',\n",
              "       'wingman/wingwoman, someone to hang out with me where I can meet met (e.g. class, free event) and sell me up',\n",
              "       \"wingman/wingwoman, Set me up with a date, I don't want help\",\n",
              "       'wingman/wingwoman',\n",
              "       'wingman/wingwoman, Set me up with a date, date coaching, anything',\n",
              "       'Set me up with a date, Friends ',\n",
              "       \"wingman/wingwoman, Set me up with a date, I don't even know..\",\n",
              "       'Trust', \"date coaching, I don't want help\",\n",
              "       'I want help but I am not sure what kind. I always think it would be nice if a woman would approch me but thats not realistic.',\n",
              "       'fitness coaching',\n",
              "       'wingman/wingwoman, Set me up with a date, Pity fuck',\n",
              "       'Maybe to learn how to be happy', 'Friendship', 'Im on my own',\n",
              "       'help getting a better job', \"I'm not fa lol\",\n",
              "       \"I don't want help, more one night stands\",\n",
              "       'not sure what would help',\n",
              "       'There is no way that they can help. They only give useless advice like \"just be more confident\".',\n",
              "       \"I don't want any help. I can't even talk about it.\", 'Friends',\n",
              "       'coping with being beyond help',\n",
              "       'Money for rehab or sober living home',\n",
              "       'Just want mates that make it look like I fit in',\n",
              "       \"wingman/wingwoman, Set me up with a date, date coaching, I don't really know. Something magical that would make me happy.\",\n",
              "       'wingman/wingwoman, Set me up with a date, date coaching, Therapy, shoulder to cry on',\n",
              "       'date coaching, It would be nice but why would a woman choose me?  There are plenty better',\n",
              "       'therapy',\n",
              "       \"I don't want help, Like, to be seen & treated like a normal person\",\n",
              "       'i lost faith and hope',\n",
              "       'wingman/wingwoman, Set me up with a date, date coaching, Any help',\n",
              "       \"I don't want help, kill me\", 'Emotional support',\n",
              "       'just more friends/greater social life in general tbh',\n",
              "       'Teach me how to talk to people',\n",
              "       \"I don't want help, More general stuff\", \"I don't know\",\n",
              "       'I used to want all of those things. Now it is too late for any of them to make a difference.',\n",
              "       'wingman/wingwoman, Set me up with a date, invite me to shit please',\n",
              "       'I have no idea', \"Set me up with a date, I don't want help\",\n",
              "       \"wingman/wingwoman, Set me up with a date, date coaching, I don't want help\"],\n",
              "      dtype=object)"
            ]
          },
          "metadata": {},
          "execution_count": 43
        }
      ]
    },
    {
      "cell_type": "markdown",
      "source": [
        "So, let's get on with the analysis. First up, which is the most common method of help that people want from others? To answer this, we'll need to look at the what_help_from_others column.\n",
        "\n",
        "A few things pop out on looking at the result above:\n",
        "\n",
        "There seem to be more than one answer per responder\n",
        "The answers are all separated by a comma.\n",
        "There are a few custom answers. I guess that these people had a lot of time on their hands (self-evident. They're single XD ).\n",
        "So here's what we'll do:\n",
        "\n",
        "We'll split based on the comma\n",
        "We'll get the counts of each of the entries. Also, there's this entry \"I don't want help\". We'll ignore that.\n",
        "We can do this programatically. But, there's another (pandas) method to help us do this: .get_dummies()"
      ],
      "metadata": {
        "id": "xKAUdeTkIEB9"
      }
    },
    {
      "cell_type": "code",
      "source": [
        "# getting the most common form of help people want\n",
        "test[test[\"what_help_from_others\"] != \"I don't want help\"][\"what_help_from_others\"].str. \\\n",
        "    get_dummies(\",\").sum().sort_values(ascending = False)[:10]"
      ],
      "metadata": {
        "colab": {
          "base_uri": "https://localhost:8080/"
        },
        "id": "x42u-mnMIO7g",
        "outputId": "64d94a0f-9ac4-4845-be41-53e48b1b9720"
      },
      "execution_count": null,
      "outputs": [
        {
          "output_type": "execute_result",
          "data": {
            "text/plain": [
              "wingman/wingwoman                                                                                                                127\n",
              " Set me up with a date                                                                                                            99\n",
              " date coaching                                                                                                                    75\n",
              "Set me up with a date                                                                                                             62\n",
              "date coaching                                                                                                                     24\n",
              " I don't want help                                                                                                                 6\n",
              "I don't want help                                                                                                                  4\n",
              "Friendship                                                                                                                         2\n",
              "I used to want all of those things. Now it is too late for any of them to make a difference.                                       1\n",
              "I want help but I am not sure what kind. I always think it would be nice if a woman would approch me but thats not realistic.      1\n",
              "dtype: int64"
            ]
          },
          "metadata": {},
          "execution_count": 45
        }
      ]
    },
    {
      "cell_type": "code",
      "source": [
        ""
      ],
      "metadata": {
        "id": "HoOQmeIFIE8m"
      },
      "execution_count": null,
      "outputs": []
    },
    {
      "cell_type": "markdown",
      "source": [
        "Joining a gym seems to be the most common option to improve oneself. Honestly, I don't understand these people? Why join a gym when you can craft the bod-of-your-dreams at your local park with calisthenics? I bet that it's a sure fire way to get more people to notice you.\n",
        "\n",
        "The third question: What's the relationship between depression and virginity? This is a pretty cool question. Seeing how reports of depression are reaching sky-high levels, this might shed some light into the problem."
      ],
      "metadata": {
        "id": "bDq-G89sIsbo"
      }
    },
    {
      "cell_type": "code",
      "source": [
        "%matplotlib inline\n",
        "sns.set()\n",
        "plt.style.use(\"ggplot\") # yea, I still love ggplot2"
      ],
      "metadata": {
        "id": "SB1SRs3bI6BL"
      },
      "execution_count": null,
      "outputs": []
    },
    {
      "cell_type": "code",
      "source": [
        "sns.countplot(x = \"virgin\", data = test, hue = \"depressed\")"
      ],
      "metadata": {
        "colab": {
          "base_uri": "https://localhost:8080/",
          "height": 304
        },
        "id": "emRmDR_8I7pH",
        "outputId": "e30da7a0-c35c-4923-df55-d054582070a6"
      },
      "execution_count": null,
      "outputs": [
        {
          "output_type": "execute_result",
          "data": {
            "text/plain": [
              "<matplotlib.axes._subplots.AxesSubplot at 0x7f98b429a4d0>"
            ]
          },
          "metadata": {},
          "execution_count": 48
        },
        {
          "output_type": "display_data",
          "data": {
            "image/png": "[encoded data removed]",
            "text/plain": [
              "<Figure size 432x288 with 1 Axes>"
            ]
          },
          "metadata": {}
        }
      ]
    },
    {
      "cell_type": "code",
      "source": [
        ""
      ],
      "metadata": {
        "id": "c9MYmKDIJbS0"
      },
      "execution_count": null,
      "outputs": []
    },
    {
      "cell_type": "markdown",
      "source": [
        "There seem to be more depressed people among virgins. There seem to be more depressed people among non-virgins. Overall, there seem to be more depressed people.\n",
        "\n",
        "But, if we look at the percent differences in each of the categories, clearly, the difference is higher amongst the people who are virgins. This difference is 25% in the non-virgin group and a staggering 135% in the virgin group.\n",
        "\n",
        "But, is this the true relationship? Is there a deviation from the expected value and is this deviation significant? Let's check it out."
      ],
      "metadata": {
        "id": "Jn3KaTRsJqLu"
      }
    },
    {
      "cell_type": "code",
      "source": [
        "scipy.stats.chisquare(f_obs = [52, 65, 105, 247], f_exp = [39, 78, 118, 234]) \n",
        "# expected values were calculated by hand"
      ],
      "metadata": {
        "colab": {
          "base_uri": "https://localhost:8080/"
        },
        "id": "hcYDqn29Jq_s",
        "outputId": "d3b4b929-0440-4351-b0a6-9b5e83768f9b"
      },
      "execution_count": null,
      "outputs": [
        {
          "output_type": "execute_result",
          "data": {
            "text/plain": [
              "Power_divergenceResult(statistic=8.65442561205273, pvalue=0.03425645888653506)"
            ]
          },
          "metadata": {},
          "execution_count": 51
        }
      ]
    },
    {
      "cell_type": "markdown",
      "source": [
        "Well, the observed relationship does seem to differ from what it's supposed to be. Now, if assume that their depression is not caused by any other factor (we might ignore these since trying to measure them is too much work), we can ask a follow up question: Are the virgins single because they are depressed? Or are they depressed because they are single?\n",
        "\n",
        "Even though we ignored other causes of depression, it's more likely that the people who are depressed have a hard time finding a partner because of their depression, which makes it hard for them to communicate. Cool.\n",
        "\n",
        "The last question: Is there a relationship between bodyweight and virginity? This is a pretty interesting one. We saw earlier that the most common choice for self-improvement was to join a gym. Assumably, this has something to do with weight and/or appearance. People who are over weight are looking to lose the love handles, while those who are underweight are probably looking to get healthy. While those who are in the normal range might want to shape their bodies properly to attract more potential partners.\n",
        "\n",
        "Enough talk. Let's get to the code."
      ],
      "metadata": {
        "id": "Ij4FGqyiKCjk"
      }
    },
    {
      "cell_type": "code",
      "source": [
        "sns.countplot(x = \"virgin\", data = test, hue = \"bodyweight\")\n",
        "plt.title(\"Bodyweight and virginity\")\n",
        "plt.xlabel(\"Are you a virgin?\")"
      ],
      "metadata": {
        "colab": {
          "base_uri": "https://localhost:8080/",
          "height": 319
        },
        "id": "xv8UdFZaKHNS",
        "outputId": "1f2ea238-bd54-4f88-bcb4-79a3beeba60b"
      },
      "execution_count": null,
      "outputs": [
        {
          "output_type": "execute_result",
          "data": {
            "text/plain": [
              "Text(0.5, 0, 'Are you a virgin?')"
            ]
          },
          "metadata": {},
          "execution_count": 53
        },
        {
          "output_type": "display_data",
          "data": {
            "image/png": "[encoded data removed]",
            "text/plain": [
              "<Figure size 432x288 with 1 Axes>"
            ]
          },
          "metadata": {
            "needs_background": "light"
          }
        }
      ]
    },
    {
      "cell_type": "code",
      "source": [
        "test.pivot_table(\"age\", index = \"virgin\", columns = \"bodyweight\", aggfunc = \"count\")"
      ],
      "metadata": {
        "colab": {
          "base_uri": "https://localhost:8080/",
          "height": 143
        },
        "id": "YS1BRqX0KQx1",
        "outputId": "906ba72a-01a5-4cce-d17f-5bb2ab5a4582"
      },
      "execution_count": null,
      "outputs": [
        {
          "output_type": "execute_result",
          "data": {
            "text/html": [
              "\n",
              "  <div id=\"df-013e4ac4-84c8-4e20-8949-aa705ac6a5b2\">\n",
              "    <div class=\"colab-df-container\">\n",
              "      <div>\n",
              "<style scoped>\n",
              "    .dataframe tbody tr th:only-of-type {\n",
              "        vertical-align: middle;\n",
              "    }\n",
              "\n",
              "    .dataframe tbody tr th {\n",
              "        vertical-align: top;\n",
              "    }\n",
              "\n",
              "    .dataframe thead th {\n",
              "        text-align: right;\n",
              "    }\n",
              "</style>\n",
              "<table border=\"1\" class=\"dataframe\">\n",
              "  <thead>\n",
              "    <tr style=\"text-align: right;\">\n",
              "      <th>bodyweight</th>\n",
              "      <th>Normal weight</th>\n",
              "      <th>Obese</th>\n",
              "      <th>Overweight</th>\n",
              "      <th>Underweight</th>\n",
              "    </tr>\n",
              "    <tr>\n",
              "      <th>virgin</th>\n",
              "      <th></th>\n",
              "      <th></th>\n",
              "      <th></th>\n",
              "      <th></th>\n",
              "    </tr>\n",
              "  </thead>\n",
              "  <tbody>\n",
              "    <tr>\n",
              "      <th>No</th>\n",
              "      <td>76</td>\n",
              "      <td>7</td>\n",
              "      <td>25</td>\n",
              "      <td>7</td>\n",
              "    </tr>\n",
              "    <tr>\n",
              "      <th>Yes</th>\n",
              "      <td>189</td>\n",
              "      <td>18</td>\n",
              "      <td>85</td>\n",
              "      <td>50</td>\n",
              "    </tr>\n",
              "  </tbody>\n",
              "</table>\n",
              "</div>\n",
              "      <button class=\"colab-df-convert\" onclick=\"convertToInteractive('df-013e4ac4-84c8-4e20-8949-aa705ac6a5b2')\"\n",
              "              title=\"Convert this dataframe to an interactive table.\"\n",
              "              style=\"display:none;\">\n",
              "        \n",
              "  <svg xmlns=\"http://www.w3.org/2000/svg\" height=\"24px\"viewBox=\"0 0 24 24\"\n",
              "       width=\"24px\">\n",
              "    <path d=\"M0 0h24v24H0V0z\" fill=\"none\"/>\n",
              "    <path d=\"M18.56 5.44l.94 2.06.94-2.06 2.06-.94-2.06-.94-.94-2.06-.94 2.06-2.06.94zm-11 1L8.5 8.5l.94-2.06 2.06-.94-2.06-.94L8.5 2.5l-.94 2.06-2.06.94zm10 10l.94 2.06.94-2.06 2.06-.94-2.06-.94-.94-2.06-.94 2.06-2.06.94z\"/><path d=\"M17.41 7.96l-1.37-1.37c-.4-.4-.92-.59-1.43-.59-.52 0-1.04.2-1.43.59L10.3 9.45l-7.72 7.72c-.78.78-.78 2.05 0 2.83L4 21.41c.39.39.9.59 1.41.59.51 0 1.02-.2 1.41-.59l7.78-7.78 2.81-2.81c.8-.78.8-2.07 0-2.86zM5.41 20L4 18.59l7.72-7.72 1.47 1.35L5.41 20z\"/>\n",
              "  </svg>\n",
              "      </button>\n",
              "      \n",
              "  <style>\n",
              "    .colab-df-container {\n",
              "      display:flex;\n",
              "      flex-wrap:wrap;\n",
              "      gap: 12px;\n",
              "    }\n",
              "\n",
              "    .colab-df-convert {\n",
              "      background-color: #E8F0FE;\n",
              "      border: none;\n",
              "      border-radius: 50%;\n",
              "      cursor: pointer;\n",
              "      display: none;\n",
              "      fill: #1967D2;\n",
              "      height: 32px;\n",
              "      padding: 0 0 0 0;\n",
              "      width: 32px;\n",
              "    }\n",
              "\n",
              "    .colab-df-convert:hover {\n",
              "      background-color: #E2EBFA;\n",
              "      box-shadow: 0px 1px 2px rgba(60, 64, 67, 0.3), 0px 1px 3px 1px rgba(60, 64, 67, 0.15);\n",
              "      fill: #174EA6;\n",
              "    }\n",
              "\n",
              "    [theme=dark] .colab-df-convert {\n",
              "      background-color: #3B4455;\n",
              "      fill: #D2E3FC;\n",
              "    }\n",
              "\n",
              "    [theme=dark] .colab-df-convert:hover {\n",
              "      background-color: #434B5C;\n",
              "      box-shadow: 0px 1px 3px 1px rgba(0, 0, 0, 0.15);\n",
              "      filter: drop-shadow(0px 1px 2px rgba(0, 0, 0, 0.3));\n",
              "      fill: #FFFFFF;\n",
              "    }\n",
              "  </style>\n",
              "\n",
              "      <script>\n",
              "        const buttonEl =\n",
              "          document.querySelector('#df-013e4ac4-84c8-4e20-8949-aa705ac6a5b2 button.colab-df-convert');\n",
              "        buttonEl.style.display =\n",
              "          google.colab.kernel.accessAllowed ? 'block' : 'none';\n",
              "\n",
              "        async function convertToInteractive(key) {\n",
              "          const element = document.querySelector('#df-013e4ac4-84c8-4e20-8949-aa705ac6a5b2');\n",
              "          const dataTable =\n",
              "            await google.colab.kernel.invokeFunction('convertToInteractive',\n",
              "                                                     [key], {});\n",
              "          if (!dataTable) return;\n",
              "\n",
              "          const docLinkHtml = 'Like what you see? Visit the ' +\n",
              "            '<a target=\"_blank\" href=https://colab.research.google.com/notebooks/data_table.ipynb>data table notebook</a>'\n",
              "            + ' to learn more about interactive tables.';\n",
              "          element.innerHTML = '';\n",
              "          dataTable['output_type'] = 'display_data';\n",
              "          await google.colab.output.renderOutput(dataTable, element);\n",
              "          const docLink = document.createElement('div');\n",
              "          docLink.innerHTML = docLinkHtml;\n",
              "          element.appendChild(docLink);\n",
              "        }\n",
              "      </script>\n",
              "    </div>\n",
              "  </div>\n",
              "  "
            ],
            "text/plain": [
              "bodyweight  Normal weight  Obese  Overweight  Underweight\n",
              "virgin                                                   \n",
              "No                     76      7          25            7\n",
              "Yes                   189     18          85           50"
            ]
          },
          "metadata": {},
          "execution_count": 54
        }
      ]
    },
    {
      "cell_type": "markdown",
      "source": [
        "As with the previous categorical relationship, we'll check if the observed relationship is different from the actual. [I've calculated the expected values by hand. The formula for calculating expected values is E(i, j) = (T(i) * T(j)) / N where E(i, j) is the expected value in the ith row and jth column T(i) is the total for the ith row T(j) is the total for the jth column and N is the overall total. ]"
      ],
      "metadata": {
        "id": "6ESGdf9JKbSt"
      }
    },
    {
      "cell_type": "code",
      "source": [
        "# chisquare test on virginity and bodyweight\n",
        "scipy.stats.chisquare(f_obs = [77, 7, 25, 8, 192, 18, 88, 54], \n",
        "\tf_exp = [67.10, 6.23, 28.19, 15.46, 201.89, 18.76, 84.81, 46.53])"
      ],
      "metadata": {
        "colab": {
          "base_uri": "https://localhost:8080/"
        },
        "id": "6gm1hHeJKd83",
        "outputId": "d9f5323b-42c0-410e-f3a9-1eb4f9f481c1"
      },
      "execution_count": null,
      "outputs": [
        {
          "output_type": "execute_result",
          "data": {
            "text/plain": [
              "Power_divergenceResult(statistic=7.351026023669052, pvalue=0.3932683313637481)"
            ]
          },
          "metadata": {},
          "execution_count": 55
        }
      ]
    },
    {
      "cell_type": "code",
      "source": [
        ""
      ],
      "metadata": {
        "id": "MpE_197CKtJh"
      },
      "execution_count": null,
      "outputs": []
    },
    {
      "cell_type": "markdown",
      "source": [
        "Whuuut?! The relationship between virginity and bodyweight doesn't seem to deviate too much from the actual relationship. If so, then why do so many people join the gym as a means to improve themselves? It's pretty counter intuitive.\n",
        "Man alive, this is a cool finding."
      ],
      "metadata": {
        "id": "j5THRbwZKthf"
      }
    }
  ],
  "metadata": {
    "colab": {
      "name": "Suicide detection [ Bi-variate,Uni-variate] Data preprocessing ",
      "provenance": []
    },
    "kernelspec": {
      "display_name": "Python 3",
      "name": "python3"
    },
    "language_info": {
      "name": "python"
    },
    "accelerator": "GPU"
  },
  "nbformat": 4,
  "nbformat_minor": 0
}