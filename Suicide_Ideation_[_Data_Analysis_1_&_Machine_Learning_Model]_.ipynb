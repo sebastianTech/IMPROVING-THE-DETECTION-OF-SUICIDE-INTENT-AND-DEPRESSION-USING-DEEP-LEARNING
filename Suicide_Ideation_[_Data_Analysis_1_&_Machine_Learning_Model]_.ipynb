{
  "cells": [
    {
      "cell_type": "markdown",
      "metadata": {
        "id": "6obCQjQ048Au"
      },
      "source": [
        "# Predicting Suicidal Ideation Using Machine learning/ Deep Learning\n"
      ]
    },
    {
      "cell_type": "code",
      "execution_count": null,
      "metadata": {
        "collapsed": true,
        "id": "11F4RQanyclv"
      },
      "outputs": [],
      "source": [
        "import pandas as pd\n",
        "import csv\n",
        "import json\n",
        "from matplotlib import pyplot as plt\n",
        "import numpy as np\n",
        "import plotly.graph_objs as go\n",
        "import plotly as plty\n",
        "from sklearn import preprocessing\n",
        "import sklearn.feature_extraction.text as tfidf\n",
        "from sklearn.model_selection import train_test_split\n",
        "from sklearn import datasets,linear_model, preprocessing,utils\n",
        "from sklearn.metrics import mean_squared_error,r2_score\n",
        "from sklearn import metrics\n",
        "from sklearn.metrics import roc_curve, auc\n",
        "from sklearn.metrics import confusion_matrix, classification_report\n",
        "from sklearn.utils.multiclass import unique_labels\n",
        "import itertools\n",
        "from sklearn import svm\n",
        "import collections\n",
        "from sklearn.naive_bayes import MultinomialNB"
      ]
    },
    {
      "cell_type": "markdown",
      "metadata": {
        "id": "rL8CezwXUWnu"
      },
      "source": [
        "## Function to Plot ROC curve"
      ]
    },
    {
      "cell_type": "code",
      "execution_count": null,
      "metadata": {
        "collapsed": true,
        "id": "HeYj_D-smab_"
      },
      "outputs": [],
      "source": [
        "# Plot an ROC. pred - the predictions, y - the expected output.\n",
        "def plot_roc(pred,y):\n",
        "    fpr, tpr, thresholds = roc_curve(y, pred)\n",
        "    roc_auc = auc(fpr, tpr)\n",
        "\n",
        "    plt.figure()\n",
        "    plt.plot(fpr, tpr, label='ROC curve (area = %0.2f)' % roc_auc)\n",
        "    plt.plot([0, 1], [0, 1], 'k--')\n",
        "    plt.xlim([0.0, 1.0])\n",
        "    plt.ylim([0.0, 1.05])\n",
        "    plt.xlabel('False Positive Rate')\n",
        "    plt.ylabel('True Positive Rate')\n",
        "    plt.title('Receiver Operating Characteristic (ROC)')\n",
        "    plt.legend(loc=\"lower right\")\n",
        "    plt.show()"
      ]
    },
    {
      "cell_type": "markdown",
      "metadata": {
        "id": "C9M90U8C5C68"
      },
      "source": [
        "#  Exploratory Data Analysis"
      ]
    },
    {
      "cell_type": "markdown",
      "metadata": {
        "id": "IvYGugXAs26c"
      },
      "source": [
        "## Dataset is downloaded from kaggle website \n",
        "\n",
        "\n",
        "## Dataset name - ForeverAlone Dataset\n"
      ]
    },
    {
      "cell_type": "code",
      "execution_count": null,
      "metadata": {
        "colab": {
          "base_uri": "https://localhost:8080/",
          "height": 54
        },
        "id": "ZMgA4LS-M1j0",
        "outputId": "c6d962d3-13d5-4f5e-ca3f-06ebd1534c97"
      },
      "outputs": [
        {
          "name": "stdout",
          "output_type": "stream",
          "text": [
            "Drive already mounted at /content/drive; to attempt to forcibly remount, call drive.mount(\"/content/drive\", force_remount=True).\n"
          ]
        }
      ],
      "source": [
        "from google.colab import drive\n",
        "drive.mount('/content/drive')"
      ]
    },
    {
      "cell_type": "markdown",
      "metadata": {
        "id": "w2Xuh6TkVAGm"
      },
      "source": [
        "## Read CSV file from drive"
      ]
    },
    {
      "cell_type": "code",
      "execution_count": null,
      "metadata": {
        "collapsed": true,
        "id": "34j_Fv2MBsGj"
      },
      "outputs": [],
      "source": [
        "df = pd.read_csv(\"drive/My Drive/foreveralone.csv\")"
      ]
    },
    {
      "cell_type": "markdown",
      "metadata": {
        "id": "S2dWp8a1VHfb"
      },
      "source": [
        "## Print head of the dataframe obtained by reading csv using pandas library"
      ]
    },
    {
      "cell_type": "code",
      "execution_count": null,
      "metadata": {
        "colab": {
          "base_uri": "https://localhost:8080/",
          "height": 479
        },
        "id": "LkvXn2Wsk-Dd",
        "outputId": "0277346b-c370-464f-a58b-7568bb4b9056"
      },
      "outputs": [
        {
          "data": {
            "text/html": [
              "<div>\n",
              "<style scoped>\n",
              "    .dataframe tbody tr th:only-of-type {\n",
              "        vertical-align: middle;\n",
              "    }\n",
              "\n",
              "    .dataframe tbody tr th {\n",
              "        vertical-align: top;\n",
              "    }\n",
              "\n",
              "    .dataframe thead th {\n",
              "        text-align: right;\n",
              "    }\n",
              "</style>\n",
              "<table border=\"1\" class=\"dataframe\">\n",
              "  <thead>\n",
              "    <tr style=\"text-align: right;\">\n",
              "      <th></th>\n",
              "      <th>time</th>\n",
              "      <th>gender</th>\n",
              "      <th>sexuallity</th>\n",
              "      <th>age</th>\n",
              "      <th>income</th>\n",
              "      <th>race</th>\n",
              "      <th>bodyweight</th>\n",
              "      <th>virgin</th>\n",
              "      <th>prostitution_legal</th>\n",
              "      <th>pay_for_sex</th>\n",
              "      <th>friends</th>\n",
              "      <th>social_fear</th>\n",
              "      <th>depressed</th>\n",
              "      <th>what_help_from_others</th>\n",
              "      <th>attempt_suicide</th>\n",
              "      <th>employment</th>\n",
              "      <th>job_title</th>\n",
              "      <th>edu_level</th>\n",
              "      <th>improve_yourself_how</th>\n",
              "    </tr>\n",
              "  </thead>\n",
              "  <tbody>\n",
              "    <tr>\n",
              "      <th>0</th>\n",
              "      <td>5/17/2016 20:04:18</td>\n",
              "      <td>Male</td>\n",
              "      <td>Straight</td>\n",
              "      <td>35</td>\n",
              "      <td>$30,000 to $39,999</td>\n",
              "      <td>White non-Hispanic</td>\n",
              "      <td>Normal weight</td>\n",
              "      <td>Yes</td>\n",
              "      <td>No</td>\n",
              "      <td>No</td>\n",
              "      <td>0.0</td>\n",
              "      <td>Yes</td>\n",
              "      <td>Yes</td>\n",
              "      <td>wingman/wingwoman, Set me up with a date</td>\n",
              "      <td>Yes</td>\n",
              "      <td>Employed for wages</td>\n",
              "      <td>mechanical drafter</td>\n",
              "      <td>Associate degree</td>\n",
              "      <td>None</td>\n",
              "    </tr>\n",
              "    <tr>\n",
              "      <th>1</th>\n",
              "      <td>5/17/2016 20:04:30</td>\n",
              "      <td>Male</td>\n",
              "      <td>Bisexual</td>\n",
              "      <td>21</td>\n",
              "      <td>$1 to $10,000</td>\n",
              "      <td>White non-Hispanic</td>\n",
              "      <td>Underweight</td>\n",
              "      <td>Yes</td>\n",
              "      <td>No</td>\n",
              "      <td>No</td>\n",
              "      <td>0.0</td>\n",
              "      <td>Yes</td>\n",
              "      <td>Yes</td>\n",
              "      <td>wingman/wingwoman, Set me up with a date, date...</td>\n",
              "      <td>No</td>\n",
              "      <td>Out of work and looking for work</td>\n",
              "      <td>-</td>\n",
              "      <td>Some college, no degree</td>\n",
              "      <td>join clubs/socual clubs/meet ups</td>\n",
              "    </tr>\n",
              "    <tr>\n",
              "      <th>2</th>\n",
              "      <td>5/17/2016 20:04:58</td>\n",
              "      <td>Male</td>\n",
              "      <td>Straight</td>\n",
              "      <td>22</td>\n",
              "      <td>$0</td>\n",
              "      <td>White non-Hispanic</td>\n",
              "      <td>Overweight</td>\n",
              "      <td>Yes</td>\n",
              "      <td>No</td>\n",
              "      <td>No</td>\n",
              "      <td>10.0</td>\n",
              "      <td>Yes</td>\n",
              "      <td>Yes</td>\n",
              "      <td>I don't want help</td>\n",
              "      <td>No</td>\n",
              "      <td>Out of work but not currently looking for work</td>\n",
              "      <td>unemployed</td>\n",
              "      <td>Some college, no degree</td>\n",
              "      <td>Other exercise</td>\n",
              "    </tr>\n",
              "    <tr>\n",
              "      <th>3</th>\n",
              "      <td>5/17/2016 20:08:01</td>\n",
              "      <td>Male</td>\n",
              "      <td>Straight</td>\n",
              "      <td>19</td>\n",
              "      <td>$1 to $10,000</td>\n",
              "      <td>White non-Hispanic</td>\n",
              "      <td>Overweight</td>\n",
              "      <td>Yes</td>\n",
              "      <td>Yes</td>\n",
              "      <td>No</td>\n",
              "      <td>8.0</td>\n",
              "      <td>Yes</td>\n",
              "      <td>Yes</td>\n",
              "      <td>date coaching</td>\n",
              "      <td>No</td>\n",
              "      <td>A student</td>\n",
              "      <td>student</td>\n",
              "      <td>Some college, no degree</td>\n",
              "      <td>Joined a gym/go to the gym</td>\n",
              "    </tr>\n",
              "    <tr>\n",
              "      <th>4</th>\n",
              "      <td>5/17/2016 20:08:04</td>\n",
              "      <td>Male</td>\n",
              "      <td>Straight</td>\n",
              "      <td>23</td>\n",
              "      <td>$30,000 to $39,999</td>\n",
              "      <td>White non-Hispanic</td>\n",
              "      <td>Overweight</td>\n",
              "      <td>No</td>\n",
              "      <td>No</td>\n",
              "      <td>Yes and I have</td>\n",
              "      <td>10.0</td>\n",
              "      <td>No</td>\n",
              "      <td>Yes</td>\n",
              "      <td>I don't want help</td>\n",
              "      <td>No</td>\n",
              "      <td>Employed for wages</td>\n",
              "      <td>Factory worker</td>\n",
              "      <td>High school graduate, diploma or the equivalen...</td>\n",
              "      <td>None</td>\n",
              "    </tr>\n",
              "  </tbody>\n",
              "</table>\n",
              "</div>"
            ],
            "text/plain": [
              "                 time gender sexuallity  age              income  \\\n",
              "0  5/17/2016 20:04:18   Male   Straight   35  $30,000 to $39,999   \n",
              "1  5/17/2016 20:04:30   Male   Bisexual   21       $1 to $10,000   \n",
              "2  5/17/2016 20:04:58   Male   Straight   22                  $0   \n",
              "3  5/17/2016 20:08:01   Male   Straight   19       $1 to $10,000   \n",
              "4  5/17/2016 20:08:04   Male   Straight   23  $30,000 to $39,999   \n",
              "\n",
              "                 race     bodyweight virgin prostitution_legal  \\\n",
              "0  White non-Hispanic  Normal weight    Yes                 No   \n",
              "1  White non-Hispanic    Underweight    Yes                 No   \n",
              "2  White non-Hispanic     Overweight    Yes                 No   \n",
              "3  White non-Hispanic     Overweight    Yes                Yes   \n",
              "4  White non-Hispanic     Overweight     No                 No   \n",
              "\n",
              "      pay_for_sex  friends social_fear depressed  \\\n",
              "0              No      0.0         Yes       Yes   \n",
              "1              No      0.0         Yes       Yes   \n",
              "2              No     10.0         Yes       Yes   \n",
              "3              No      8.0         Yes       Yes   \n",
              "4  Yes and I have     10.0          No       Yes   \n",
              "\n",
              "                               what_help_from_others attempt_suicide  \\\n",
              "0           wingman/wingwoman, Set me up with a date             Yes   \n",
              "1  wingman/wingwoman, Set me up with a date, date...              No   \n",
              "2                                  I don't want help              No   \n",
              "3                                      date coaching              No   \n",
              "4                                  I don't want help              No   \n",
              "\n",
              "                                       employment           job_title  \\\n",
              "0                              Employed for wages  mechanical drafter   \n",
              "1                Out of work and looking for work                   -   \n",
              "2  Out of work but not currently looking for work          unemployed   \n",
              "3                                       A student             student   \n",
              "4                              Employed for wages      Factory worker   \n",
              "\n",
              "                                           edu_level  \\\n",
              "0                                   Associate degree   \n",
              "1                            Some college, no degree   \n",
              "2                            Some college, no degree   \n",
              "3                            Some college, no degree   \n",
              "4  High school graduate, diploma or the equivalen...   \n",
              "\n",
              "               improve_yourself_how  \n",
              "0                              None  \n",
              "1  join clubs/socual clubs/meet ups  \n",
              "2                    Other exercise  \n",
              "3        Joined a gym/go to the gym  \n",
              "4                              None  "
            ]
          },
          "execution_count": 5,
          "metadata": {
            "tags": []
          },
          "output_type": "execute_result"
        }
      ],
      "source": [
        "df.head()"
      ]
    },
    {
      "cell_type": "code",
      "execution_count": null,
      "metadata": {
        "colab": {
          "base_uri": "https://localhost:8080/",
          "height": 425
        },
        "id": "4-QRev2HlKZ-",
        "outputId": "bffa0269-5eb0-4f7e-e15e-9b5fdda81e7f"
      },
      "outputs": [
        {
          "name": "stdout",
          "output_type": "stream",
          "text": [
            "<class 'pandas.core.frame.DataFrame'>\n",
            "RangeIndex: 469 entries, 0 to 468\n",
            "Data columns (total 19 columns):\n",
            "time                     469 non-null object\n",
            "gender                   469 non-null object\n",
            "sexuallity               469 non-null object\n",
            "age                      469 non-null int64\n",
            "income                   469 non-null object\n",
            "race                     469 non-null object\n",
            "bodyweight               469 non-null object\n",
            "virgin                   469 non-null object\n",
            "prostitution_legal       469 non-null object\n",
            "pay_for_sex              469 non-null object\n",
            "friends                  469 non-null float64\n",
            "social_fear              469 non-null object\n",
            "depressed                469 non-null object\n",
            "what_help_from_others    469 non-null object\n",
            "attempt_suicide          469 non-null object\n",
            "employment               469 non-null object\n",
            "job_title                457 non-null object\n",
            "edu_level                469 non-null object\n",
            "improve_yourself_how     469 non-null object\n",
            "dtypes: float64(1), int64(1), object(17)\n",
            "memory usage: 69.7+ KB\n"
          ]
        }
      ],
      "source": [
        "df.info()"
      ]
    },
    {
      "cell_type": "code",
      "execution_count": null,
      "metadata": {
        "colab": {
          "base_uri": "https://localhost:8080/",
          "height": 297
        },
        "id": "IAGU2U_foW8p",
        "outputId": "458f7e55-a083-4a8a-bedf-2b175428e762"
      },
      "outputs": [
        {
          "data": {
            "text/html": [
              "<div>\n",
              "<style scoped>\n",
              "    .dataframe tbody tr th:only-of-type {\n",
              "        vertical-align: middle;\n",
              "    }\n",
              "\n",
              "    .dataframe tbody tr th {\n",
              "        vertical-align: top;\n",
              "    }\n",
              "\n",
              "    .dataframe thead th {\n",
              "        text-align: right;\n",
              "    }\n",
              "</style>\n",
              "<table border=\"1\" class=\"dataframe\">\n",
              "  <thead>\n",
              "    <tr style=\"text-align: right;\">\n",
              "      <th></th>\n",
              "      <th>age</th>\n",
              "      <th>friends</th>\n",
              "    </tr>\n",
              "  </thead>\n",
              "  <tbody>\n",
              "    <tr>\n",
              "      <th>count</th>\n",
              "      <td>469.000000</td>\n",
              "      <td>469.000000</td>\n",
              "    </tr>\n",
              "    <tr>\n",
              "      <th>mean</th>\n",
              "      <td>23.963753</td>\n",
              "      <td>7.956716</td>\n",
              "    </tr>\n",
              "    <tr>\n",
              "      <th>std</th>\n",
              "      <td>6.023526</td>\n",
              "      <td>34.371500</td>\n",
              "    </tr>\n",
              "    <tr>\n",
              "      <th>min</th>\n",
              "      <td>12.000000</td>\n",
              "      <td>0.000000</td>\n",
              "    </tr>\n",
              "    <tr>\n",
              "      <th>25%</th>\n",
              "      <td>20.000000</td>\n",
              "      <td>1.000000</td>\n",
              "    </tr>\n",
              "    <tr>\n",
              "      <th>50%</th>\n",
              "      <td>23.000000</td>\n",
              "      <td>3.000000</td>\n",
              "    </tr>\n",
              "    <tr>\n",
              "      <th>75%</th>\n",
              "      <td>26.000000</td>\n",
              "      <td>7.000000</td>\n",
              "    </tr>\n",
              "    <tr>\n",
              "      <th>max</th>\n",
              "      <td>70.000000</td>\n",
              "      <td>600.000000</td>\n",
              "    </tr>\n",
              "  </tbody>\n",
              "</table>\n",
              "</div>"
            ],
            "text/plain": [
              "              age     friends\n",
              "count  469.000000  469.000000\n",
              "mean    23.963753    7.956716\n",
              "std      6.023526   34.371500\n",
              "min     12.000000    0.000000\n",
              "25%     20.000000    1.000000\n",
              "50%     23.000000    3.000000\n",
              "75%     26.000000    7.000000\n",
              "max     70.000000  600.000000"
            ]
          },
          "execution_count": 7,
          "metadata": {
            "tags": []
          },
          "output_type": "execute_result"
        }
      ],
      "source": [
        "df.describe()"
      ]
    },
    {
      "cell_type": "markdown",
      "metadata": {
        "id": "yeeq5pUyWAZh"
      },
      "source": [
        "## Check for any duplicates present in the dataFrame"
      ]
    },
    {
      "cell_type": "code",
      "execution_count": null,
      "metadata": {
        "colab": {
          "base_uri": "https://localhost:8080/",
          "height": 34
        },
        "id": "JzXGrXM6ogk7",
        "outputId": "1c5c69c8-b2e8-4053-d97c-9c06540e0881"
      },
      "outputs": [
        {
          "data": {
            "text/plain": [
              "False"
            ]
          },
          "execution_count": 8,
          "metadata": {
            "tags": []
          },
          "output_type": "execute_result"
        }
      ],
      "source": [
        "df.duplicated().any()"
      ]
    },
    {
      "cell_type": "markdown",
      "metadata": {
        "id": "0lM0J6cjWHl1"
      },
      "source": [
        "## False indicates no duplicate records present"
      ]
    },
    {
      "cell_type": "markdown",
      "metadata": {
        "id": "bE-k97TJWQ3D"
      },
      "source": [
        "## Check for any null values in the dataFrame"
      ]
    },
    {
      "cell_type": "code",
      "execution_count": null,
      "metadata": {
        "colab": {
          "base_uri": "https://localhost:8080/",
          "height": 357
        },
        "id": "FyKMBXMuouEY",
        "outputId": "0e41b983-5cb8-47b0-c1bd-767a11b39487"
      },
      "outputs": [
        {
          "data": {
            "text/plain": [
              "time                     False\n",
              "gender                   False\n",
              "sexuallity               False\n",
              "age                      False\n",
              "income                   False\n",
              "race                     False\n",
              "bodyweight               False\n",
              "virgin                   False\n",
              "prostitution_legal       False\n",
              "pay_for_sex              False\n",
              "friends                  False\n",
              "social_fear              False\n",
              "depressed                False\n",
              "what_help_from_others    False\n",
              "attempt_suicide          False\n",
              "employment               False\n",
              "job_title                 True\n",
              "edu_level                False\n",
              "improve_yourself_how     False\n",
              "dtype: bool"
            ]
          },
          "execution_count": 9,
          "metadata": {
            "tags": []
          },
          "output_type": "execute_result"
        }
      ],
      "source": [
        "df.isna().any()"
      ]
    },
    {
      "cell_type": "markdown",
      "metadata": {
        "id": "1rBr8SIsWy1Z"
      },
      "source": [
        "## Count of each distinct job_title"
      ]
    },
    {
      "cell_type": "code",
      "execution_count": null,
      "metadata": {
        "colab": {
          "base_uri": "https://localhost:8080/",
          "height": 1071
        },
        "id": "f0gduSQpoyPe",
        "outputId": "4bbb4411-161e-4dc7-ed86-a1b86c1f0149"
      },
      "outputs": [
        {
          "data": {
            "text/plain": [
              "Student                                                         50\n",
              "student                                                         25\n",
              "none                                                            17\n",
              "None                                                            12\n",
              "Unemployed                                                      11\n",
              "Engineer                                                         9\n",
              "Student                                                          7\n",
              ".                                                                6\n",
              "-                                                                6\n",
              "Intern                                                           5\n",
              "Software Engineer                                                5\n",
              "Cashier                                                          4\n",
              "na                                                               4\n",
              "Nothing                                                          4\n",
              "engineer                                                         3\n",
              "Software developer                                               3\n",
              "NEET                                                             3\n",
              "Clerk                                                            3\n",
              "Software Developer                                               3\n",
              "Janitor                                                          2\n",
              "N/a                                                              2\n",
              "Designer                                                         2\n",
              "Accountant                                                       2\n",
              "Courier                                                          2\n",
              "Auditor                                                          2\n",
              "Loser                                                            2\n",
              "unemployed                                                       2\n",
              "IT                                                               2\n",
              "Manager                                                          2\n",
              "Unemployed                                                       2\n",
              "                                                                ..\n",
              "Senior Developer                                                 1\n",
              "Funemployed                                                      1\n",
              "Librarian                                                        1\n",
              "i/t support                                                      1\n",
              "What?                                                            1\n",
              "mechanic                                                         1\n",
              "Research Associate                                               1\n",
              "Storekeeper                                                      1\n",
              "Professional NEET                                                1\n",
              "business representative (have in mind that I am from Poland)     1\n",
              "Junkie                                                           1\n",
              "clerk                                                            1\n",
              "teacher                                                          1\n",
              "self employed                                                    1\n",
              "out of work                                                      1\n",
              "Worker                                                           1\n",
              "Iternent peagogue                                                1\n",
              "Usher                                                            1\n",
              "---                                                              1\n",
              "Press operator                                                   1\n",
              "Developer                                                        1\n",
              "Lawyer                                                           1\n",
              "CGMA Sudent                                                      1\n",
              "Delivery manager                                                 1\n",
              "Undergraduate                                                    1\n",
              "useless                                                          1\n",
              "Peon                                                             1\n",
              "RN                                                               1\n",
              "user-carer                                                       1\n",
              "production engineer                                              1\n",
              "Name: job_title, Length: 275, dtype: int64"
            ]
          },
          "execution_count": 10,
          "metadata": {
            "tags": []
          },
          "output_type": "execute_result"
        }
      ],
      "source": [
        "df.job_title.value_counts()"
      ]
    },
    {
      "cell_type": "code",
      "execution_count": null,
      "metadata": {
        "collapsed": true,
        "id": "0vmTRZ9eXGPh"
      },
      "outputs": [],
      "source": [
        ""
      ]
    },
    {
      "cell_type": "markdown",
      "metadata": {
        "id": "lklRYacGXGqd"
      },
      "source": [
        "## Check info about type of each feature"
      ]
    },
    {
      "cell_type": "code",
      "execution_count": null,
      "metadata": {
        "collapsed": true,
        "id": "Wv5EZVRQXBRc"
      },
      "outputs": [],
      "source": [
        "df.info()"
      ]
    },
    {
      "cell_type": "markdown",
      "metadata": {
        "id": "BwvIXKXRXPk2"
      },
      "source": [
        "## We observe that datatype of friends is in float. number of friends cannot be in float. Therefore converting it to int data type is necessary."
      ]
    },
    {
      "cell_type": "code",
      "execution_count": null,
      "metadata": {
        "collapsed": true,
        "id": "UZ8Xq2EHo5mf"
      },
      "outputs": [],
      "source": [
        "# change dataype to int\n",
        "df['friends'] = df['friends'].astype(np.int64)"
      ]
    },
    {
      "cell_type": "markdown",
      "metadata": {
        "id": "aVg7p0_6XliK"
      },
      "source": [
        "## Check again if the modification done on friends column is successfully done"
      ]
    },
    {
      "cell_type": "code",
      "execution_count": null,
      "metadata": {
        "colab": {
          "base_uri": "https://localhost:8080/",
          "height": 425
        },
        "id": "yt4FmiHxQ_14",
        "outputId": "f7968e71-16ce-4882-8bc9-0307023dee64"
      },
      "outputs": [
        {
          "name": "stdout",
          "output_type": "stream",
          "text": [
            "<class 'pandas.core.frame.DataFrame'>\n",
            "RangeIndex: 469 entries, 0 to 468\n",
            "Data columns (total 19 columns):\n",
            "time                     469 non-null object\n",
            "gender                   469 non-null object\n",
            "sexuallity               469 non-null object\n",
            "age                      469 non-null int64\n",
            "income                   469 non-null object\n",
            "race                     469 non-null object\n",
            "bodyweight               469 non-null object\n",
            "virgin                   469 non-null object\n",
            "prostitution_legal       469 non-null object\n",
            "pay_for_sex              469 non-null object\n",
            "friends                  469 non-null int64\n",
            "social_fear              469 non-null object\n",
            "depressed                469 non-null object\n",
            "what_help_from_others    469 non-null object\n",
            "attempt_suicide          469 non-null object\n",
            "employment               469 non-null object\n",
            "job_title                457 non-null object\n",
            "edu_level                469 non-null object\n",
            "improve_yourself_how     469 non-null object\n",
            "dtypes: int64(2), object(17)\n",
            "memory usage: 69.7+ KB\n"
          ]
        }
      ],
      "source": [
        "df.info()"
      ]
    },
    {
      "cell_type": "markdown",
      "metadata": {
        "id": "OFOSxJe5Xxnk"
      },
      "source": [
        "##Droping rows which consists of null values"
      ]
    },
    {
      "cell_type": "code",
      "execution_count": null,
      "metadata": {
        "collapsed": true,
        "id": "6eX5PykoRA8S"
      },
      "outputs": [],
      "source": [
        "df.dropna(inplace=True)"
      ]
    },
    {
      "cell_type": "markdown",
      "metadata": {
        "id": "Z2d6zZJSX5Vy"
      },
      "source": [
        "## Conforming again if any null values are present"
      ]
    },
    {
      "cell_type": "code",
      "execution_count": null,
      "metadata": {
        "colab": {
          "base_uri": "https://localhost:8080/",
          "height": 357
        },
        "id": "sps8Qk3FRXBa",
        "outputId": "34f043a6-d226-4251-e4e7-e6d58da82a99"
      },
      "outputs": [
        {
          "data": {
            "text/plain": [
              "time                     False\n",
              "gender                   False\n",
              "sexuallity               False\n",
              "age                      False\n",
              "income                   False\n",
              "race                     False\n",
              "bodyweight               False\n",
              "virgin                   False\n",
              "prostitution_legal       False\n",
              "pay_for_sex              False\n",
              "friends                  False\n",
              "social_fear              False\n",
              "depressed                False\n",
              "what_help_from_others    False\n",
              "attempt_suicide          False\n",
              "employment               False\n",
              "job_title                False\n",
              "edu_level                False\n",
              "improve_yourself_how     False\n",
              "dtype: bool"
            ]
          },
          "execution_count": 14,
          "metadata": {
            "tags": []
          },
          "output_type": "execute_result"
        }
      ],
      "source": [
        "df.isna().any()"
      ]
    },
    {
      "cell_type": "code",
      "execution_count": null,
      "metadata": {
        "collapsed": true,
        "id": "_ORTWsqeRaB-"
      },
      "outputs": [],
      "source": [
        "# strip stings with white space\n",
        "df['job_title'] = df.job_title.str.strip()"
      ]
    },
    {
      "cell_type": "markdown",
      "metadata": {
        "id": "rvrWpro7cGSB"
      },
      "source": [
        "### Function to replace job_title values to make them consistent and standardizing values for example student as Student for every record. Othervise two unique values will be used like student and Student which are same but model will consider them as two distinct *values*."
      ]
    },
    {
      "cell_type": "code",
      "execution_count": null,
      "metadata": {
        "collapsed": true,
        "id": "m_6HDRH0Rv-m"
      },
      "outputs": [],
      "source": [
        "# Function to replace job_title values\n",
        "def replace_text(what, to):\n",
        "    df.replace(what, to, inplace= True)"
      ]
    },
    {
      "cell_type": "markdown",
      "metadata": {
        "id": "_48nYYAoc7YQ"
      },
      "source": [
        "## Call replace_text function tostandardize values across multiple columns"
      ]
    },
    {
      "cell_type": "code",
      "execution_count": null,
      "metadata": {
        "collapsed": true,
        "id": "dIWMIJA2RzO4"
      },
      "outputs": [],
      "source": [
        "replace_text('student', 'Student')\n",
        "replace_text('none', 'None')\n",
        "replace_text(\"N/a\", 'None')\n",
        "replace_text('na', 'None')\n",
        "replace_text('-', 'None')\n",
        "replace_text('.', 'None')\n",
        "replace_text('*', 'None')\n",
        "replace_text('ggg', 'None')"
      ]
    },
    {
      "cell_type": "code",
      "execution_count": null,
      "metadata": {
        "colab": {
          "base_uri": "https://localhost:8080/",
          "height": 1071
        },
        "id": "C6z5ZLVMR4C3",
        "outputId": "4746c41d-05f8-4b3e-a376-d883cd40a180"
      },
      "outputs": [
        {
          "data": {
            "text/plain": [
              "Student                         82\n",
              "None                            51\n",
              "Unemployed                      13\n",
              "Engineer                         9\n",
              "Software Engineer                6\n",
              "Intern                           5\n",
              "Nothing                          4\n",
              "Software developer               4\n",
              "Cashier                          4\n",
              "Teacher                          3\n",
              "Software Developer               3\n",
              "Clerk                            3\n",
              "engineer                         3\n",
              "Technician                       3\n",
              "NEET                             3\n",
              "Designer                         2\n",
              "nothing                          2\n",
              "Grad student                     2\n",
              "Accountant                       2\n",
              "Courier                          2\n",
              "Manager                          2\n",
              "Auditor                          2\n",
              "Research assistant               2\n",
              "Janitor                          2\n",
              "Sales                            2\n",
              "Consultant                       2\n",
              "IT                               2\n",
              "Admin                            2\n",
              "loser                            2\n",
              "Loser                            2\n",
              "                                ..\n",
              "University Student               1\n",
              "Home Depot order fulfillment     1\n",
              "useless                          1\n",
              "artist                           1\n",
              "System Analyst Associate         1\n",
              "Research Associate               1\n",
              "Storekeeper                      1\n",
              "Professional NEET                1\n",
              "real estate                      1\n",
              "Lawyer                           1\n",
              "Junkie                           1\n",
              "clerk                            1\n",
              "teacher                          1\n",
              "self employed                    1\n",
              "out of work                      1\n",
              "Worker                           1\n",
              "Iternent peagogue                1\n",
              "---                              1\n",
              "Press operator                   1\n",
              "Developer                        1\n",
              "Cinema Student                   1\n",
              "CGMA Sudent                      1\n",
              "Delivery manager                 1\n",
              "Undergraduate                    1\n",
              "Ceo                              1\n",
              "Peon                             1\n",
              "RN                               1\n",
              "user-carer                       1\n",
              "Senior Developer                 1\n",
              "customer service                 1\n",
              "Name: job_title, Length: 258, dtype: int64"
            ]
          },
          "execution_count": 18,
          "metadata": {
            "tags": []
          },
          "output_type": "execute_result"
        }
      ],
      "source": [
        "df.job_title.value_counts()"
      ]
    },
    {
      "cell_type": "markdown",
      "metadata": {
        "id": "V5UQyrbqd28w"
      },
      "source": [
        "## Statistics of Gender column"
      ]
    },
    {
      "cell_type": "code",
      "execution_count": null,
      "metadata": {
        "colab": {
          "base_uri": "https://localhost:8080/",
          "height": 102
        },
        "id": "379AKqssR-Lu",
        "outputId": "7ec9460a-877c-4bd8-a3e7-255f3afe7fee"
      },
      "outputs": [
        {
          "data": {
            "text/plain": [
              "Male                  382\n",
              "Female                 72\n",
              "Transgender male        2\n",
              "Transgender female      1\n",
              "Name: gender, dtype: int64"
            ]
          },
          "execution_count": 19,
          "metadata": {
            "tags": []
          },
          "output_type": "execute_result"
        }
      ],
      "source": [
        "df.gender.value_counts()"
      ]
    },
    {
      "cell_type": "markdown",
      "metadata": {
        "id": "4AamW1Apdt1Y"
      },
      "source": [
        "## Visualizing Gender Frequency"
      ]
    },
    {
      "cell_type": "code",
      "execution_count": null,
      "metadata": {
        "colab": {
          "base_uri": "https://localhost:8080/",
          "height": 452
        },
        "id": "CQVlv3IbSZFc",
        "outputId": "cfcbce3a-54bf-42cc-f2ea-302a3509ea32"
      },
      "outputs": [
        {
          "data": {
            "image/png": "[encoded data removed]",
            "text/plain": [
              "<Figure size 640x480 with 1 Axes>"
            ]
          },
          "metadata": {
            "tags": []
          },
          "output_type": "display_data"
        }
      ],
      "source": [
        "import matplotlib.pyplot as plt; plt.rcdefaults()\n",
        "import numpy as np\n",
        "import matplotlib.pyplot as plt\n",
        "\n",
        "objects = ('Male', 'Female', 'Transgender Male', 'Transgender Female')\n",
        "y_pos = np.arange(len(objects))\n",
        "performance = df.gender.value_counts()\n",
        "\n",
        "plt.bar(y_pos, performance, align='center', alpha=0.5)\n",
        "plt.xticks(y_pos, objects)\n",
        "plt.ylabel('Count')\n",
        "plt.title('Gender Frequency')\n",
        "\n",
        "plt.show()"
      ]
    },
    {
      "cell_type": "markdown",
      "metadata": {
        "id": "7JmFh2qbd8m5"
      },
      "source": [
        "## Statistics of sexuality column"
      ]
    },
    {
      "cell_type": "code",
      "execution_count": null,
      "metadata": {
        "colab": {
          "base_uri": "https://localhost:8080/",
          "height": 85
        },
        "id": "65WUqhbOU5r9",
        "outputId": "578522e9-5b14-4452-8357-27efe55174b4"
      },
      "outputs": [
        {
          "data": {
            "text/plain": [
              "Straight       404\n",
              "Bisexual        45\n",
              "Gay/Lesbian      8\n",
              "Name: sexuallity, dtype: int64"
            ]
          },
          "execution_count": 21,
          "metadata": {
            "tags": []
          },
          "output_type": "execute_result"
        }
      ],
      "source": [
        "# sexuality freqency\n",
        "\n",
        "df.sexuallity.value_counts()"
      ]
    },
    {
      "cell_type": "markdown",
      "metadata": {
        "id": "eyDjD4nhmBHk"
      },
      "source": [
        "## Visualizing satistics of column sexuality"
      ]
    },
    {
      "cell_type": "code",
      "execution_count": null,
      "metadata": {
        "colab": {
          "base_uri": "https://localhost:8080/",
          "height": 452
        },
        "id": "L38-SAe7WFB_",
        "outputId": "567d0784-7ebf-45b4-8602-9cdfdc10a746"
      },
      "outputs": [
        {
          "data": {
            "image/png": "[encoded data removed]",
            "text/plain": [
              "<Figure size 640x480 with 1 Axes>"
            ]
          },
          "metadata": {
            "tags": []
          },
          "output_type": "display_data"
        }
      ],
      "source": [
        "objects = ('Straight', 'Bisexual','Gay/Lesbian')\n",
        "y_pos = np.arange(len(objects))\n",
        "performance = df.sexuallity.value_counts()\n",
        "plt.bar(y_pos, performance, align='center', alpha=0.5)\n",
        "plt.xticks(y_pos, objects)\n",
        "plt.ylabel('Count')\n",
        "plt.title('Sexuality Frequency')\n",
        "\n",
        "plt.show()"
      ]
    },
    {
      "cell_type": "markdown",
      "metadata": {
        "id": "6hNpvtUtmPJi"
      },
      "source": [
        "## BodyWeight Column Statistics"
      ]
    },
    {
      "cell_type": "code",
      "execution_count": null,
      "metadata": {
        "colab": {
          "base_uri": "https://localhost:8080/",
          "height": 102
        },
        "id": "mw23nVKpXHHM",
        "outputId": "74281b46-ec1b-4398-ccc8-a2526a121085"
      },
      "outputs": [
        {
          "data": {
            "text/plain": [
              "Normal weight    265\n",
              "Overweight       110\n",
              "Underweight       57\n",
              "Obese             25\n",
              "Name: bodyweight, dtype: int64"
            ]
          },
          "execution_count": 23,
          "metadata": {
            "tags": []
          },
          "output_type": "execute_result"
        }
      ],
      "source": [
        "# body weight\n",
        "\n",
        "df.bodyweight.value_counts()"
      ]
    },
    {
      "cell_type": "markdown",
      "metadata": {
        "id": "t-40XeGomdfa"
      },
      "source": [
        "## Visualizing the Bodyweigt column frequency"
      ]
    },
    {
      "cell_type": "code",
      "execution_count": null,
      "metadata": {
        "colab": {
          "base_uri": "https://localhost:8080/",
          "height": 452
        },
        "id": "v66sFDuTXomB",
        "outputId": "46f6b8f0-b224-4b54-c56d-33cbac56625b"
      },
      "outputs": [
        {
          "data": {
            "image/png": "[encoded data removed]",
            "text/plain": [
              "<Figure size 640x480 with 1 Axes>"
            ]
          },
          "metadata": {
            "tags": []
          },
          "output_type": "display_data"
        }
      ],
      "source": [
        "objects = ('Normal weight', 'Overweight','Underweight','Obese')\n",
        "y_pos = np.arange(len(objects))\n",
        "performance = df.bodyweight.value_counts()\n",
        "plt.bar(y_pos, performance, align='center', alpha=0.5)\n",
        "plt.xticks(y_pos, objects)\n",
        "plt.ylabel('Count')\n",
        "plt.title('bodyweight Frequency')\n",
        "plt.show()"
      ]
    },
    {
      "cell_type": "code",
      "execution_count": null,
      "metadata": {
        "colab": {
          "base_uri": "https://localhost:8080/",
          "height": 68
        },
        "id": "M-GskN_qfGkk",
        "outputId": "1ad8f5df-df2b-4fbd-ca1a-dda59d25ea20"
      },
      "outputs": [
        {
          "data": {
            "text/plain": [
              "Yes    303\n",
              "No     154\n",
              "Name: depressed, dtype: int64"
            ]
          },
          "execution_count": 25,
          "metadata": {
            "tags": []
          },
          "output_type": "execute_result"
        }
      ],
      "source": [
        "# depressed\n",
        "\n",
        "df.depressed.value_counts()"
      ]
    },
    {
      "cell_type": "code",
      "execution_count": null,
      "metadata": {
        "colab": {
          "base_uri": "https://localhost:8080/",
          "height": 452
        },
        "id": "k84YuKM5adGh",
        "outputId": "7f70fe78-aeb4-47a9-d7bc-545017db4a16"
      },
      "outputs": [
        {
          "data": {
            "image/png": "[encoded data removed]",
            "text/plain": [
              "<Figure size 640x480 with 1 Axes>"
            ]
          },
          "metadata": {
            "tags": []
          },
          "output_type": "display_data"
        }
      ],
      "source": [
        "objects = ('Yes', 'No')\n",
        "y_pos = np.arange(len(objects))\n",
        "performance = df.depressed.value_counts()\n",
        "plt.bar(y_pos, performance, align='center', alpha=0.5)\n",
        "plt.xticks(y_pos, objects)\n",
        "plt.ylabel('Count')\n",
        "plt.title('depressed Frequency')\n",
        "plt.show()"
      ]
    },
    {
      "cell_type": "code",
      "execution_count": null,
      "metadata": {
        "colab": {
          "base_uri": "https://localhost:8080/",
          "height": 68
        },
        "id": "v_Ykzs6MfSg3",
        "outputId": "0dc4fa1f-6021-47bf-c205-23640b549cf8"
      },
      "outputs": [
        {
          "data": {
            "text/plain": [
              "Yes    297\n",
              "No     160\n",
              "Name: social_fear, dtype: int64"
            ]
          },
          "execution_count": 27,
          "metadata": {
            "tags": []
          },
          "output_type": "execute_result"
        }
      ],
      "source": [
        "df.social_fear.value_counts()"
      ]
    },
    {
      "cell_type": "code",
      "execution_count": null,
      "metadata": {
        "colab": {
          "base_uri": "https://localhost:8080/",
          "height": 452
        },
        "id": "f8cLLnxVfzch",
        "outputId": "3536a35b-c8dd-484e-a8d0-9c834f2f1add"
      },
      "outputs": [
        {
          "data": {
            "image/png": "[encoded data removed]",
            "text/plain": [
              "<Figure size 640x480 with 1 Axes>"
            ]
          },
          "metadata": {
            "tags": []
          },
          "output_type": "display_data"
        }
      ],
      "source": [
        "objects = ('Yes', 'No')\n",
        "y_pos = np.arange(len(objects))\n",
        "performance = df.depressed.value_counts()\n",
        "plt.bar(y_pos, performance, align='center', alpha=0.5)\n",
        "plt.xticks(y_pos, objects)\n",
        "plt.ylabel('Count')\n",
        "plt.title('social_fear Frequency')\n",
        "plt.show()"
      ]
    },
    {
      "cell_type": "markdown",
      "metadata": {
        "id": "r8J27ypP5tEq"
      },
      "source": [
        "# Attempt Suicide Frequency statistics"
      ]
    },
    {
      "cell_type": "code",
      "execution_count": null,
      "metadata": {
        "colab": {
          "base_uri": "https://localhost:8080/",
          "height": 68
        },
        "id": "shubnvWWf6U4",
        "outputId": "3f3e29be-00b5-4772-fcd9-cd5c730a7271"
      },
      "outputs": [
        {
          "data": {
            "text/plain": [
              "No     372\n",
              "Yes     85\n",
              "Name: attempt_suicide, dtype: int64"
            ]
          },
          "execution_count": 29,
          "metadata": {
            "tags": []
          },
          "output_type": "execute_result"
        }
      ],
      "source": [
        "df.attempt_suicide.value_counts()"
      ]
    },
    {
      "cell_type": "markdown",
      "metadata": {
        "id": "Pl8V4vJKmr6q"
      },
      "source": [
        "## Attempt_suicide column frequency statistics"
      ]
    },
    {
      "cell_type": "code",
      "execution_count": null,
      "metadata": {
        "colab": {
          "base_uri": "https://localhost:8080/",
          "height": 452
        },
        "id": "6EdMz14GgLNr",
        "outputId": "e3685e0f-e2bf-46ea-96c8-6b9cd6c4256e"
      },
      "outputs": [
        {
          "data": {
            "image/png": "[encoded data removed]",
            "text/plain": [
              "<Figure size 640x480 with 1 Axes>"
            ]
          },
          "metadata": {
            "tags": []
          },
          "output_type": "display_data"
        }
      ],
      "source": [
        "objects = ('No', 'Yes')\n",
        "y_pos = np.arange(len(objects))\n",
        "performance = df.attempt_suicide.value_counts()\n",
        "plt.bar(y_pos, performance, align='center', alpha=0.5)\n",
        "plt.xticks(y_pos, objects)\n",
        "plt.ylabel('Count')\n",
        "plt.title('attempt_suicide Frequency')\n",
        "plt.show()"
      ]
    },
    {
      "cell_type": "markdown",
      "metadata": {
        "id": "Mb3-ZepTm0uD"
      },
      "source": [
        "# Visualizing Histogram of various columns in data frame"
      ]
    },
    {
      "cell_type": "code",
      "execution_count": null,
      "metadata": {
        "colab": {
          "base_uri": "https://localhost:8080/",
          "height": 450
        },
        "id": "W_nkL9Z3gRlQ",
        "outputId": "fd76ebbb-3683-4ef1-8ac3-f9c4999c0e46"
      },
      "outputs": [
        {
          "data": {
            "text/plain": [
              "<matplotlib.axes._subplots.AxesSubplot at 0x7f5756676048>"
            ]
          },
          "execution_count": 31,
          "metadata": {
            "tags": []
          },
          "output_type": "execute_result"
        },
        {
          "data": {
            "image/png": "[encoded data removed]",
            "text/plain": [
              "<Figure size 640x480 with 1 Axes>"
            ]
          },
          "metadata": {
            "tags": []
          },
          "output_type": "display_data"
        }
      ],
      "source": [
        "df['age'].hist()"
      ]
    },
    {
      "cell_type": "code",
      "execution_count": null,
      "metadata": {
        "colab": {
          "base_uri": "https://localhost:8080/",
          "height": 450
        },
        "id": "O6TNBao3gXiS",
        "outputId": "100d7094-2b50-46eb-97ca-9f9fafe22c02"
      },
      "outputs": [
        {
          "data": {
            "text/plain": [
              "<matplotlib.axes._subplots.AxesSubplot at 0x7f575661a048>"
            ]
          },
          "execution_count": 32,
          "metadata": {
            "tags": []
          },
          "output_type": "execute_result"
        },
        {
          "data": {
            "image/png": "[encoded data removed]",
            "text/plain": [
              "<Figure size 640x480 with 1 Axes>"
            ]
          },
          "metadata": {
            "tags": []
          },
          "output_type": "display_data"
        }
      ],
      "source": [
        "df['friends'].hist()"
      ]
    },
    {
      "cell_type": "code",
      "execution_count": null,
      "metadata": {
        "collapsed": true,
        "id": "ZliXv6kuc2kO"
      },
      "outputs": [],
      "source": [
        "male = df[df['gender'] == 'Male' ]\n",
        "female = df[df['gender'] == 'Female' ]\n",
        "\n"
      ]
    },
    {
      "cell_type": "code",
      "execution_count": null,
      "metadata": {
        "colab": {
          "base_uri": "https://localhost:8080/",
          "height": 479
        },
        "id": "sif51zsDc3G7",
        "outputId": "d9c99d5b-39d1-4a16-dfea-6d1ecd936073"
      },
      "outputs": [
        {
          "data": {
            "text/html": [
              "<div>\n",
              "<style scoped>\n",
              "    .dataframe tbody tr th:only-of-type {\n",
              "        vertical-align: middle;\n",
              "    }\n",
              "\n",
              "    .dataframe tbody tr th {\n",
              "        vertical-align: top;\n",
              "    }\n",
              "\n",
              "    .dataframe thead th {\n",
              "        text-align: right;\n",
              "    }\n",
              "</style>\n",
              "<table border=\"1\" class=\"dataframe\">\n",
              "  <thead>\n",
              "    <tr style=\"text-align: right;\">\n",
              "      <th></th>\n",
              "      <th>time</th>\n",
              "      <th>gender</th>\n",
              "      <th>sexuallity</th>\n",
              "      <th>age</th>\n",
              "      <th>income</th>\n",
              "      <th>race</th>\n",
              "      <th>bodyweight</th>\n",
              "      <th>virgin</th>\n",
              "      <th>prostitution_legal</th>\n",
              "      <th>pay_for_sex</th>\n",
              "      <th>friends</th>\n",
              "      <th>social_fear</th>\n",
              "      <th>depressed</th>\n",
              "      <th>what_help_from_others</th>\n",
              "      <th>attempt_suicide</th>\n",
              "      <th>employment</th>\n",
              "      <th>job_title</th>\n",
              "      <th>edu_level</th>\n",
              "      <th>improve_yourself_how</th>\n",
              "    </tr>\n",
              "  </thead>\n",
              "  <tbody>\n",
              "    <tr>\n",
              "      <th>0</th>\n",
              "      <td>5/17/2016 20:04:18</td>\n",
              "      <td>Male</td>\n",
              "      <td>Straight</td>\n",
              "      <td>35</td>\n",
              "      <td>$30,000 to $39,999</td>\n",
              "      <td>White non-Hispanic</td>\n",
              "      <td>Normal weight</td>\n",
              "      <td>Yes</td>\n",
              "      <td>No</td>\n",
              "      <td>No</td>\n",
              "      <td>0</td>\n",
              "      <td>Yes</td>\n",
              "      <td>Yes</td>\n",
              "      <td>wingman/wingwoman, Set me up with a date</td>\n",
              "      <td>Yes</td>\n",
              "      <td>Employed for wages</td>\n",
              "      <td>mechanical drafter</td>\n",
              "      <td>Associate degree</td>\n",
              "      <td>None</td>\n",
              "    </tr>\n",
              "    <tr>\n",
              "      <th>1</th>\n",
              "      <td>5/17/2016 20:04:30</td>\n",
              "      <td>Male</td>\n",
              "      <td>Bisexual</td>\n",
              "      <td>21</td>\n",
              "      <td>$1 to $10,000</td>\n",
              "      <td>White non-Hispanic</td>\n",
              "      <td>Underweight</td>\n",
              "      <td>Yes</td>\n",
              "      <td>No</td>\n",
              "      <td>No</td>\n",
              "      <td>0</td>\n",
              "      <td>Yes</td>\n",
              "      <td>Yes</td>\n",
              "      <td>wingman/wingwoman, Set me up with a date, date...</td>\n",
              "      <td>No</td>\n",
              "      <td>Out of work and looking for work</td>\n",
              "      <td>None</td>\n",
              "      <td>Some college, no degree</td>\n",
              "      <td>join clubs/socual clubs/meet ups</td>\n",
              "    </tr>\n",
              "    <tr>\n",
              "      <th>2</th>\n",
              "      <td>5/17/2016 20:04:58</td>\n",
              "      <td>Male</td>\n",
              "      <td>Straight</td>\n",
              "      <td>22</td>\n",
              "      <td>$0</td>\n",
              "      <td>White non-Hispanic</td>\n",
              "      <td>Overweight</td>\n",
              "      <td>Yes</td>\n",
              "      <td>No</td>\n",
              "      <td>No</td>\n",
              "      <td>10</td>\n",
              "      <td>Yes</td>\n",
              "      <td>Yes</td>\n",
              "      <td>I don't want help</td>\n",
              "      <td>No</td>\n",
              "      <td>Out of work but not currently looking for work</td>\n",
              "      <td>unemployed</td>\n",
              "      <td>Some college, no degree</td>\n",
              "      <td>Other exercise</td>\n",
              "    </tr>\n",
              "    <tr>\n",
              "      <th>3</th>\n",
              "      <td>5/17/2016 20:08:01</td>\n",
              "      <td>Male</td>\n",
              "      <td>Straight</td>\n",
              "      <td>19</td>\n",
              "      <td>$1 to $10,000</td>\n",
              "      <td>White non-Hispanic</td>\n",
              "      <td>Overweight</td>\n",
              "      <td>Yes</td>\n",
              "      <td>Yes</td>\n",
              "      <td>No</td>\n",
              "      <td>8</td>\n",
              "      <td>Yes</td>\n",
              "      <td>Yes</td>\n",
              "      <td>date coaching</td>\n",
              "      <td>No</td>\n",
              "      <td>A student</td>\n",
              "      <td>Student</td>\n",
              "      <td>Some college, no degree</td>\n",
              "      <td>Joined a gym/go to the gym</td>\n",
              "    </tr>\n",
              "    <tr>\n",
              "      <th>4</th>\n",
              "      <td>5/17/2016 20:08:04</td>\n",
              "      <td>Male</td>\n",
              "      <td>Straight</td>\n",
              "      <td>23</td>\n",
              "      <td>$30,000 to $39,999</td>\n",
              "      <td>White non-Hispanic</td>\n",
              "      <td>Overweight</td>\n",
              "      <td>No</td>\n",
              "      <td>No</td>\n",
              "      <td>Yes and I have</td>\n",
              "      <td>10</td>\n",
              "      <td>No</td>\n",
              "      <td>Yes</td>\n",
              "      <td>I don't want help</td>\n",
              "      <td>No</td>\n",
              "      <td>Employed for wages</td>\n",
              "      <td>Factory worker</td>\n",
              "      <td>High school graduate, diploma or the equivalen...</td>\n",
              "      <td>None</td>\n",
              "    </tr>\n",
              "  </tbody>\n",
              "</table>\n",
              "</div>"
            ],
            "text/plain": [
              "                 time gender sexuallity  age              income  \\\n",
              "0  5/17/2016 20:04:18   Male   Straight   35  $30,000 to $39,999   \n",
              "1  5/17/2016 20:04:30   Male   Bisexual   21       $1 to $10,000   \n",
              "2  5/17/2016 20:04:58   Male   Straight   22                  $0   \n",
              "3  5/17/2016 20:08:01   Male   Straight   19       $1 to $10,000   \n",
              "4  5/17/2016 20:08:04   Male   Straight   23  $30,000 to $39,999   \n",
              "\n",
              "                 race     bodyweight virgin prostitution_legal  \\\n",
              "0  White non-Hispanic  Normal weight    Yes                 No   \n",
              "1  White non-Hispanic    Underweight    Yes                 No   \n",
              "2  White non-Hispanic     Overweight    Yes                 No   \n",
              "3  White non-Hispanic     Overweight    Yes                Yes   \n",
              "4  White non-Hispanic     Overweight     No                 No   \n",
              "\n",
              "      pay_for_sex  friends social_fear depressed  \\\n",
              "0              No        0         Yes       Yes   \n",
              "1              No        0         Yes       Yes   \n",
              "2              No       10         Yes       Yes   \n",
              "3              No        8         Yes       Yes   \n",
              "4  Yes and I have       10          No       Yes   \n",
              "\n",
              "                               what_help_from_others attempt_suicide  \\\n",
              "0           wingman/wingwoman, Set me up with a date             Yes   \n",
              "1  wingman/wingwoman, Set me up with a date, date...              No   \n",
              "2                                  I don't want help              No   \n",
              "3                                      date coaching              No   \n",
              "4                                  I don't want help              No   \n",
              "\n",
              "                                       employment           job_title  \\\n",
              "0                              Employed for wages  mechanical drafter   \n",
              "1                Out of work and looking for work                None   \n",
              "2  Out of work but not currently looking for work          unemployed   \n",
              "3                                       A student             Student   \n",
              "4                              Employed for wages      Factory worker   \n",
              "\n",
              "                                           edu_level  \\\n",
              "0                                   Associate degree   \n",
              "1                            Some college, no degree   \n",
              "2                            Some college, no degree   \n",
              "3                            Some college, no degree   \n",
              "4  High school graduate, diploma or the equivalen...   \n",
              "\n",
              "               improve_yourself_how  \n",
              "0                              None  \n",
              "1  join clubs/socual clubs/meet ups  \n",
              "2                    Other exercise  \n",
              "3        Joined a gym/go to the gym  \n",
              "4                              None  "
            ]
          },
          "execution_count": 34,
          "metadata": {
            "tags": []
          },
          "output_type": "execute_result"
        }
      ],
      "source": [
        "df.head()"
      ]
    },
    {
      "cell_type": "markdown",
      "metadata": {
        "id": "NJkSzmfEnD5V"
      },
      "source": [
        "## Checking datatypes for each column feature"
      ]
    },
    {
      "cell_type": "code",
      "execution_count": null,
      "metadata": {
        "colab": {
          "base_uri": "https://localhost:8080/",
          "height": 357
        },
        "id": "wDjCoh3qxB_1",
        "outputId": "75970ce1-657b-420e-f216-02312691422b"
      },
      "outputs": [
        {
          "data": {
            "text/plain": [
              "time                     object\n",
              "gender                   object\n",
              "sexuallity               object\n",
              "age                       int64\n",
              "income                   object\n",
              "race                     object\n",
              "bodyweight               object\n",
              "virgin                   object\n",
              "prostitution_legal       object\n",
              "pay_for_sex              object\n",
              "friends                   int64\n",
              "social_fear              object\n",
              "depressed                object\n",
              "what_help_from_others    object\n",
              "attempt_suicide          object\n",
              "employment               object\n",
              "job_title                object\n",
              "edu_level                object\n",
              "improve_yourself_how     object\n",
              "dtype: object"
            ]
          },
          "execution_count": 35,
          "metadata": {
            "tags": []
          },
          "output_type": "execute_result"
        }
      ],
      "source": [
        "df.dtypes"
      ]
    },
    {
      "cell_type": "markdown",
      "metadata": {
        "id": "NwGf7JVYnKnr"
      },
      "source": [
        "# Determining unique entries in features of dataframe"
      ]
    },
    {
      "cell_type": "markdown",
      "metadata": {
        "id": "wh2axHuVnXU5"
      },
      "source": [
        "## This will allow us to conform no discrepancy among records is present"
      ]
    },
    {
      "cell_type": "code",
      "execution_count": null,
      "metadata": {
        "colab": {
          "base_uri": "https://localhost:8080/",
          "height": 34
        },
        "id": "0ViLXwivxFZn",
        "outputId": "6cbd7a7e-953f-486a-b307-438badc7a019"
      },
      "outputs": [
        {
          "data": {
            "text/plain": [
              "array(['Straight', 'Bisexual', 'Gay/Lesbian'], dtype=object)"
            ]
          },
          "execution_count": 36,
          "metadata": {
            "tags": []
          },
          "output_type": "execute_result"
        }
      ],
      "source": [
        "\n",
        "df['sexuallity'].unique()"
      ]
    },
    {
      "cell_type": "code",
      "execution_count": null,
      "metadata": {
        "colab": {
          "base_uri": "https://localhost:8080/",
          "height": 51
        },
        "id": "7Z9SJE3iyLOS",
        "outputId": "e74bd439-2ec2-4db5-dc40-64968b058e7e"
      },
      "outputs": [
        {
          "data": {
            "text/plain": [
              "array(['Male', 'Female', 'Transgender male', 'Transgender female'],\n",
              "      dtype=object)"
            ]
          },
          "execution_count": 37,
          "metadata": {
            "tags": []
          },
          "output_type": "execute_result"
        }
      ],
      "source": [
        "df['gender'].unique()"
      ]
    },
    {
      "cell_type": "code",
      "execution_count": null,
      "metadata": {
        "colab": {
          "base_uri": "https://localhost:8080/",
          "height": 153
        },
        "id": "ycKpVVpLyXUc",
        "outputId": "3d8dc93b-7481-4e24-bd18-382789cf6b9b"
      },
      "outputs": [
        {
          "data": {
            "text/plain": [
              "array(['White non-Hispanic', 'Hispanic (of any race)', 'Asian',\n",
              "       'white and asian', 'caucasian', 'Black', 'Middle Eastern',\n",
              "       'half Arab', 'Pakistani', 'helicopterkin', 'Turkish', 'Indian',\n",
              "       'Native american', 'Mixed', 'mixed', 'Mixed white/asian', 'indian',\n",
              "       'Multi', 'Native American mix', 'North African',\n",
              "       'White and Native American',\n",
              "       'First two answers. Gender is androgyne, not male; sexuality is asexual, not bi.',\n",
              "       'European'], dtype=object)"
            ]
          },
          "execution_count": 38,
          "metadata": {
            "tags": []
          },
          "output_type": "execute_result"
        }
      ],
      "source": [
        "df['race'].unique()"
      ]
    },
    {
      "cell_type": "code",
      "execution_count": null,
      "metadata": {
        "colab": {
          "base_uri": "https://localhost:8080/",
          "height": 51
        },
        "id": "StD4GjqvyeSK",
        "outputId": "69f5c199-a23b-47a7-ed8f-26bad7182e90"
      },
      "outputs": [
        {
          "data": {
            "text/plain": [
              "array(['Normal weight', 'Underweight', 'Overweight', 'Obese'],\n",
              "      dtype=object)"
            ]
          },
          "execution_count": 39,
          "metadata": {
            "tags": []
          },
          "output_type": "execute_result"
        }
      ],
      "source": [
        "df['bodyweight'].unique()"
      ]
    },
    {
      "cell_type": "code",
      "execution_count": null,
      "metadata": {
        "colab": {
          "base_uri": "https://localhost:8080/",
          "height": 34
        },
        "id": "UGeiWdU-yk1B",
        "outputId": "75f738d7-5c39-4e82-b72c-a6fea2e7f8d7"
      },
      "outputs": [
        {
          "data": {
            "text/plain": [
              "array(['Yes', 'No'], dtype=object)"
            ]
          },
          "execution_count": 40,
          "metadata": {
            "tags": []
          },
          "output_type": "execute_result"
        }
      ],
      "source": [
        "df['virgin'].unique()"
      ]
    },
    {
      "cell_type": "code",
      "execution_count": null,
      "metadata": {
        "colab": {
          "base_uri": "https://localhost:8080/",
          "height": 102
        },
        "id": "KWHW4WcayrIr",
        "outputId": "bada319a-feea-46b0-e1fb-435c350d0196"
      },
      "outputs": [
        {
          "data": {
            "text/plain": [
              "array(['$30,000 to $39,999', '$1 to $10,000', '$0', '$50,000 to $74,999',\n",
              "       '$20,000 to $29,999', '$10,000 to $19,999', '$75,000 to $99,999',\n",
              "       '$150,000 to $174,999', '$125,000 to $149,999',\n",
              "       '$100,000 to $124,999', '$174,999 to $199,999',\n",
              "       '$40,000 to $49,999', '$200,000 or more'], dtype=object)"
            ]
          },
          "execution_count": 41,
          "metadata": {
            "tags": []
          },
          "output_type": "execute_result"
        }
      ],
      "source": [
        "df['income'].unique()"
      ]
    },
    {
      "cell_type": "code",
      "execution_count": null,
      "metadata": {
        "colab": {
          "base_uri": "https://localhost:8080/",
          "height": 34
        },
        "id": "abe0lcIf0H4O",
        "outputId": "002d8344-eb66-4348-e79d-c25cf7dec468"
      },
      "outputs": [
        {
          "data": {
            "text/plain": [
              "array(['No', 'Yes'], dtype=object)"
            ]
          },
          "execution_count": 42,
          "metadata": {
            "tags": []
          },
          "output_type": "execute_result"
        }
      ],
      "source": [
        "df['prostitution_legal'].unique()"
      ]
    },
    {
      "cell_type": "code",
      "execution_count": null,
      "metadata": {
        "colab": {
          "base_uri": "https://localhost:8080/",
          "height": 34
        },
        "id": "ecLP54Mt0ICK",
        "outputId": "a90cb262-eee4-4db0-966d-f04c79115d27"
      },
      "outputs": [
        {
          "data": {
            "text/plain": [
              "array(['No', 'Yes and I have', \"Yes but I haven't\"], dtype=object)"
            ]
          },
          "execution_count": 43,
          "metadata": {
            "tags": []
          },
          "output_type": "execute_result"
        }
      ],
      "source": [
        "df['pay_for_sex'].unique()"
      ]
    },
    {
      "cell_type": "code",
      "execution_count": null,
      "metadata": {
        "colab": {
          "base_uri": "https://localhost:8080/",
          "height": 34
        },
        "id": "8BMbbGjZ0IF2",
        "outputId": "18afffbb-3447-497a-b9ff-2116f4f7d572"
      },
      "outputs": [
        {
          "data": {
            "text/plain": [
              "array(['Yes', 'No'], dtype=object)"
            ]
          },
          "execution_count": 44,
          "metadata": {
            "tags": []
          },
          "output_type": "execute_result"
        }
      ],
      "source": [
        "df['depressed'].unique()"
      ]
    },
    {
      "cell_type": "code",
      "execution_count": null,
      "metadata": {
        "colab": {
          "base_uri": "https://localhost:8080/",
          "height": 85
        },
        "id": "ubfWhJOF1MC3",
        "outputId": "b9005312-fa3c-4147-a032-699f61c5c02f"
      },
      "outputs": [
        {
          "data": {
            "text/plain": [
              "array(['Employed for wages', 'Out of work and looking for work',\n",
              "       'Out of work but not currently looking for work', 'A student',\n",
              "       'Unable to work', 'Retired', 'Military', 'Self-employed',\n",
              "       'A homemaker'], dtype=object)"
            ]
          },
          "execution_count": 45,
          "metadata": {
            "tags": []
          },
          "output_type": "execute_result"
        }
      ],
      "source": [
        "df['employment'].unique()"
      ]
    },
    {
      "cell_type": "code",
      "execution_count": null,
      "metadata": {
        "colab": {
          "base_uri": "https://localhost:8080/",
          "height": 102
        },
        "id": "vvo6guCj0IJR",
        "outputId": "5c4390c6-31ee-4a39-89c4-9e50f998ed07"
      },
      "outputs": [
        {
          "data": {
            "text/plain": [
              "array(['Associate degree', 'Some college, no degree',\n",
              "       'High school graduate, diploma or the equivalent (for example: GED)',\n",
              "       'Bachelor’s degree', 'Trade/technical/vocational training',\n",
              "       'Master’s degree', 'Some high school, no diploma',\n",
              "       'Doctorate degree', 'Professional degree'], dtype=object)"
            ]
          },
          "execution_count": 46,
          "metadata": {
            "tags": []
          },
          "output_type": "execute_result"
        }
      ],
      "source": [
        "df['edu_level'].unique()"
      ]
    },
    {
      "cell_type": "code",
      "execution_count": null,
      "metadata": {
        "colab": {
          "base_uri": "https://localhost:8080/",
          "height": 1275
        },
        "id": "VLKbR9zjbo3O",
        "outputId": "99233916-6021-44cf-a2f7-765f49688227"
      },
      "outputs": [
        {
          "data": {
            "text/plain": [
              "array(['mechanical drafter', 'None', 'unemployed', 'Student',\n",
              "       'Factory worker', 'game programmer', 'Janitor', 'Fabricator',\n",
              "       'cashier', 'Software Engineer', 'Nurse', 'Freight associate',\n",
              "       'NEET', 'broker', 'Intern', 'Surveyor', 'Part time computer Tutor',\n",
              "       'Kitchen staff', 'Software Developer', 'Guy', 'none (?)', 'Peon',\n",
              "       'Chef', 'Butcher', 'Medical student, year 4',\n",
              "       'Software full stack developer', 'Junior BA', 'Cinema Student',\n",
              "       'Engineer', 'Iternent peagogue', 'Software developer',\n",
              "       'Admin Assistant', 'Cook', 'Grad student',\n",
              "       'Aviation Electricians Mate', 'Professional NEET', 'Cashier',\n",
              "       'service desk analyst', 'researcher', 'loser', 'store clerk',\n",
              "       'Management', 'Engineering co-op student', 'Supervisor', 'IT',\n",
              "       'Software development', 'bum', 'Grad Student', 'Unemployed',\n",
              "       'IT Technician', 'laborer', 'Product Designer', 'Data entry',\n",
              "       'Sales', 'systems analyst', 'freshman', 'Coder', 'Undergraduate.',\n",
              "       'Medical Services', 'Delivery guy', 'IT operations',\n",
              "       'Intermediate Call Center Representative', 'Call Center Agent',\n",
              "       'Economist', 'Farm hand', 'I have no job', 'Undergraduate',\n",
              "       'Loser', 'Optometric tech', 'Worker',\n",
              "       'Student. Part time web developer?', 'Funemployed', 'i/t support',\n",
              "       'Grunt', 'Nothing', 'Ceo', 'Factory Worker', 'Not employed',\n",
              "       'Popo', 'supervisor', 'super pooper', 'Truck driver', 'user-carer',\n",
              "       'Lawyer', 'retail worker', 'U serious?',\n",
              "       'Senior software developer', 'IT Engineer', 'software engineer',\n",
              "       'Software eng.', 'Admin', 'Senior Developer',\n",
              "       'College student/research intern', 'Sugar baby',\n",
              "       'assistant caretaker', 'Coo', 'Researcher',\n",
              "       'Application Developer', 'Courier', 'Accounts Receivable',\n",
              "       'Zivildiener (austrian stuff)', 'RN', 'Auditor',\n",
              "       'Freelance writer', 'Clerk', 'self employed',\n",
              "       'Operations Manager (i.e. I do what my father tells me to do in our family company).',\n",
              "       'Mechanical engineer', 'Third Manager', 'Flight Attendant',\n",
              "       'Interpreter', 'engineer', 'vehicle prep', 'dunno', 'Accountant',\n",
              "       'Therapy',\n",
              "       'Your survey question design is bad and you should feel bad.',\n",
              "       'useless', 'Philosopher', 'What?', 'Financial Analyst',\n",
              "       'currently unemployed', 'Lifeguard', 'lackey', 'teacher',\n",
              "       'online seller', 'Musician', 'Designer', 'Production Editor',\n",
              "       'Job', 'Bio major', 'System Analyst Associate', 'Delivery manager',\n",
              "       'S', 'Masters', 'nothing', 'Storekeeper', 'Research assistant',\n",
              "       'President', 'Technician', 'Junkie', 'Press operator', 'Cleaner',\n",
              "       '--', 'Manager', 'Web Developpeur', 'Rather not say',\n",
              "       'Warehouse associate', 'Trainee Mechanical Engineer', 'Teacher',\n",
              "       'CGMA Sudent', 'cleaner', 'Architectural Technician', 'Librarian',\n",
              "       'Administrator', 'Undergrad student', 'Call operator',\n",
              "       'Stockroom Assistant', 'Languages', 'clerk', 'Herder', 'designer',\n",
              "       'Administrative Officer', '/', 'Gardener/Student', 'cook',\n",
              "       'Entrepreneur', 'No Job', 'Cst analyst', 'Artist',\n",
              "       'Research Associate', 'Insurance agent.', 'mechanic', 'Programmer',\n",
              "       'student?', 'Sales Associate', 'System Administrator',\n",
              "       'Web desihner', 'Language teacher', 'Sales manager', 'jpo;',\n",
              "       'Data and development', 'Not working', 'Graphic designer', '---',\n",
              "       'Lawm Maintenance', 'University Student', 'Retail', 'college',\n",
              "       'undergraduate', 'Sales clerk', 'Admin assistant', 'Shit kicker',\n",
              "       'postman', 'stocker', 'out of work', 'Developer', 'Stocker',\n",
              "       'Waiter', 'Finance student', 'Not telling', 'tutor', 'Consultant',\n",
              "       'analyst', 'Carer', \"I'm a student\", 'real estate',\n",
              "       'Operations executive', 'law (enforcement) officer', 'no job',\n",
              "       'Student employee', 'Usher', 'Part time paperboy',\n",
              "       'Principal Software Engineer', 'j',\n",
              "       'business representative (have in mind that I am from Poland)',\n",
              "       'no', 'Student (comp sci)', 'production engineer',\n",
              "       'Audit associate', '2nd lieutenant', 'Not Disclosing This',\n",
              "       'Waitress', 'artist', 'Why is this obligatory?',\n",
              "       'High School Senior', 'Student / parttime web developer',\n",
              "       'Disabled', 'Freight Broker', 'Coordinator',\n",
              "       'freelance technical theatre', 'Retail Associate', 'it',\n",
              "       'Administrative Assistant', 'Transport', \"I don't have a job\",\n",
              "       'Marketing', 'Screener', '🌚', 'Program Manager, Non-profit',\n",
              "       'NEET parasite', 'T', 'Account Manager', 'student teacher',\n",
              "       'Guest Advisor', '...', 'customer service', 'Warehouse Associate',\n",
              "       'Terminal worker', 'PA', 'Case Worker',\n",
              "       'Home Depot order fulfillment', 'erdet', 'Boss', 'Consultant IT',\n",
              "       'castor', 'receptionist', 'Scientist'], dtype=object)"
            ]
          },
          "execution_count": 47,
          "metadata": {
            "tags": []
          },
          "output_type": "execute_result"
        }
      ],
      "source": [
        "df['job_title'].unique()"
      ]
    },
    {
      "cell_type": "code",
      "execution_count": null,
      "metadata": {
        "collapsed": true,
        "id": "voys2tD-0IMF"
      },
      "outputs": [],
      "source": [
        "df_new = df"
      ]
    },
    {
      "cell_type": "code",
      "execution_count": null,
      "metadata": {
        "colab": {
          "base_uri": "https://localhost:8080/",
          "height": 479
        },
        "id": "E6AvVLoY0IPN",
        "outputId": "198d4e35-3a1f-4dd1-b8b0-44d9986e919a"
      },
      "outputs": [
        {
          "data": {
            "text/html": [
              "<div>\n",
              "<style scoped>\n",
              "    .dataframe tbody tr th:only-of-type {\n",
              "        vertical-align: middle;\n",
              "    }\n",
              "\n",
              "    .dataframe tbody tr th {\n",
              "        vertical-align: top;\n",
              "    }\n",
              "\n",
              "    .dataframe thead th {\n",
              "        text-align: right;\n",
              "    }\n",
              "</style>\n",
              "<table border=\"1\" class=\"dataframe\">\n",
              "  <thead>\n",
              "    <tr style=\"text-align: right;\">\n",
              "      <th></th>\n",
              "      <th>time</th>\n",
              "      <th>gender</th>\n",
              "      <th>sexuallity</th>\n",
              "      <th>age</th>\n",
              "      <th>income</th>\n",
              "      <th>race</th>\n",
              "      <th>bodyweight</th>\n",
              "      <th>virgin</th>\n",
              "      <th>prostitution_legal</th>\n",
              "      <th>pay_for_sex</th>\n",
              "      <th>friends</th>\n",
              "      <th>social_fear</th>\n",
              "      <th>depressed</th>\n",
              "      <th>what_help_from_others</th>\n",
              "      <th>attempt_suicide</th>\n",
              "      <th>employment</th>\n",
              "      <th>job_title</th>\n",
              "      <th>edu_level</th>\n",
              "      <th>improve_yourself_how</th>\n",
              "    </tr>\n",
              "  </thead>\n",
              "  <tbody>\n",
              "    <tr>\n",
              "      <th>0</th>\n",
              "      <td>5/17/2016 20:04:18</td>\n",
              "      <td>Male</td>\n",
              "      <td>Straight</td>\n",
              "      <td>35</td>\n",
              "      <td>$30,000 to $39,999</td>\n",
              "      <td>White non-Hispanic</td>\n",
              "      <td>Normal weight</td>\n",
              "      <td>Yes</td>\n",
              "      <td>No</td>\n",
              "      <td>No</td>\n",
              "      <td>0</td>\n",
              "      <td>Yes</td>\n",
              "      <td>Yes</td>\n",
              "      <td>wingman/wingwoman, Set me up with a date</td>\n",
              "      <td>Yes</td>\n",
              "      <td>Employed for wages</td>\n",
              "      <td>mechanical drafter</td>\n",
              "      <td>Associate degree</td>\n",
              "      <td>None</td>\n",
              "    </tr>\n",
              "    <tr>\n",
              "      <th>1</th>\n",
              "      <td>5/17/2016 20:04:30</td>\n",
              "      <td>Male</td>\n",
              "      <td>Bisexual</td>\n",
              "      <td>21</td>\n",
              "      <td>$1 to $10,000</td>\n",
              "      <td>White non-Hispanic</td>\n",
              "      <td>Underweight</td>\n",
              "      <td>Yes</td>\n",
              "      <td>No</td>\n",
              "      <td>No</td>\n",
              "      <td>0</td>\n",
              "      <td>Yes</td>\n",
              "      <td>Yes</td>\n",
              "      <td>wingman/wingwoman, Set me up with a date, date...</td>\n",
              "      <td>No</td>\n",
              "      <td>Out of work and looking for work</td>\n",
              "      <td>None</td>\n",
              "      <td>Some college, no degree</td>\n",
              "      <td>join clubs/socual clubs/meet ups</td>\n",
              "    </tr>\n",
              "    <tr>\n",
              "      <th>2</th>\n",
              "      <td>5/17/2016 20:04:58</td>\n",
              "      <td>Male</td>\n",
              "      <td>Straight</td>\n",
              "      <td>22</td>\n",
              "      <td>$0</td>\n",
              "      <td>White non-Hispanic</td>\n",
              "      <td>Overweight</td>\n",
              "      <td>Yes</td>\n",
              "      <td>No</td>\n",
              "      <td>No</td>\n",
              "      <td>10</td>\n",
              "      <td>Yes</td>\n",
              "      <td>Yes</td>\n",
              "      <td>I don't want help</td>\n",
              "      <td>No</td>\n",
              "      <td>Out of work but not currently looking for work</td>\n",
              "      <td>unemployed</td>\n",
              "      <td>Some college, no degree</td>\n",
              "      <td>Other exercise</td>\n",
              "    </tr>\n",
              "    <tr>\n",
              "      <th>3</th>\n",
              "      <td>5/17/2016 20:08:01</td>\n",
              "      <td>Male</td>\n",
              "      <td>Straight</td>\n",
              "      <td>19</td>\n",
              "      <td>$1 to $10,000</td>\n",
              "      <td>White non-Hispanic</td>\n",
              "      <td>Overweight</td>\n",
              "      <td>Yes</td>\n",
              "      <td>Yes</td>\n",
              "      <td>No</td>\n",
              "      <td>8</td>\n",
              "      <td>Yes</td>\n",
              "      <td>Yes</td>\n",
              "      <td>date coaching</td>\n",
              "      <td>No</td>\n",
              "      <td>A student</td>\n",
              "      <td>Student</td>\n",
              "      <td>Some college, no degree</td>\n",
              "      <td>Joined a gym/go to the gym</td>\n",
              "    </tr>\n",
              "    <tr>\n",
              "      <th>4</th>\n",
              "      <td>5/17/2016 20:08:04</td>\n",
              "      <td>Male</td>\n",
              "      <td>Straight</td>\n",
              "      <td>23</td>\n",
              "      <td>$30,000 to $39,999</td>\n",
              "      <td>White non-Hispanic</td>\n",
              "      <td>Overweight</td>\n",
              "      <td>No</td>\n",
              "      <td>No</td>\n",
              "      <td>Yes and I have</td>\n",
              "      <td>10</td>\n",
              "      <td>No</td>\n",
              "      <td>Yes</td>\n",
              "      <td>I don't want help</td>\n",
              "      <td>No</td>\n",
              "      <td>Employed for wages</td>\n",
              "      <td>Factory worker</td>\n",
              "      <td>High school graduate, diploma or the equivalen...</td>\n",
              "      <td>None</td>\n",
              "    </tr>\n",
              "  </tbody>\n",
              "</table>\n",
              "</div>"
            ],
            "text/plain": [
              "                 time gender sexuallity  age              income  \\\n",
              "0  5/17/2016 20:04:18   Male   Straight   35  $30,000 to $39,999   \n",
              "1  5/17/2016 20:04:30   Male   Bisexual   21       $1 to $10,000   \n",
              "2  5/17/2016 20:04:58   Male   Straight   22                  $0   \n",
              "3  5/17/2016 20:08:01   Male   Straight   19       $1 to $10,000   \n",
              "4  5/17/2016 20:08:04   Male   Straight   23  $30,000 to $39,999   \n",
              "\n",
              "                 race     bodyweight virgin prostitution_legal  \\\n",
              "0  White non-Hispanic  Normal weight    Yes                 No   \n",
              "1  White non-Hispanic    Underweight    Yes                 No   \n",
              "2  White non-Hispanic     Overweight    Yes                 No   \n",
              "3  White non-Hispanic     Overweight    Yes                Yes   \n",
              "4  White non-Hispanic     Overweight     No                 No   \n",
              "\n",
              "      pay_for_sex  friends social_fear depressed  \\\n",
              "0              No        0         Yes       Yes   \n",
              "1              No        0         Yes       Yes   \n",
              "2              No       10         Yes       Yes   \n",
              "3              No        8         Yes       Yes   \n",
              "4  Yes and I have       10          No       Yes   \n",
              "\n",
              "                               what_help_from_others attempt_suicide  \\\n",
              "0           wingman/wingwoman, Set me up with a date             Yes   \n",
              "1  wingman/wingwoman, Set me up with a date, date...              No   \n",
              "2                                  I don't want help              No   \n",
              "3                                      date coaching              No   \n",
              "4                                  I don't want help              No   \n",
              "\n",
              "                                       employment           job_title  \\\n",
              "0                              Employed for wages  mechanical drafter   \n",
              "1                Out of work and looking for work                None   \n",
              "2  Out of work but not currently looking for work          unemployed   \n",
              "3                                       A student             Student   \n",
              "4                              Employed for wages      Factory worker   \n",
              "\n",
              "                                           edu_level  \\\n",
              "0                                   Associate degree   \n",
              "1                            Some college, no degree   \n",
              "2                            Some college, no degree   \n",
              "3                            Some college, no degree   \n",
              "4  High school graduate, diploma or the equivalen...   \n",
              "\n",
              "               improve_yourself_how  \n",
              "0                              None  \n",
              "1  join clubs/socual clubs/meet ups  \n",
              "2                    Other exercise  \n",
              "3        Joined a gym/go to the gym  \n",
              "4                              None  "
            ]
          },
          "execution_count": 49,
          "metadata": {
            "tags": []
          },
          "output_type": "execute_result"
        }
      ],
      "source": [
        "df_new.head()"
      ]
    },
    {
      "cell_type": "code",
      "execution_count": null,
      "metadata": {
        "colab": {
          "base_uri": "https://localhost:8080/",
          "height": 734
        },
        "id": "4PDAu7-nEBaN",
        "outputId": "5520d480-d464-4f4d-8e75-c4a19c29afc8"
      },
      "outputs": [
        {
          "data": {
            "text/plain": [
              "array(['wingman/wingwoman, Set me up with a date',\n",
              "       'wingman/wingwoman, Set me up with a date, date coaching',\n",
              "       \"I don't want help\", 'date coaching',\n",
              "       'Set me up with a date, date coaching',\n",
              "       'wingman/wingwoman, date coaching', 'Set me up with a date',\n",
              "       'wingman/wingwoman, Set me up with a date, date coaching, someone to kill.me',\n",
              "       'wingman/wingwoman, someone to hang out with me where I can meet met (e.g. class, free event) and sell me up',\n",
              "       \"wingman/wingwoman, Set me up with a date, I don't want help\",\n",
              "       'wingman/wingwoman',\n",
              "       'wingman/wingwoman, Set me up with a date, date coaching, anything',\n",
              "       'Set me up with a date, Friends ',\n",
              "       \"wingman/wingwoman, Set me up with a date, I don't even know..\",\n",
              "       'Trust', \"date coaching, I don't want help\",\n",
              "       'I want help but I am not sure what kind. I always think it would be nice if a woman would approch me but thats not realistic.',\n",
              "       'fitness coaching',\n",
              "       'wingman/wingwoman, Set me up with a date, Pity fuck',\n",
              "       'Maybe to learn how to be happy', 'Friendship', 'Im on my own',\n",
              "       'help getting a better job', \"I'm not fa lol\",\n",
              "       \"I don't want help, more one night stands\",\n",
              "       'not sure what would help',\n",
              "       'There is no way that they can help. They only give useless advice like \"just be more confident\".',\n",
              "       \"I don't want any help. I can't even talk about it.\", 'Friends',\n",
              "       'coping with being beyond help',\n",
              "       'Money for rehab or sober living home',\n",
              "       'Just want mates that make it look like I fit in',\n",
              "       \"wingman/wingwoman, Set me up with a date, date coaching, I don't really know. Something magical that would make me happy.\",\n",
              "       'wingman/wingwoman, Set me up with a date, date coaching, Therapy, shoulder to cry on',\n",
              "       'date coaching, It would be nice but why would a woman choose me?  There are plenty better',\n",
              "       'therapy',\n",
              "       \"I don't want help, Like, to be seen & treated like a normal person\",\n",
              "       'i lost faith and hope',\n",
              "       'wingman/wingwoman, Set me up with a date, date coaching, Any help',\n",
              "       \"I don't want help, kill me\", 'Emotional support',\n",
              "       'just more friends/greater social life in general tbh',\n",
              "       'Teach me how to talk to people',\n",
              "       \"I don't want help, More general stuff\", \"I don't know\",\n",
              "       'I used to want all of those things. Now it is too late for any of them to make a difference.',\n",
              "       'wingman/wingwoman, Set me up with a date, invite me to shit please',\n",
              "       'I have no idea', \"Set me up with a date, I don't want help\",\n",
              "       \"wingman/wingwoman, Set me up with a date, date coaching, I don't want help\"],\n",
              "      dtype=object)"
            ]
          },
          "execution_count": 50,
          "metadata": {
            "tags": []
          },
          "output_type": "execute_result"
        }
      ],
      "source": [
        "df['what_help_from_others'].unique()"
      ]
    },
    {
      "cell_type": "code",
      "execution_count": null,
      "metadata": {
        "collapsed": true,
        "id": "yhtZeCRJ2kpe"
      },
      "outputs": [],
      "source": [
        "df_new = df_new.drop(columns=['time','what_help_from_others'])"
      ]
    },
    {
      "cell_type": "code",
      "execution_count": null,
      "metadata": {
        "collapsed": true,
        "id": "svZworVXGIlk"
      },
      "outputs": [],
      "source": [
        "df_new = df_new.drop(df_new.index[445])"
      ]
    },
    {
      "cell_type": "code",
      "execution_count": null,
      "metadata": {
        "colab": {
          "base_uri": "https://localhost:8080/",
          "height": 479
        },
        "id": "ROgKsx9WUA8O",
        "outputId": "ac779eed-c833-4f68-c413-5b959781025b"
      },
      "outputs": [
        {
          "data": {
            "text/html": [
              "<div>\n",
              "<style scoped>\n",
              "    .dataframe tbody tr th:only-of-type {\n",
              "        vertical-align: middle;\n",
              "    }\n",
              "\n",
              "    .dataframe tbody tr th {\n",
              "        vertical-align: top;\n",
              "    }\n",
              "\n",
              "    .dataframe thead th {\n",
              "        text-align: right;\n",
              "    }\n",
              "</style>\n",
              "<table border=\"1\" class=\"dataframe\">\n",
              "  <thead>\n",
              "    <tr style=\"text-align: right;\">\n",
              "      <th></th>\n",
              "      <th>gender</th>\n",
              "      <th>sexuallity</th>\n",
              "      <th>age</th>\n",
              "      <th>income</th>\n",
              "      <th>race</th>\n",
              "      <th>bodyweight</th>\n",
              "      <th>virgin</th>\n",
              "      <th>prostitution_legal</th>\n",
              "      <th>pay_for_sex</th>\n",
              "      <th>friends</th>\n",
              "      <th>social_fear</th>\n",
              "      <th>depressed</th>\n",
              "      <th>attempt_suicide</th>\n",
              "      <th>employment</th>\n",
              "      <th>job_title</th>\n",
              "      <th>edu_level</th>\n",
              "      <th>improve_yourself_how</th>\n",
              "    </tr>\n",
              "  </thead>\n",
              "  <tbody>\n",
              "    <tr>\n",
              "      <th>0</th>\n",
              "      <td>Male</td>\n",
              "      <td>Straight</td>\n",
              "      <td>35</td>\n",
              "      <td>$30,000 to $39,999</td>\n",
              "      <td>White non-Hispanic</td>\n",
              "      <td>Normal weight</td>\n",
              "      <td>Yes</td>\n",
              "      <td>No</td>\n",
              "      <td>No</td>\n",
              "      <td>0</td>\n",
              "      <td>Yes</td>\n",
              "      <td>Yes</td>\n",
              "      <td>Yes</td>\n",
              "      <td>Employed for wages</td>\n",
              "      <td>mechanical drafter</td>\n",
              "      <td>Associate degree</td>\n",
              "      <td>None</td>\n",
              "    </tr>\n",
              "    <tr>\n",
              "      <th>1</th>\n",
              "      <td>Male</td>\n",
              "      <td>Bisexual</td>\n",
              "      <td>21</td>\n",
              "      <td>$1 to $10,000</td>\n",
              "      <td>White non-Hispanic</td>\n",
              "      <td>Underweight</td>\n",
              "      <td>Yes</td>\n",
              "      <td>No</td>\n",
              "      <td>No</td>\n",
              "      <td>0</td>\n",
              "      <td>Yes</td>\n",
              "      <td>Yes</td>\n",
              "      <td>No</td>\n",
              "      <td>Out of work and looking for work</td>\n",
              "      <td>None</td>\n",
              "      <td>Some college, no degree</td>\n",
              "      <td>join clubs/socual clubs/meet ups</td>\n",
              "    </tr>\n",
              "    <tr>\n",
              "      <th>2</th>\n",
              "      <td>Male</td>\n",
              "      <td>Straight</td>\n",
              "      <td>22</td>\n",
              "      <td>$0</td>\n",
              "      <td>White non-Hispanic</td>\n",
              "      <td>Overweight</td>\n",
              "      <td>Yes</td>\n",
              "      <td>No</td>\n",
              "      <td>No</td>\n",
              "      <td>10</td>\n",
              "      <td>Yes</td>\n",
              "      <td>Yes</td>\n",
              "      <td>No</td>\n",
              "      <td>Out of work but not currently looking for work</td>\n",
              "      <td>unemployed</td>\n",
              "      <td>Some college, no degree</td>\n",
              "      <td>Other exercise</td>\n",
              "    </tr>\n",
              "    <tr>\n",
              "      <th>3</th>\n",
              "      <td>Male</td>\n",
              "      <td>Straight</td>\n",
              "      <td>19</td>\n",
              "      <td>$1 to $10,000</td>\n",
              "      <td>White non-Hispanic</td>\n",
              "      <td>Overweight</td>\n",
              "      <td>Yes</td>\n",
              "      <td>Yes</td>\n",
              "      <td>No</td>\n",
              "      <td>8</td>\n",
              "      <td>Yes</td>\n",
              "      <td>Yes</td>\n",
              "      <td>No</td>\n",
              "      <td>A student</td>\n",
              "      <td>Student</td>\n",
              "      <td>Some college, no degree</td>\n",
              "      <td>Joined a gym/go to the gym</td>\n",
              "    </tr>\n",
              "    <tr>\n",
              "      <th>4</th>\n",
              "      <td>Male</td>\n",
              "      <td>Straight</td>\n",
              "      <td>23</td>\n",
              "      <td>$30,000 to $39,999</td>\n",
              "      <td>White non-Hispanic</td>\n",
              "      <td>Overweight</td>\n",
              "      <td>No</td>\n",
              "      <td>No</td>\n",
              "      <td>Yes and I have</td>\n",
              "      <td>10</td>\n",
              "      <td>No</td>\n",
              "      <td>Yes</td>\n",
              "      <td>No</td>\n",
              "      <td>Employed for wages</td>\n",
              "      <td>Factory worker</td>\n",
              "      <td>High school graduate, diploma or the equivalen...</td>\n",
              "      <td>None</td>\n",
              "    </tr>\n",
              "  </tbody>\n",
              "</table>\n",
              "</div>"
            ],
            "text/plain": [
              "  gender sexuallity  age              income                race  \\\n",
              "0   Male   Straight   35  $30,000 to $39,999  White non-Hispanic   \n",
              "1   Male   Bisexual   21       $1 to $10,000  White non-Hispanic   \n",
              "2   Male   Straight   22                  $0  White non-Hispanic   \n",
              "3   Male   Straight   19       $1 to $10,000  White non-Hispanic   \n",
              "4   Male   Straight   23  $30,000 to $39,999  White non-Hispanic   \n",
              "\n",
              "      bodyweight virgin prostitution_legal     pay_for_sex  friends  \\\n",
              "0  Normal weight    Yes                 No              No        0   \n",
              "1    Underweight    Yes                 No              No        0   \n",
              "2     Overweight    Yes                 No              No       10   \n",
              "3     Overweight    Yes                Yes              No        8   \n",
              "4     Overweight     No                 No  Yes and I have       10   \n",
              "\n",
              "  social_fear depressed attempt_suicide  \\\n",
              "0         Yes       Yes             Yes   \n",
              "1         Yes       Yes              No   \n",
              "2         Yes       Yes              No   \n",
              "3         Yes       Yes              No   \n",
              "4          No       Yes              No   \n",
              "\n",
              "                                       employment           job_title  \\\n",
              "0                              Employed for wages  mechanical drafter   \n",
              "1                Out of work and looking for work                None   \n",
              "2  Out of work but not currently looking for work          unemployed   \n",
              "3                                       A student             Student   \n",
              "4                              Employed for wages      Factory worker   \n",
              "\n",
              "                                           edu_level  \\\n",
              "0                                   Associate degree   \n",
              "1                            Some college, no degree   \n",
              "2                            Some college, no degree   \n",
              "3                            Some college, no degree   \n",
              "4  High school graduate, diploma or the equivalen...   \n",
              "\n",
              "               improve_yourself_how  \n",
              "0                              None  \n",
              "1  join clubs/socual clubs/meet ups  \n",
              "2                    Other exercise  \n",
              "3        Joined a gym/go to the gym  \n",
              "4                              None  "
            ]
          },
          "execution_count": 53,
          "metadata": {
            "tags": []
          },
          "output_type": "execute_result"
        }
      ],
      "source": [
        "df_new.head()"
      ]
    },
    {
      "cell_type": "code",
      "execution_count": null,
      "metadata": {
        "colab": {
          "base_uri": "https://localhost:8080/",
          "height": 391
        },
        "id": "W1XtOWvCUqNL",
        "outputId": "e5906f1d-eaf8-4574-88b0-9528536709c0"
      },
      "outputs": [
        {
          "name": "stdout",
          "output_type": "stream",
          "text": [
            "<class 'pandas.core.frame.DataFrame'>\n",
            "Int64Index: 456 entries, 0 to 468\n",
            "Data columns (total 17 columns):\n",
            "gender                  456 non-null object\n",
            "sexuallity              456 non-null object\n",
            "age                     456 non-null int64\n",
            "income                  456 non-null object\n",
            "race                    456 non-null object\n",
            "bodyweight              456 non-null object\n",
            "virgin                  456 non-null object\n",
            "prostitution_legal      456 non-null object\n",
            "pay_for_sex             456 non-null object\n",
            "friends                 456 non-null int64\n",
            "social_fear             456 non-null object\n",
            "depressed               456 non-null object\n",
            "attempt_suicide         456 non-null object\n",
            "employment              456 non-null object\n",
            "job_title               456 non-null object\n",
            "edu_level               456 non-null object\n",
            "improve_yourself_how    456 non-null object\n",
            "dtypes: int64(2), object(15)\n",
            "memory usage: 64.1+ KB\n"
          ]
        }
      ],
      "source": [
        "df_new.info()"
      ]
    },
    {
      "cell_type": "code",
      "execution_count": null,
      "metadata": {
        "collapsed": true,
        "id": "KLolRs7qWES6"
      },
      "outputs": [],
      "source": [
        "location = df_new.loc[df_new['race'] == 'First two answers. Gender is androgyne, not male; sexuality is asexual, not bi.']"
      ]
    },
    {
      "cell_type": "code",
      "execution_count": null,
      "metadata": {
        "collapsed": true,
        "id": "cBlTpCOnZE-9"
      },
      "outputs": [],
      "source": [
        "df_new = df_new.drop(location.index)"
      ]
    },
    {
      "cell_type": "code",
      "execution_count": null,
      "metadata": {
        "colab": {
          "base_uri": "https://localhost:8080/",
          "height": 69
        },
        "id": "mp9L8EVTaRge",
        "outputId": "17b14e30-2014-4d72-fdb3-9ab86a016fbc"
      },
      "outputs": [
        {
          "data": {
            "text/html": [
              "<div>\n",
              "<style scoped>\n",
              "    .dataframe tbody tr th:only-of-type {\n",
              "        vertical-align: middle;\n",
              "    }\n",
              "\n",
              "    .dataframe tbody tr th {\n",
              "        vertical-align: top;\n",
              "    }\n",
              "\n",
              "    .dataframe thead th {\n",
              "        text-align: right;\n",
              "    }\n",
              "</style>\n",
              "<table border=\"1\" class=\"dataframe\">\n",
              "  <thead>\n",
              "    <tr style=\"text-align: right;\">\n",
              "      <th></th>\n",
              "      <th>gender</th>\n",
              "      <th>sexuallity</th>\n",
              "      <th>age</th>\n",
              "      <th>income</th>\n",
              "      <th>race</th>\n",
              "      <th>bodyweight</th>\n",
              "      <th>virgin</th>\n",
              "      <th>prostitution_legal</th>\n",
              "      <th>pay_for_sex</th>\n",
              "      <th>friends</th>\n",
              "      <th>social_fear</th>\n",
              "      <th>depressed</th>\n",
              "      <th>attempt_suicide</th>\n",
              "      <th>employment</th>\n",
              "      <th>job_title</th>\n",
              "      <th>edu_level</th>\n",
              "      <th>improve_yourself_how</th>\n",
              "    </tr>\n",
              "  </thead>\n",
              "  <tbody>\n",
              "  </tbody>\n",
              "</table>\n",
              "</div>"
            ],
            "text/plain": [
              "Empty DataFrame\n",
              "Columns: [gender, sexuallity, age, income, race, bodyweight, virgin, prostitution_legal, pay_for_sex, friends, social_fear, depressed, attempt_suicide, employment, job_title, edu_level, improve_yourself_how]\n",
              "Index: []"
            ]
          },
          "execution_count": 57,
          "metadata": {
            "tags": []
          },
          "output_type": "execute_result"
        }
      ],
      "source": [
        "df_new.loc[df_new['race'] == 'First two answers. Gender is androgyne, not male; sexuality is asexual, not bi.']"
      ]
    },
    {
      "cell_type": "code",
      "execution_count": null,
      "metadata": {
        "collapsed": true,
        "id": "GiGAC24hb6E5"
      },
      "outputs": [],
      "source": [
        "df_new = df_new.drop(columns=['improve_yourself_how'])"
      ]
    },
    {
      "cell_type": "code",
      "execution_count": null,
      "metadata": {
        "collapsed": true,
        "id": "8IOWfFM-bzOa"
      },
      "outputs": [],
      "source": [
        "df_for_sampling = df_new.copy(deep=True)  #Important "
      ]
    },
    {
      "cell_type": "code",
      "execution_count": null,
      "metadata": {
        "colab": {
          "base_uri": "https://localhost:8080/",
          "height": 479
        },
        "id": "TYHtZzoKcMgF",
        "outputId": "4cf2a9a8-0a1e-41ba-9051-43e70b290b8d"
      },
      "outputs": [
        {
          "data": {
            "text/html": [
              "<div>\n",
              "<style scoped>\n",
              "    .dataframe tbody tr th:only-of-type {\n",
              "        vertical-align: middle;\n",
              "    }\n",
              "\n",
              "    .dataframe tbody tr th {\n",
              "        vertical-align: top;\n",
              "    }\n",
              "\n",
              "    .dataframe thead th {\n",
              "        text-align: right;\n",
              "    }\n",
              "</style>\n",
              "<table border=\"1\" class=\"dataframe\">\n",
              "  <thead>\n",
              "    <tr style=\"text-align: right;\">\n",
              "      <th></th>\n",
              "      <th>gender</th>\n",
              "      <th>sexuallity</th>\n",
              "      <th>age</th>\n",
              "      <th>income</th>\n",
              "      <th>race</th>\n",
              "      <th>bodyweight</th>\n",
              "      <th>virgin</th>\n",
              "      <th>prostitution_legal</th>\n",
              "      <th>pay_for_sex</th>\n",
              "      <th>friends</th>\n",
              "      <th>social_fear</th>\n",
              "      <th>depressed</th>\n",
              "      <th>attempt_suicide</th>\n",
              "      <th>employment</th>\n",
              "      <th>job_title</th>\n",
              "      <th>edu_level</th>\n",
              "    </tr>\n",
              "  </thead>\n",
              "  <tbody>\n",
              "    <tr>\n",
              "      <th>0</th>\n",
              "      <td>Male</td>\n",
              "      <td>Straight</td>\n",
              "      <td>35</td>\n",
              "      <td>$30,000 to $39,999</td>\n",
              "      <td>White non-Hispanic</td>\n",
              "      <td>Normal weight</td>\n",
              "      <td>Yes</td>\n",
              "      <td>No</td>\n",
              "      <td>No</td>\n",
              "      <td>0</td>\n",
              "      <td>Yes</td>\n",
              "      <td>Yes</td>\n",
              "      <td>Yes</td>\n",
              "      <td>Employed for wages</td>\n",
              "      <td>mechanical drafter</td>\n",
              "      <td>Associate degree</td>\n",
              "    </tr>\n",
              "    <tr>\n",
              "      <th>1</th>\n",
              "      <td>Male</td>\n",
              "      <td>Bisexual</td>\n",
              "      <td>21</td>\n",
              "      <td>$1 to $10,000</td>\n",
              "      <td>White non-Hispanic</td>\n",
              "      <td>Underweight</td>\n",
              "      <td>Yes</td>\n",
              "      <td>No</td>\n",
              "      <td>No</td>\n",
              "      <td>0</td>\n",
              "      <td>Yes</td>\n",
              "      <td>Yes</td>\n",
              "      <td>No</td>\n",
              "      <td>Out of work and looking for work</td>\n",
              "      <td>None</td>\n",
              "      <td>Some college, no degree</td>\n",
              "    </tr>\n",
              "    <tr>\n",
              "      <th>2</th>\n",
              "      <td>Male</td>\n",
              "      <td>Straight</td>\n",
              "      <td>22</td>\n",
              "      <td>$0</td>\n",
              "      <td>White non-Hispanic</td>\n",
              "      <td>Overweight</td>\n",
              "      <td>Yes</td>\n",
              "      <td>No</td>\n",
              "      <td>No</td>\n",
              "      <td>10</td>\n",
              "      <td>Yes</td>\n",
              "      <td>Yes</td>\n",
              "      <td>No</td>\n",
              "      <td>Out of work but not currently looking for work</td>\n",
              "      <td>unemployed</td>\n",
              "      <td>Some college, no degree</td>\n",
              "    </tr>\n",
              "    <tr>\n",
              "      <th>3</th>\n",
              "      <td>Male</td>\n",
              "      <td>Straight</td>\n",
              "      <td>19</td>\n",
              "      <td>$1 to $10,000</td>\n",
              "      <td>White non-Hispanic</td>\n",
              "      <td>Overweight</td>\n",
              "      <td>Yes</td>\n",
              "      <td>Yes</td>\n",
              "      <td>No</td>\n",
              "      <td>8</td>\n",
              "      <td>Yes</td>\n",
              "      <td>Yes</td>\n",
              "      <td>No</td>\n",
              "      <td>A student</td>\n",
              "      <td>Student</td>\n",
              "      <td>Some college, no degree</td>\n",
              "    </tr>\n",
              "    <tr>\n",
              "      <th>4</th>\n",
              "      <td>Male</td>\n",
              "      <td>Straight</td>\n",
              "      <td>23</td>\n",
              "      <td>$30,000 to $39,999</td>\n",
              "      <td>White non-Hispanic</td>\n",
              "      <td>Overweight</td>\n",
              "      <td>No</td>\n",
              "      <td>No</td>\n",
              "      <td>Yes and I have</td>\n",
              "      <td>10</td>\n",
              "      <td>No</td>\n",
              "      <td>Yes</td>\n",
              "      <td>No</td>\n",
              "      <td>Employed for wages</td>\n",
              "      <td>Factory worker</td>\n",
              "      <td>High school graduate, diploma or the equivalen...</td>\n",
              "    </tr>\n",
              "  </tbody>\n",
              "</table>\n",
              "</div>"
            ],
            "text/plain": [
              "  gender sexuallity  age              income                race  \\\n",
              "0   Male   Straight   35  $30,000 to $39,999  White non-Hispanic   \n",
              "1   Male   Bisexual   21       $1 to $10,000  White non-Hispanic   \n",
              "2   Male   Straight   22                  $0  White non-Hispanic   \n",
              "3   Male   Straight   19       $1 to $10,000  White non-Hispanic   \n",
              "4   Male   Straight   23  $30,000 to $39,999  White non-Hispanic   \n",
              "\n",
              "      bodyweight virgin prostitution_legal     pay_for_sex  friends  \\\n",
              "0  Normal weight    Yes                 No              No        0   \n",
              "1    Underweight    Yes                 No              No        0   \n",
              "2     Overweight    Yes                 No              No       10   \n",
              "3     Overweight    Yes                Yes              No        8   \n",
              "4     Overweight     No                 No  Yes and I have       10   \n",
              "\n",
              "  social_fear depressed attempt_suicide  \\\n",
              "0         Yes       Yes             Yes   \n",
              "1         Yes       Yes              No   \n",
              "2         Yes       Yes              No   \n",
              "3         Yes       Yes              No   \n",
              "4          No       Yes              No   \n",
              "\n",
              "                                       employment           job_title  \\\n",
              "0                              Employed for wages  mechanical drafter   \n",
              "1                Out of work and looking for work                None   \n",
              "2  Out of work but not currently looking for work          unemployed   \n",
              "3                                       A student             Student   \n",
              "4                              Employed for wages      Factory worker   \n",
              "\n",
              "                                           edu_level  \n",
              "0                                   Associate degree  \n",
              "1                            Some college, no degree  \n",
              "2                            Some college, no degree  \n",
              "3                            Some college, no degree  \n",
              "4  High school graduate, diploma or the equivalen...  "
            ]
          },
          "execution_count": 60,
          "metadata": {
            "tags": []
          },
          "output_type": "execute_result"
        }
      ],
      "source": [
        "df_new.head()"
      ]
    },
    {
      "cell_type": "markdown",
      "metadata": {
        "id": "OFscX1Sen8CI"
      },
      "source": [
        "# Function to Label encode Y (Output)\n"
      ]
    },
    {
      "cell_type": "code",
      "execution_count": null,
      "metadata": {
        "collapsed": true,
        "id": "BxVvH9oK0ISY"
      },
      "outputs": [],
      "source": [
        "# Label Encoding Only for Y (output)\n",
        "def encode_text_index(df_new, name):\n",
        "    le = preprocessing.LabelEncoder()\n",
        "    df_new[name] = le.fit_transform(df_new[name])\n",
        "    return le.classes_"
      ]
    },
    {
      "cell_type": "markdown",
      "metadata": {
        "id": "RLJuAmxvoF7V"
      },
      "source": [
        "## Encoding attempt_suicide column. "
      ]
    },
    {
      "cell_type": "code",
      "execution_count": null,
      "metadata": {
        "collapsed": true,
        "id": "34bRmGM02r3j"
      },
      "outputs": [],
      "source": [
        "my_list = ['attempt_suicide']\n",
        "\n",
        "for i in my_list:\n",
        "  encode_text_index(df_new,i) "
      ]
    },
    {
      "cell_type": "markdown",
      "metadata": {
        "id": "KVpKikE8onyg"
      },
      "source": [
        "## Function to one hot encode categorical values in the dataframe"
      ]
    },
    {
      "cell_type": "code",
      "execution_count": null,
      "metadata": {
        "collapsed": true,
        "id": "HXS1khb62eH5"
      },
      "outputs": [],
      "source": [
        "# Encode text values to dummy variables(i.e. [1,0,0],[0,1,0],[0,0,1] for red,green,blue)\n",
        "# One Hot encoding\n",
        "def encode_text_dummy(df_new, name):\n",
        "    dummies = pd.get_dummies(df_new[name])\n",
        "    for x in dummies.columns:\n",
        "        dummy_name = \"{}-{}\".format(name, x)\n",
        "        df_new[dummy_name] = dummies[x]\n",
        "    df_new.drop(name, axis=1, inplace=True)"
      ]
    },
    {
      "cell_type": "code",
      "execution_count": null,
      "metadata": {
        "colab": {
          "base_uri": "https://localhost:8080/",
          "height": 255
        },
        "id": "_KXZ2sSn2fIw",
        "outputId": "10e5d1c0-2fec-485a-d886-342f9c1a638e"
      },
      "outputs": [
        {
          "name": "stdout",
          "output_type": "stream",
          "text": [
            "gender\n",
            "age\n",
            "sexuallity\n",
            "income\n",
            "race\n",
            "bodyweight\n",
            "virgin\n",
            "prostitution_legal\n",
            "pay_for_sex\n",
            "social_fear\n",
            "depressed\n",
            "employment\n",
            "job_title\n",
            "edu_level\n"
          ]
        }
      ],
      "source": [
        "mylist_2 = [\"gender\",\"age\",\"sexuallity\",\"income\",\"race\",\"bodyweight\",\"virgin\",\"prostitution_legal\",\"pay_for_sex\",\"social_fear\",\"depressed\",\"employment\",\"job_title\",\"edu_level\"]\n",
        "for t in mylist_2:\n",
        "    print(t)\n",
        "    encode_text_dummy(df_new,t)"
      ]
    },
    {
      "cell_type": "code",
      "execution_count": null,
      "metadata": {
        "colab": {
          "base_uri": "https://localhost:8080/",
          "height": 406
        },
        "id": "-4_ucNoQ2r8n",
        "outputId": "08145311-06fe-446e-ba82-32f2e800de25"
      },
      "outputs": [
        {
          "data": {
            "text/html": [
              "<div>\n",
              "<style scoped>\n",
              "    .dataframe tbody tr th:only-of-type {\n",
              "        vertical-align: middle;\n",
              "    }\n",
              "\n",
              "    .dataframe tbody tr th {\n",
              "        vertical-align: top;\n",
              "    }\n",
              "\n",
              "    .dataframe thead th {\n",
              "        text-align: right;\n",
              "    }\n",
              "</style>\n",
              "<table border=\"1\" class=\"dataframe\">\n",
              "  <thead>\n",
              "    <tr style=\"text-align: right;\">\n",
              "      <th></th>\n",
              "      <th>friends</th>\n",
              "      <th>attempt_suicide</th>\n",
              "      <th>gender-Female</th>\n",
              "      <th>gender-Male</th>\n",
              "      <th>gender-Transgender female</th>\n",
              "      <th>gender-Transgender male</th>\n",
              "      <th>age-12</th>\n",
              "      <th>age-15</th>\n",
              "      <th>age-16</th>\n",
              "      <th>age-17</th>\n",
              "      <th>...</th>\n",
              "      <th>job_title-🌚</th>\n",
              "      <th>edu_level-Associate degree</th>\n",
              "      <th>edu_level-Bachelor’s degree</th>\n",
              "      <th>edu_level-Doctorate degree</th>\n",
              "      <th>edu_level-High school graduate, diploma or the equivalent (for example: GED)</th>\n",
              "      <th>edu_level-Master’s degree</th>\n",
              "      <th>edu_level-Professional degree</th>\n",
              "      <th>edu_level-Some college, no degree</th>\n",
              "      <th>edu_level-Some high school, no diploma</th>\n",
              "      <th>edu_level-Trade/technical/vocational training</th>\n",
              "    </tr>\n",
              "  </thead>\n",
              "  <tbody>\n",
              "    <tr>\n",
              "      <th>0</th>\n",
              "      <td>0</td>\n",
              "      <td>1</td>\n",
              "      <td>0</td>\n",
              "      <td>1</td>\n",
              "      <td>0</td>\n",
              "      <td>0</td>\n",
              "      <td>0</td>\n",
              "      <td>0</td>\n",
              "      <td>0</td>\n",
              "      <td>0</td>\n",
              "      <td>...</td>\n",
              "      <td>0</td>\n",
              "      <td>1</td>\n",
              "      <td>0</td>\n",
              "      <td>0</td>\n",
              "      <td>0</td>\n",
              "      <td>0</td>\n",
              "      <td>0</td>\n",
              "      <td>0</td>\n",
              "      <td>0</td>\n",
              "      <td>0</td>\n",
              "    </tr>\n",
              "    <tr>\n",
              "      <th>1</th>\n",
              "      <td>0</td>\n",
              "      <td>0</td>\n",
              "      <td>0</td>\n",
              "      <td>1</td>\n",
              "      <td>0</td>\n",
              "      <td>0</td>\n",
              "      <td>0</td>\n",
              "      <td>0</td>\n",
              "      <td>0</td>\n",
              "      <td>0</td>\n",
              "      <td>...</td>\n",
              "      <td>0</td>\n",
              "      <td>0</td>\n",
              "      <td>0</td>\n",
              "      <td>0</td>\n",
              "      <td>0</td>\n",
              "      <td>0</td>\n",
              "      <td>0</td>\n",
              "      <td>1</td>\n",
              "      <td>0</td>\n",
              "      <td>0</td>\n",
              "    </tr>\n",
              "    <tr>\n",
              "      <th>2</th>\n",
              "      <td>10</td>\n",
              "      <td>0</td>\n",
              "      <td>0</td>\n",
              "      <td>1</td>\n",
              "      <td>0</td>\n",
              "      <td>0</td>\n",
              "      <td>0</td>\n",
              "      <td>0</td>\n",
              "      <td>0</td>\n",
              "      <td>0</td>\n",
              "      <td>...</td>\n",
              "      <td>0</td>\n",
              "      <td>0</td>\n",
              "      <td>0</td>\n",
              "      <td>0</td>\n",
              "      <td>0</td>\n",
              "      <td>0</td>\n",
              "      <td>0</td>\n",
              "      <td>1</td>\n",
              "      <td>0</td>\n",
              "      <td>0</td>\n",
              "    </tr>\n",
              "    <tr>\n",
              "      <th>3</th>\n",
              "      <td>8</td>\n",
              "      <td>0</td>\n",
              "      <td>0</td>\n",
              "      <td>1</td>\n",
              "      <td>0</td>\n",
              "      <td>0</td>\n",
              "      <td>0</td>\n",
              "      <td>0</td>\n",
              "      <td>0</td>\n",
              "      <td>0</td>\n",
              "      <td>...</td>\n",
              "      <td>0</td>\n",
              "      <td>0</td>\n",
              "      <td>0</td>\n",
              "      <td>0</td>\n",
              "      <td>0</td>\n",
              "      <td>0</td>\n",
              "      <td>0</td>\n",
              "      <td>1</td>\n",
              "      <td>0</td>\n",
              "      <td>0</td>\n",
              "    </tr>\n",
              "    <tr>\n",
              "      <th>4</th>\n",
              "      <td>10</td>\n",
              "      <td>0</td>\n",
              "      <td>0</td>\n",
              "      <td>1</td>\n",
              "      <td>0</td>\n",
              "      <td>0</td>\n",
              "      <td>0</td>\n",
              "      <td>0</td>\n",
              "      <td>0</td>\n",
              "      <td>0</td>\n",
              "      <td>...</td>\n",
              "      <td>0</td>\n",
              "      <td>0</td>\n",
              "      <td>0</td>\n",
              "      <td>0</td>\n",
              "      <td>1</td>\n",
              "      <td>0</td>\n",
              "      <td>0</td>\n",
              "      <td>0</td>\n",
              "      <td>0</td>\n",
              "      <td>0</td>\n",
              "    </tr>\n",
              "  </tbody>\n",
              "</table>\n",
              "<p>5 rows × 367 columns</p>\n",
              "</div>"
            ],
            "text/plain": [
              "   friends  attempt_suicide  gender-Female  gender-Male  \\\n",
              "0        0                1              0            1   \n",
              "1        0                0              0            1   \n",
              "2       10                0              0            1   \n",
              "3        8                0              0            1   \n",
              "4       10                0              0            1   \n",
              "\n",
              "   gender-Transgender female  gender-Transgender male  age-12  age-15  age-16  \\\n",
              "0                          0                        0       0       0       0   \n",
              "1                          0                        0       0       0       0   \n",
              "2                          0                        0       0       0       0   \n",
              "3                          0                        0       0       0       0   \n",
              "4                          0                        0       0       0       0   \n",
              "\n",
              "   age-17  ...  job_title-🌚  edu_level-Associate degree  \\\n",
              "0       0  ...            0                           1   \n",
              "1       0  ...            0                           0   \n",
              "2       0  ...            0                           0   \n",
              "3       0  ...            0                           0   \n",
              "4       0  ...            0                           0   \n",
              "\n",
              "   edu_level-Bachelor’s degree  edu_level-Doctorate degree  \\\n",
              "0                            0                           0   \n",
              "1                            0                           0   \n",
              "2                            0                           0   \n",
              "3                            0                           0   \n",
              "4                            0                           0   \n",
              "\n",
              "   edu_level-High school graduate, diploma or the equivalent (for example: GED)  \\\n",
              "0                                                  0                              \n",
              "1                                                  0                              \n",
              "2                                                  0                              \n",
              "3                                                  0                              \n",
              "4                                                  1                              \n",
              "\n",
              "   edu_level-Master’s degree  edu_level-Professional degree  \\\n",
              "0                          0                              0   \n",
              "1                          0                              0   \n",
              "2                          0                              0   \n",
              "3                          0                              0   \n",
              "4                          0                              0   \n",
              "\n",
              "   edu_level-Some college, no degree  edu_level-Some high school, no diploma  \\\n",
              "0                                  0                                       0   \n",
              "1                                  1                                       0   \n",
              "2                                  1                                       0   \n",
              "3                                  1                                       0   \n",
              "4                                  0                                       0   \n",
              "\n",
              "   edu_level-Trade/technical/vocational training  \n",
              "0                                              0  \n",
              "1                                              0  \n",
              "2                                              0  \n",
              "3                                              0  \n",
              "4                                              0  \n",
              "\n",
              "[5 rows x 367 columns]"
            ]
          },
          "execution_count": 65,
          "metadata": {
            "tags": []
          },
          "output_type": "execute_result"
        }
      ],
      "source": [
        "df_new.head()"
      ]
    },
    {
      "cell_type": "markdown",
      "metadata": {
        "id": "Qw8wU0cnoyt3"
      },
      "source": [
        "## Creating Numpy arrays for both x and y "
      ]
    },
    {
      "cell_type": "code",
      "execution_count": null,
      "metadata": {
        "collapsed": true,
        "id": "KGraKuLoe7KY"
      },
      "outputs": [],
      "source": [
        "Y_numpy_array = df_new['attempt_suicide'].values    # Y is ready for model train test split"
      ]
    },
    {
      "cell_type": "code",
      "execution_count": null,
      "metadata": {
        "collapsed": true,
        "id": "_8x-_9nagWOR"
      },
      "outputs": [],
      "source": [
        "df_for_x = df_new.drop(columns=['attempt_suicide'])"
      ]
    },
    {
      "cell_type": "code",
      "execution_count": null,
      "metadata": {
        "collapsed": true,
        "id": "o-bmoQjZgt5T"
      },
      "outputs": [],
      "source": [
        "X_numpy_array = df_for_x.values                     # X is ready for model train test split"
      ]
    },
    {
      "cell_type": "code",
      "execution_count": null,
      "metadata": {
        "colab": {
          "base_uri": "https://localhost:8080/",
          "height": 34
        },
        "id": "cV0KcCmXvD9d",
        "outputId": "e5ddfc43-a877-48b3-d888-0789c66fc58a"
      },
      "outputs": [
        {
          "data": {
            "text/plain": [
              "array([1, 0])"
            ]
          },
          "execution_count": 69,
          "metadata": {
            "tags": []
          },
          "output_type": "execute_result"
        }
      ],
      "source": [
        "Y_numpy_array[:2]"
      ]
    },
    {
      "cell_type": "markdown",
      "metadata": {
        "id": "jyKTLezJo_Jj"
      },
      "source": [
        "## Train test split data into 70% training and 30% testing"
      ]
    },
    {
      "cell_type": "code",
      "execution_count": null,
      "metadata": {
        "collapsed": true,
        "id": "h3bO7hmhg270"
      },
      "outputs": [],
      "source": [
        "x_train,x_test,y_train,y_test = train_test_split(X_numpy_array,Y_numpy_array, test_size=0.3,random_state=42)"
      ]
    },
    {
      "cell_type": "markdown",
      "metadata": {
        "id": "hYwlZEAKpJBx"
      },
      "source": [
        "## Determining shape of x_train, y_train, x_test,y_test"
      ]
    },
    {
      "cell_type": "code",
      "execution_count": null,
      "metadata": {
        "colab": {
          "base_uri": "https://localhost:8080/",
          "height": 34
        },
        "id": "lp8UeRoYhPhk",
        "outputId": "40c5d81f-b153-4528-a8c6-958ab8ad2ce8"
      },
      "outputs": [
        {
          "name": "stdout",
          "output_type": "stream",
          "text": [
            "binary\n"
          ]
        }
      ],
      "source": [
        "type(y_train)\n",
        "print(utils.multiclass.type_of_target(y_train))"
      ]
    },
    {
      "cell_type": "code",
      "execution_count": null,
      "metadata": {
        "colab": {
          "base_uri": "https://localhost:8080/",
          "height": 34
        },
        "id": "8wj2Y_3IhZdV",
        "outputId": "bd99d488-a667-4890-b9e3-c6964c44a197"
      },
      "outputs": [
        {
          "data": {
            "text/plain": [
              "(318, 366)"
            ]
          },
          "execution_count": 72,
          "metadata": {
            "tags": []
          },
          "output_type": "execute_result"
        }
      ],
      "source": [
        "x_train.shape"
      ]
    },
    {
      "cell_type": "code",
      "execution_count": null,
      "metadata": {
        "colab": {
          "base_uri": "https://localhost:8080/",
          "height": 34
        },
        "id": "7tDVQyGFhpHN",
        "outputId": "32b8e882-ae3a-4e6c-c11a-4ca8fb9d2697"
      },
      "outputs": [
        {
          "data": {
            "text/plain": [
              "(137, 366)"
            ]
          },
          "execution_count": 73,
          "metadata": {
            "tags": []
          },
          "output_type": "execute_result"
        }
      ],
      "source": [
        "x_test.shape"
      ]
    },
    {
      "cell_type": "code",
      "execution_count": null,
      "metadata": {
        "colab": {
          "base_uri": "https://localhost:8080/",
          "height": 34
        },
        "id": "Z2Qkqarohrd4",
        "outputId": "542780ab-157a-4830-bd4b-78204f1aa5e6"
      },
      "outputs": [
        {
          "data": {
            "text/plain": [
              "(318,)"
            ]
          },
          "execution_count": 74,
          "metadata": {
            "tags": []
          },
          "output_type": "execute_result"
        }
      ],
      "source": [
        "y_train.shape"
      ]
    },
    {
      "cell_type": "code",
      "execution_count": null,
      "metadata": {
        "colab": {
          "base_uri": "https://localhost:8080/",
          "height": 34
        },
        "id": "WqHKdgA-htVW",
        "outputId": "8888aec3-9998-4b19-caa3-281dce964528"
      },
      "outputs": [
        {
          "data": {
            "text/plain": [
              "(137,)"
            ]
          },
          "execution_count": 75,
          "metadata": {
            "tags": []
          },
          "output_type": "execute_result"
        }
      ],
      "source": [
        "y_test.shape"
      ]
    },
    {
      "cell_type": "markdown",
      "metadata": {
        "id": "SuuOgo-36BMN"
      },
      "source": [
        "#Logistic Regression"
      ]
    },
    {
      "cell_type": "code",
      "execution_count": null,
      "metadata": {
        "collapsed": true,
        "id": "JKksEASohu_W"
      },
      "outputs": [],
      "source": [
        "logreg = linear_model.LogisticRegression()"
      ]
    },
    {
      "cell_type": "code",
      "execution_count": null,
      "metadata": {
        "colab": {
          "base_uri": "https://localhost:8080/",
          "height": 153
        },
        "id": "IIpXr_6TiGad",
        "outputId": "796eac20-8a27-4fbc-e61e-ce22eb4e7c9a"
      },
      "outputs": [
        {
          "name": "stderr",
          "output_type": "stream",
          "text": [
            "/usr/local/lib/python3.6/dist-packages/sklearn/linear_model/logistic.py:433: FutureWarning:\n",
            "\n",
            "Default solver will be changed to 'lbfgs' in 0.22. Specify a solver to silence this warning.\n",
            "\n"
          ]
        },
        {
          "data": {
            "text/plain": [
              "LogisticRegression(C=1.0, class_weight=None, dual=False, fit_intercept=True,\n",
              "          intercept_scaling=1, max_iter=100, multi_class='warn',\n",
              "          n_jobs=None, penalty='l2', random_state=None, solver='warn',\n",
              "          tol=0.0001, verbose=0, warm_start=False)"
            ]
          },
          "execution_count": 77,
          "metadata": {
            "tags": []
          },
          "output_type": "execute_result"
        }
      ],
      "source": [
        "logreg.fit(x_train, y_train)"
      ]
    },
    {
      "cell_type": "code",
      "execution_count": null,
      "metadata": {
        "colab": {
          "base_uri": "https://localhost:8080/",
          "height": 51
        },
        "id": "-GX_wJ91iLB0",
        "outputId": "a8c9163c-e4fe-46a7-d649-858bd84571c6"
      },
      "outputs": [
        {
          "name": "stdout",
          "output_type": "stream",
          "text": [
            "[0 0 0 0 0]\n",
            "[1 0 0 0 1]\n"
          ]
        }
      ],
      "source": [
        "y_pred_logistic = logreg.predict(x_test)\n",
        "print(y_pred_logistic[:5])\n",
        "print(y_test[:5])"
      ]
    },
    {
      "cell_type": "code",
      "execution_count": null,
      "metadata": {
        "colab": {
          "base_uri": "https://localhost:8080/",
          "height": 34
        },
        "id": "vLOQPOtfiOsM",
        "outputId": "d9db4379-d465-4dfa-92d7-3de1bc64bfbd"
      },
      "outputs": [
        {
          "name": "stdout",
          "output_type": "stream",
          "text": [
            "Mean squared error: 0.23\n"
          ]
        }
      ],
      "source": [
        "# The coefficients\n",
        "#print('Coefficients: \\n', logreg.coef_)\n",
        "# The mean squared error\n",
        "print(\"Mean squared error: %.2f\"\n",
        "      % mean_squared_error(y_test, y_pred_logistic))"
      ]
    },
    {
      "cell_type": "code",
      "execution_count": null,
      "metadata": {
        "colab": {
          "base_uri": "https://localhost:8080/",
          "height": 34
        },
        "id": "xYASbp2kiSaL",
        "outputId": "5d8c3a28-6351-4807-c5a5-b09dadcd4acf"
      },
      "outputs": [
        {
          "name": "stdout",
          "output_type": "stream",
          "text": [
            "Accuracy score: 0.7664233576642335\n"
          ]
        }
      ],
      "source": [
        "score = metrics.accuracy_score(y_test, y_pred_logistic)\n",
        "print(\"Accuracy score: {}\".format(score))"
      ]
    },
    {
      "cell_type": "code",
      "execution_count": null,
      "metadata": {
        "colab": {
          "base_uri": "https://localhost:8080/",
          "height": 68
        },
        "id": "2Mg48kIilBD5",
        "outputId": "94bed3e9-e7d9-4a1c-c7a6-dd2d72492519"
      },
      "outputs": [
        {
          "name": "stdout",
          "output_type": "stream",
          "text": [
            "Precision score: 0.7110832319545822\n",
            "Recall score: 0.7664233576642335\n",
            "F1 score: 0.7131698795932373\n"
          ]
        }
      ],
      "source": [
        "score_tf_precision_stopping = metrics.precision_score(y_test, y_pred_logistic, average= \"weighted\")\n",
        "print(\"Precision score: {}\".format(score_tf_precision_stopping))\n",
        "\n",
        "\n",
        "score_tf_recall_stopping = metrics.recall_score(y_test, y_pred_logistic, average= \"weighted\")\n",
        "print(\"Recall score: {}\".format(score_tf_recall_stopping))\n",
        "\n",
        "\n",
        "score_tf_f1_stopping = metrics.f1_score(y_test, y_pred_logistic, average= \"weighted\")\n",
        "print(\"F1 score: {}\".format(score_tf_f1_stopping))\n",
        "\n"
      ]
    },
    {
      "cell_type": "code",
      "execution_count": null,
      "metadata": {
        "colab": {
          "base_uri": "https://localhost:8080/",
          "height": 34
        },
        "id": "4DKrzG9DoMlt",
        "outputId": "a80f4313-f4bb-432c-dcbe-bf8a37be42aa"
      },
      "outputs": [
        {
          "data": {
            "text/plain": [
              "137"
            ]
          },
          "execution_count": 82,
          "metadata": {
            "tags": []
          },
          "output_type": "execute_result"
        }
      ],
      "source": [
        "len(y_test)"
      ]
    },
    {
      "cell_type": "code",
      "execution_count": null,
      "metadata": {
        "colab": {
          "base_uri": "https://localhost:8080/",
          "height": 34
        },
        "id": "kRGZloDBoWAn",
        "outputId": "9f88478b-1e9a-412b-f2d7-e4cac9bc8a9d"
      },
      "outputs": [
        {
          "data": {
            "text/plain": [
              "137"
            ]
          },
          "execution_count": 83,
          "metadata": {
            "tags": []
          },
          "output_type": "execute_result"
        }
      ],
      "source": [
        "len(y_pred_logistic)"
      ]
    },
    {
      "cell_type": "code",
      "execution_count": null,
      "metadata": {
        "colab": {
          "base_uri": "https://localhost:8080/",
          "height": 34
        },
        "id": "6AvydzclocEG",
        "outputId": "b305fa44-39ff-4e2a-885e-70e450ada3d1"
      },
      "outputs": [
        {
          "data": {
            "text/plain": [
              "array([1, 0, 0, 0, 1])"
            ]
          },
          "execution_count": 84,
          "metadata": {
            "tags": []
          },
          "output_type": "execute_result"
        }
      ],
      "source": [
        "y_test[:5]"
      ]
    },
    {
      "cell_type": "code",
      "execution_count": null,
      "metadata": {
        "colab": {
          "base_uri": "https://localhost:8080/",
          "height": 34
        },
        "id": "J1cTF2Qfofpx",
        "outputId": "8a48f9ec-3116-454e-9796-a7d2f9c0f216"
      },
      "outputs": [
        {
          "data": {
            "text/plain": [
              "array([0, 0, 0, 0, 0])"
            ]
          },
          "execution_count": 85,
          "metadata": {
            "tags": []
          },
          "output_type": "execute_result"
        }
      ],
      "source": [
        "y_pred_logistic[:5]"
      ]
    },
    {
      "cell_type": "code",
      "execution_count": null,
      "metadata": {
        "colab": {
          "base_uri": "https://localhost:8080/",
          "height": 34
        },
        "id": "jlbb1KOMtdpK",
        "outputId": "1f697b81-42e2-4ae4-95cd-c2b9e2218b14"
      },
      "outputs": [
        {
          "data": {
            "text/plain": [
              "(137,)"
            ]
          },
          "execution_count": 86,
          "metadata": {
            "tags": []
          },
          "output_type": "execute_result"
        }
      ],
      "source": [
        "y_test.shape"
      ]
    },
    {
      "cell_type": "code",
      "execution_count": null,
      "metadata": {
        "colab": {
          "base_uri": "https://localhost:8080/",
          "height": 34
        },
        "id": "UiF6a4uLtgjw",
        "outputId": "9201aca1-7eb5-4d24-978c-773681da235a"
      },
      "outputs": [
        {
          "data": {
            "text/plain": [
              "(137,)"
            ]
          },
          "execution_count": 87,
          "metadata": {
            "tags": []
          },
          "output_type": "execute_result"
        }
      ],
      "source": [
        "y_pred_logistic.shape"
      ]
    },
    {
      "cell_type": "code",
      "execution_count": null,
      "metadata": {
        "collapsed": true,
        "id": "Jzd1KaLnvY0q"
      },
      "outputs": [],
      "source": [
        "cf =confusion_matrix(y_test,y_pred_logistic)"
      ]
    },
    {
      "cell_type": "code",
      "execution_count": null,
      "metadata": {
        "colab": {
          "base_uri": "https://localhost:8080/",
          "height": 472
        },
        "id": "vGLvnmG5uYGm",
        "outputId": "0bcd280e-6f23-4b4c-c1d3-5b0130b7b627"
      },
      "outputs": [
        {
          "data": {
            "image/png": "[encoded data removed]",
            "text/plain": [
              "<Figure size 640x480 with 2 Axes>"
            ]
          },
          "metadata": {
            "tags": []
          },
          "output_type": "display_data"
        }
      ],
      "source": [
        "plt.imshow(cf,cmap=plt.cm.Blues,interpolation='nearest')\n",
        "plt.colorbar()\n",
        "plt.title('Confusion Matrix without Normalization')\n",
        "plt.xlabel('Predicted')\n",
        "plt.ylabel('Actual')\n",
        "tick_marks = np.arange(len(set(y_test))) # length of classes\n",
        "class_labels = ['0','1']\n",
        "tick_marks\n",
        "plt.xticks(tick_marks,class_labels)\n",
        "plt.yticks(tick_marks,class_labels)\n",
        "# plotting text value inside cells\n",
        "thresh = cf.max() / 2.\n",
        "for i,j in itertools.product(range(cf.shape[0]),range(cf.shape[1])):\n",
        "    plt.text(j,i,format(cf[i,j],'d'),horizontalalignment='center',color='white' if cf[i,j] >thresh else 'black')\n",
        "plt.show();"
      ]
    },
    {
      "cell_type": "code",
      "execution_count": null,
      "metadata": {
        "colab": {
          "base_uri": "https://localhost:8080/",
          "height": 34
        },
        "id": "V1yIs6dRm8jG",
        "outputId": "6df8a164-54fa-43d4-9e0e-ebb02bb37757"
      },
      "outputs": [
        {
          "data": {
            "text/plain": [
              "array(['Yes', 'No'], dtype=object)"
            ]
          },
          "execution_count": 90,
          "metadata": {
            "tags": []
          },
          "output_type": "execute_result"
        }
      ],
      "source": [
        "df['attempt_suicide'].unique()"
      ]
    },
    {
      "cell_type": "code",
      "execution_count": null,
      "metadata": {
        "colab": {
          "base_uri": "https://localhost:8080/",
          "height": 34
        },
        "id": "PCa_MlcZq1_E",
        "outputId": "6b7a2f09-45b0-4dd7-dea7-ddf7306027a4"
      },
      "outputs": [
        {
          "data": {
            "text/plain": [
              "numpy.ndarray"
            ]
          },
          "execution_count": 91,
          "metadata": {
            "tags": []
          },
          "output_type": "execute_result"
        }
      ],
      "source": [
        "type(y_train)\n"
      ]
    },
    {
      "cell_type": "code",
      "execution_count": null,
      "metadata": {
        "colab": {
          "base_uri": "https://localhost:8080/",
          "height": 34
        },
        "id": "mxpHOQKdrjmT",
        "outputId": "47933ced-4464-47e5-b296-820f3a9ae4a5"
      },
      "outputs": [
        {
          "name": "stdout",
          "output_type": "stream",
          "text": [
            "binary\n"
          ]
        }
      ],
      "source": [
        "print(utils.multiclass.type_of_target(y_train))"
      ]
    },
    {
      "cell_type": "code",
      "execution_count": null,
      "metadata": {
        "colab": {
          "base_uri": "https://localhost:8080/",
          "height": 34
        },
        "id": "hYraF01VrlUo",
        "outputId": "88ffa882-1236-4fb9-ad30-3af21bc1f467"
      },
      "outputs": [
        {
          "data": {
            "text/plain": [
              "numpy.ndarray"
            ]
          },
          "execution_count": 93,
          "metadata": {
            "tags": []
          },
          "output_type": "execute_result"
        }
      ],
      "source": [
        "type(y_pred_logistic)"
      ]
    },
    {
      "cell_type": "code",
      "execution_count": null,
      "metadata": {
        "colab": {
          "base_uri": "https://localhost:8080/",
          "height": 34
        },
        "id": "yDsdgCAKrq39",
        "outputId": "74b896db-475b-4783-8d7f-770795c37f93"
      },
      "outputs": [
        {
          "name": "stdout",
          "output_type": "stream",
          "text": [
            "binary\n"
          ]
        }
      ],
      "source": [
        "print(utils.multiclass.type_of_target(y_pred_logistic))"
      ]
    },
    {
      "cell_type": "markdown",
      "metadata": {
        "id": "a-VKZztD6SOy"
      },
      "source": [
        "# SVM"
      ]
    },
    {
      "cell_type": "code",
      "execution_count": null,
      "metadata": {
        "collapsed": true,
        "id": "lv9Fw0qJrv9v"
      },
      "outputs": [],
      "source": [
        "SVM_classifier =  svm.SVC()"
      ]
    },
    {
      "cell_type": "code",
      "execution_count": null,
      "metadata": {
        "colab": {
          "base_uri": "https://localhost:8080/",
          "height": 173
        },
        "id": "V3u0OOA5aPsG",
        "outputId": "b90abbc6-d4cb-406f-c22b-43040ebfad2e"
      },
      "outputs": [
        {
          "name": "stderr",
          "output_type": "stream",
          "text": [
            "/usr/local/lib/python3.6/dist-packages/sklearn/svm/base.py:196: FutureWarning:\n",
            "\n",
            "The default value of gamma will change from 'auto' to 'scale' in version 0.22 to account better for unscaled features. Set gamma explicitly to 'auto' or 'scale' to avoid this warning.\n",
            "\n"
          ]
        },
        {
          "data": {
            "text/plain": [
              "SVC(C=1.0, cache_size=200, class_weight=None, coef0=0.0,\n",
              "  decision_function_shape='ovr', degree=3, gamma='auto_deprecated',\n",
              "  kernel='rbf', max_iter=-1, probability=False, random_state=None,\n",
              "  shrinking=True, tol=0.001, verbose=False)"
            ]
          },
          "execution_count": 96,
          "metadata": {
            "tags": []
          },
          "output_type": "execute_result"
        }
      ],
      "source": [
        "SVM_classifier.fit(x_train, y_train)"
      ]
    },
    {
      "cell_type": "code",
      "execution_count": null,
      "metadata": {
        "collapsed": true,
        "id": "jWsIZUH7aWIt"
      },
      "outputs": [],
      "source": [
        "y_pred_SVM = SVM_classifier.predict(x_test)"
      ]
    },
    {
      "cell_type": "code",
      "execution_count": null,
      "metadata": {
        "colab": {
          "base_uri": "https://localhost:8080/",
          "height": 51
        },
        "id": "hEWf5wMqaZf-",
        "outputId": "7520a3da-4265-47f4-860c-e4bc8a374cb1"
      },
      "outputs": [
        {
          "name": "stdout",
          "output_type": "stream",
          "text": [
            "Mean squared error: 0.23\n",
            "R2 score: -0.29\n"
          ]
        }
      ],
      "source": [
        "# The coefficients\n",
        "#print('Coefficients: \\n', logreg.coef_)\n",
        "# The mean squared error\n",
        "print(\"Mean squared error: %.2f\"\n",
        "      % mean_squared_error(y_test, y_pred_SVM))\n",
        "# Explained variance score: 1 is perfect prediction\n",
        "print('R2 score: %.2f' % r2_score(y_test, y_pred_SVM))"
      ]
    },
    {
      "cell_type": "code",
      "execution_count": null,
      "metadata": {
        "collapsed": true,
        "id": "WFmtXti-bSZu"
      },
      "outputs": [],
      "source": [
        "cf =confusion_matrix(y_test,y_pred_SVM)"
      ]
    },
    {
      "cell_type": "code",
      "execution_count": null,
      "metadata": {
        "colab": {
          "base_uri": "https://localhost:8080/",
          "height": 472
        },
        "id": "3WOcojz7a3yR",
        "outputId": "9c707437-0e36-431d-ad35-eb0d5d633c6c"
      },
      "outputs": [
        {
          "data": {
            "image/png": "[encoded data removed]",
            "text/plain": [
              "<Figure size 640x480 with 2 Axes>"
            ]
          },
          "metadata": {
            "tags": []
          },
          "output_type": "display_data"
        }
      ],
      "source": [
        "plt.imshow(cf,cmap=plt.cm.Blues,interpolation='nearest')\n",
        "plt.colorbar()\n",
        "plt.title('Confusion Matrix without Normalization')\n",
        "plt.xlabel('Predicted')\n",
        "plt.ylabel('Actual')\n",
        "tick_marks = np.arange(len(set(y_test))) # length of classes\n",
        "class_labels = ['0','1']\n",
        "tick_marks\n",
        "plt.xticks(tick_marks,class_labels)\n",
        "plt.yticks(tick_marks,class_labels)\n",
        "# plotting text value inside cells\n",
        "thresh = cf.max() / 2.\n",
        "for i,j in itertools.product(range(cf.shape[0]),range(cf.shape[1])):\n",
        "    plt.text(j,i,format(cf[i,j],'d'),horizontalalignment='center',color='white' if cf[i,j] >thresh else 'black')\n",
        "plt.show();"
      ]
    },
    {
      "cell_type": "code",
      "execution_count": null,
      "metadata": {
        "collapsed": true,
        "id": "4pdwlGMjw3rW"
      },
      "outputs": [],
      "source": [
        ""
      ]
    },
    {
      "cell_type": "markdown",
      "metadata": {
        "id": "vVWKXrSRw5E5"
      },
      "source": [
        "# Naive Bayes model"
      ]
    },
    {
      "cell_type": "code",
      "execution_count": null,
      "metadata": {
        "collapsed": true,
        "id": "278BCbfnw5FE"
      },
      "outputs": [],
      "source": [
        "nb = MultinomialNB()\n",
        "nb.fit(x_train,y_train)\n",
        "\n",
        "y_nb_predict = nb.predict(x_test)"
      ]
    },
    {
      "cell_type": "code",
      "execution_count": null,
      "metadata": {
        "colab": {
          "base_uri": "https://localhost:8080/",
          "height": 34
        },
        "id": "WtgYFkcDw5FH",
        "outputId": "6ffffd2d-b2af-43b2-d57e-fd1afea38cf2"
      },
      "outputs": [
        {
          "name": "stdout",
          "output_type": "stream",
          "text": [
            "Accuracy score: 0.6642335766423357\n"
          ]
        }
      ],
      "source": [
        "score = metrics.accuracy_score(y_test, y_nb_predict)\n",
        "print(\"Accuracy score: {}\".format(score))"
      ]
    },
    {
      "cell_type": "code",
      "execution_count": null,
      "metadata": {
        "colab": {
          "base_uri": "https://localhost:8080/",
          "height": 68
        },
        "id": "FWPuYFPcw5FK",
        "outputId": "7f8ce50f-96c0-4e63-96cf-3c6c18fb1e08"
      },
      "outputs": [
        {
          "name": "stdout",
          "output_type": "stream",
          "text": [
            "Precision score: 0.6642335766423357\n",
            "Recall score: 0.6642335766423357\n",
            "F1 score: 0.6642335766423357\n"
          ]
        }
      ],
      "source": [
        "score_tf_precision_stopping = metrics.precision_score(y_test, y_nb_predict, average= \"weighted\")\n",
        "print(\"Precision score: {}\".format(score_tf_precision_stopping))\n",
        "\n",
        "\n",
        "score_tf_recall_stopping = metrics.recall_score(y_test, y_nb_predict, average= \"weighted\")\n",
        "print(\"Recall score: {}\".format(score_tf_recall_stopping))\n",
        "\n",
        "\n",
        "score_tf_f1_stopping = metrics.f1_score(y_test, y_nb_predict, average= \"weighted\")\n",
        "print(\"F1 score: {}\".format(score_tf_f1_stopping))\n",
        "\n"
      ]
    },
    {
      "cell_type": "code",
      "execution_count": null,
      "metadata": {
        "colab": {
          "base_uri": "https://localhost:8080/",
          "height": 472
        },
        "id": "OSdz0CdJw5FY",
        "outputId": "544369ac-b52b-439f-869f-271f7d649df2"
      },
      "outputs": [
        {
          "data": {
            "image/png": "[encoded data removed]",
            "text/plain": [
              "<Figure size 640x480 with 2 Axes>"
            ]
          },
          "metadata": {
            "tags": []
          },
          "output_type": "display_data"
        }
      ],
      "source": [
        "cf1 =confusion_matrix(y_test, y_nb_predict)\n",
        "plt.imshow(cf1,cmap=plt.cm.Blues,interpolation='nearest')\n",
        "plt.colorbar()\n",
        "plt.title('Confusion Matrix without Normalization')\n",
        "plt.xlabel('Predicted')\n",
        "plt.ylabel('Actual')\n",
        "tick_marks = np.arange(len(set(y_test.flatten()))) # length of classes\n",
        "class_labels = ['0','1']\n",
        "tick_marks\n",
        "plt.xticks(tick_marks,class_labels)\n",
        "plt.yticks(tick_marks,class_labels)\n",
        "# plotting text value inside cells\n",
        "thresh = cf1.max() / 2.\n",
        "for i,j in itertools.product(range(cf1.shape[0]),range(cf1.shape[1])):\n",
        "    plt.text(j,i,format(cf1[i,j],'d'),horizontalalignment='center',color='white' if cf1[i,j] >thresh else 'black')\n",
        "plt.show();"
      ]
    },
    {
      "cell_type": "markdown",
      "metadata": {
        "id": "VSymspicqwze"
      },
      "source": [
        "# KNN "
      ]
    },
    {
      "cell_type": "code",
      "execution_count": null,
      "metadata": {
        "collapsed": true,
        "id": "azwt4JSFqwzj"
      },
      "outputs": [],
      "source": [
        "#knn\n",
        "from sklearn.neighbors import KNeighborsClassifier\n",
        "knn_extra = KNeighborsClassifier(n_neighbors=10)\n",
        "knn_extra.fit(x_train,y_train)\n",
        "y_pred_knn_e = knn_extra.predict(x_test)\n",
        "\n"
      ]
    },
    {
      "cell_type": "code",
      "execution_count": null,
      "metadata": {
        "colab": {
          "base_uri": "https://localhost:8080/",
          "height": 221
        },
        "id": "c_jmkNYeqwzs",
        "outputId": "7085e4ca-1630-4ce7-9708-e2564046d8c4"
      },
      "outputs": [
        {
          "name": "stdout",
          "output_type": "stream",
          "text": [
            "Accuracy score: 0.7737226277372263\n",
            "Precision score: 0.5986467046725985\n",
            "Recall score: 0.7737226277372263\n",
            "F1 score: 0.6750172719353579\n"
          ]
        },
        {
          "name": "stderr",
          "output_type": "stream",
          "text": [
            "/usr/local/lib/python3.6/dist-packages/sklearn/metrics/classification.py:1143: UndefinedMetricWarning:\n",
            "\n",
            "Precision is ill-defined and being set to 0.0 in labels with no predicted samples.\n",
            "\n",
            "/usr/local/lib/python3.6/dist-packages/sklearn/metrics/classification.py:1143: UndefinedMetricWarning:\n",
            "\n",
            "F-score is ill-defined and being set to 0.0 in labels with no predicted samples.\n",
            "\n"
          ]
        }
      ],
      "source": [
        "score = metrics.accuracy_score(y_test, y_pred_knn_e)\n",
        "print(\"Accuracy score: {}\".format(score))\n",
        "\n",
        "score_tf_precision_stopping = metrics.precision_score(y_test, y_pred_knn_e, average= \"weighted\")\n",
        "print(\"Precision score: {}\".format(score_tf_precision_stopping))\n",
        "\n",
        "\n",
        "score_tf_recall_stopping = metrics.recall_score(y_test, y_pred_knn_e, average= \"weighted\")\n",
        "print(\"Recall score: {}\".format(score_tf_recall_stopping))\n",
        "\n",
        "\n",
        "score_tf_f1_stopping = metrics.f1_score(y_test,y_pred_knn_e, average= \"weighted\")\n",
        "print(\"F1 score: {}\".format(score_tf_f1_stopping))"
      ]
    },
    {
      "cell_type": "code",
      "execution_count": null,
      "metadata": {
        "colab": {
          "base_uri": "https://localhost:8080/",
          "height": 472
        },
        "id": "T6EOw5Lzqwz0",
        "outputId": "aa6d51de-8102-45d5-b42b-cf9f41dba216"
      },
      "outputs": [
        {
          "data": {
            "image/png": "[encoded data removed]",
            "text/plain": [
              "<Figure size 640x480 with 2 Axes>"
            ]
          },
          "metadata": {
            "tags": []
          },
          "output_type": "display_data"
        }
      ],
      "source": [
        "cf1 =confusion_matrix(y_test,y_pred_knn_e)\n",
        "plt.imshow(cf1,cmap=plt.cm.Blues,interpolation='nearest')\n",
        "plt.colorbar()\n",
        "plt.title('Confusion Matrix without Normalization')\n",
        "plt.xlabel('Predicted')\n",
        "plt.ylabel('Actual')\n",
        "tick_marks = np.arange(len(set(y_test.flatten()))) # length of classes\n",
        "class_labels = ['0','1']\n",
        "tick_marks\n",
        "plt.xticks(tick_marks,class_labels)\n",
        "plt.yticks(tick_marks,class_labels)\n",
        "# plotting text value inside cells\n",
        "thresh = cf1.max() / 2.\n",
        "for i,j in itertools.product(range(cf1.shape[0]),range(cf1.shape[1])):\n",
        "    plt.text(j,i,format(cf1[i,j],'d'),horizontalalignment='center',color='white' if cf1[i,j] >thresh else 'black')\n",
        "plt.show();"
      ]
    },
    {
      "cell_type": "markdown",
      "metadata": {
        "id": "7IhIJYRTskiP"
      },
      "source": [
        "# TensorFlow Classification"
      ]
    },
    {
      "cell_type": "code",
      "execution_count": null,
      "metadata": {
        "colab": {
          "base_uri": "https://localhost:8080/",
          "height": 34
        },
        "id": "-n0HNEz1taSd",
        "outputId": "d6a560d0-4571-4a53-dfbe-d7cee26876fd"
      },
      "outputs": [
        {
          "name": "stderr",
          "output_type": "stream",
          "text": [
            "Using TensorFlow backend.\n"
          ]
        }
      ],
      "source": [
        "import keras\n",
        "import keras\n",
        "from keras.models import Sequential\n",
        "from keras import regularizers\n",
        "from keras.layers.core import Dense, Activation\n",
        "from keras.layers import Dropout, Flatten\n",
        "from keras.layers import Conv2D, MaxPooling2D\n",
        "from keras.callbacks import EarlyStopping, ModelCheckpoint"
      ]
    },
    {
      "cell_type": "code",
      "execution_count": null,
      "metadata": {
        "colab": {
          "base_uri": "https://localhost:8080/",
          "height": 51
        },
        "id": "cT4X7GRYtaSo",
        "outputId": "85e9cc1a-8af3-48c5-cc93-502f4188af47"
      },
      "outputs": [
        {
          "name": "stdout",
          "output_type": "stream",
          "text": [
            "(318, 366)\n",
            "(137, 2)\n"
          ]
        }
      ],
      "source": [
        "num_classes = 2\n",
        "#Convert class vectors to one hot format\n",
        "y_train1 = keras.utils.to_categorical(y_train,num_classes)\n",
        "\n",
        "y_test1 = keras.utils.to_categorical(y_test,num_classes)\n",
        "print(x_train.shape)\n",
        "print(y_test1.shape)"
      ]
    },
    {
      "cell_type": "code",
      "execution_count": null,
      "metadata": {
        "collapsed": true,
        "id": "P_MSpugVtaSs"
      },
      "outputs": [],
      "source": [
        "checkpointer2 = ModelCheckpoint(filepath=\"./best1.hdf5\", verbose=0, save_best_only=True) # save best model"
      ]
    },
    {
      "cell_type": "code",
      "execution_count": null,
      "metadata": {
        "colab": {
          "base_uri": "https://localhost:8080/",
          "height": 2009
        },
        "id": "IsgtjnHRtaSv",
        "outputId": "78b31e0c-b346-47f9-eac2-21049341cff7"
      },
      "outputs": [
        {
          "name": "stdout",
          "output_type": "stream",
          "text": [
            "0\n",
            "WARNING:tensorflow:From /usr/local/lib/python3.6/dist-packages/tensorflow/python/framework/op_def_library.py:263: colocate_with (from tensorflow.python.framework.ops) is deprecated and will be removed in a future version.\n",
            "Instructions for updating:\n",
            "Colocations handled automatically by placer.\n",
            "WARNING:tensorflow:From /usr/local/lib/python3.6/dist-packages/tensorflow/python/ops/math_ops.py:3066: to_int32 (from tensorflow.python.ops.math_ops) is deprecated and will be removed in a future version.\n",
            "Instructions for updating:\n",
            "Use tf.cast instead.\n",
            "Train on 318 samples, validate on 137 samples\n",
            "Epoch 1/10\n",
            "318/318 [==============================] - 1s 3ms/step - loss: 0.6895 - val_loss: 0.6125\n",
            "Epoch 2/10\n",
            "318/318 [==============================] - 0s 112us/step - loss: 0.5503 - val_loss: 0.5620\n",
            "Epoch 3/10\n",
            "318/318 [==============================] - 0s 105us/step - loss: 0.4964 - val_loss: 0.5379\n",
            "Epoch 4/10\n",
            "318/318 [==============================] - 0s 109us/step - loss: 0.4513 - val_loss: 0.5331\n",
            "Epoch 5/10\n",
            "318/318 [==============================] - 0s 115us/step - loss: 0.4294 - val_loss: 0.5423\n",
            "Epoch 6/10\n",
            "318/318 [==============================] - 0s 110us/step - loss: 0.4147 - val_loss: 0.5479\n",
            "Epoch 7/10\n",
            "318/318 [==============================] - 0s 111us/step - loss: 0.4050 - val_loss: 0.5463\n",
            "Epoch 8/10\n",
            "318/318 [==============================] - 0s 108us/step - loss: 0.3959 - val_loss: 0.5355\n",
            "Epoch 9/10\n",
            "318/318 [==============================] - 0s 106us/step - loss: 0.3840 - val_loss: 0.5365\n",
            "Epoch 10/10\n",
            "318/318 [==============================] - 0s 110us/step - loss: 0.3719 - val_loss: 0.5298\n",
            "1\n",
            "Train on 318 samples, validate on 137 samples\n",
            "Epoch 1/10\n",
            "318/318 [==============================] - 0s 709us/step - loss: 0.7193 - val_loss: 0.5615\n",
            "Epoch 2/10\n",
            "318/318 [==============================] - 0s 110us/step - loss: 0.4623 - val_loss: 0.5343\n",
            "Epoch 3/10\n",
            "318/318 [==============================] - 0s 105us/step - loss: 0.4230 - val_loss: 0.5513\n",
            "Epoch 4/10\n",
            "318/318 [==============================] - 0s 107us/step - loss: 0.4131 - val_loss: 0.5575\n",
            "Epoch 5/10\n",
            "318/318 [==============================] - 0s 106us/step - loss: 0.4024 - val_loss: 0.5509\n",
            "Epoch 6/10\n",
            "318/318 [==============================] - 0s 119us/step - loss: 0.3897 - val_loss: 0.5371\n",
            "Epoch 7/10\n",
            "318/318 [==============================] - 0s 105us/step - loss: 0.3773 - val_loss: 0.5321\n",
            "Epoch 8/10\n",
            "318/318 [==============================] - 0s 119us/step - loss: 0.3660 - val_loss: 0.5294\n",
            "Epoch 9/10\n",
            "318/318 [==============================] - 0s 126us/step - loss: 0.3537 - val_loss: 0.5250\n",
            "Epoch 10/10\n",
            "318/318 [==============================] - 0s 110us/step - loss: 0.3420 - val_loss: 0.5257\n",
            "2\n",
            "Train on 318 samples, validate on 137 samples\n",
            "Epoch 1/10\n",
            "318/318 [==============================] - 0s 839us/step - loss: 0.8751 - val_loss: 0.6244\n",
            "Epoch 2/10\n",
            "318/318 [==============================] - 0s 114us/step - loss: 0.5183 - val_loss: 0.5575\n",
            "Epoch 3/10\n",
            "318/318 [==============================] - 0s 112us/step - loss: 0.4391 - val_loss: 0.5785\n",
            "Epoch 4/10\n",
            "318/318 [==============================] - 0s 111us/step - loss: 0.4226 - val_loss: 0.5978\n",
            "Epoch 5/10\n",
            "318/318 [==============================] - 0s 113us/step - loss: 0.4109 - val_loss: 0.5869\n",
            "Epoch 6/10\n",
            "318/318 [==============================] - 0s 111us/step - loss: 0.3965 - val_loss: 0.5768\n",
            "Epoch 7/10\n",
            "318/318 [==============================] - 0s 112us/step - loss: 0.3833 - val_loss: 0.5613\n",
            "Epoch 8/10\n",
            "318/318 [==============================] - 0s 115us/step - loss: 0.3702 - val_loss: 0.5541\n",
            "Epoch 9/10\n",
            "318/318 [==============================] - 0s 112us/step - loss: 0.3558 - val_loss: 0.5544\n",
            "Epoch 10/10\n",
            "318/318 [==============================] - 0s 108us/step - loss: 0.3426 - val_loss: 0.5538\n",
            "3\n",
            "Train on 318 samples, validate on 137 samples\n",
            "Epoch 1/10\n",
            "318/318 [==============================] - 0s 970us/step - loss: 0.8157 - val_loss: 0.6072\n",
            "Epoch 2/10\n",
            "318/318 [==============================] - 0s 117us/step - loss: 0.4990 - val_loss: 0.5387\n",
            "Epoch 3/10\n",
            "318/318 [==============================] - 0s 110us/step - loss: 0.4367 - val_loss: 0.5453\n",
            "Epoch 4/10\n",
            "318/318 [==============================] - 0s 112us/step - loss: 0.4235 - val_loss: 0.5551\n",
            "Epoch 5/10\n",
            "318/318 [==============================] - 0s 113us/step - loss: 0.4128 - val_loss: 0.5532\n",
            "Epoch 6/10\n",
            "318/318 [==============================] - 0s 113us/step - loss: 0.4020 - val_loss: 0.5413\n",
            "Epoch 7/10\n",
            "318/318 [==============================] - 0s 112us/step - loss: 0.3900 - val_loss: 0.5328\n",
            "Epoch 8/10\n",
            "318/318 [==============================] - 0s 113us/step - loss: 0.3766 - val_loss: 0.5271\n",
            "Epoch 9/10\n",
            "318/318 [==============================] - 0s 112us/step - loss: 0.3640 - val_loss: 0.5208\n",
            "Epoch 10/10\n",
            "318/318 [==============================] - 0s 107us/step - loss: 0.3501 - val_loss: 0.5177\n",
            "4\n",
            "Train on 318 samples, validate on 137 samples\n",
            "Epoch 1/10\n",
            "318/318 [==============================] - 0s 1ms/step - loss: 0.8585 - val_loss: 0.6742\n",
            "Epoch 2/10\n",
            "318/318 [==============================] - 0s 112us/step - loss: 0.6318 - val_loss: 0.6197\n",
            "Epoch 3/10\n",
            "318/318 [==============================] - 0s 115us/step - loss: 0.5762 - val_loss: 0.5876\n",
            "Epoch 4/10\n",
            "318/318 [==============================] - 0s 117us/step - loss: 0.5271 - val_loss: 0.5550\n",
            "Epoch 5/10\n",
            "318/318 [==============================] - 0s 114us/step - loss: 0.4745 - val_loss: 0.5314\n",
            "Epoch 6/10\n",
            "318/318 [==============================] - 0s 121us/step - loss: 0.4385 - val_loss: 0.5283\n",
            "Epoch 7/10\n",
            "318/318 [==============================] - 0s 111us/step - loss: 0.4178 - val_loss: 0.5361\n",
            "Epoch 8/10\n",
            "318/318 [==============================] - 0s 111us/step - loss: 0.4076 - val_loss: 0.5394\n",
            "Epoch 9/10\n",
            "318/318 [==============================] - 0s 112us/step - loss: 0.4003 - val_loss: 0.5395\n",
            "Epoch 10/10\n",
            "318/318 [==============================] - 0s 127us/step - loss: 0.3926 - val_loss: 0.5361\n"
          ]
        }
      ],
      "source": [
        "\n",
        "for i in range(5):\n",
        "   print(i)\n",
        "\n",
        "   model = Sequential()\n",
        "   model.add(Dense(25, input_dim=x_train.shape[1], activation='relu')) # Hidden 1\n",
        "   model.add(Dense(10, activation='relu')) # Hidden 2\n",
        "   model.add(Dense(y_train1.shape[1], activation='softmax'))\n",
        "\n",
        "   #adam = optimizers.Adam(lr=0.001, beta_1=0.9, beta_2=0.999, epsilon=None, decay=0.0, amsgrad=False)\n",
        "   monitor = EarlyStopping(monitor='val_loss', min_delta=1e-3, patience=6, verbose=2, mode='auto')\n",
        "   model.compile(loss=\"categorical_crossentropy\", optimizer='adam')\n",
        "   model.fit(x_train,y_train1,callbacks=[monitor,checkpointer2],validation_data=(x_test, y_test1),epochs=10)"
      ]
    },
    {
      "cell_type": "code",
      "execution_count": null,
      "metadata": {
        "colab": {
          "base_uri": "https://localhost:8080/",
          "height": 34
        },
        "id": "o_lCB6OWtaS1",
        "outputId": "6728fc29-3d00-4e98-a5f4-bf668eeacbcd"
      },
      "outputs": [
        {
          "name": "stdout",
          "output_type": "stream",
          "text": [
            "Accuracy score: 0.7737226277372263\n"
          ]
        }
      ],
      "source": [
        "model.load_weights('./best1.hdf5')\n",
        "y_pred_c = model.predict(x_test)\n",
        "y_pred_c = np.argmax(y_pred_c,axis=1)\n",
        "y_test_c= np.argmax(y_test1,axis=1)\n",
        "score = metrics.accuracy_score(y_test_c, y_pred_c)\n",
        "print(\"Accuracy score: {}\".format(score))"
      ]
    },
    {
      "cell_type": "code",
      "execution_count": null,
      "metadata": {
        "colab": {
          "base_uri": "https://localhost:8080/",
          "height": 221
        },
        "id": "3qOE4S8ztaS6",
        "outputId": "7e6a0660-4fee-4a53-b044-1b10e87d317e"
      },
      "outputs": [
        {
          "name": "stdout",
          "output_type": "stream",
          "text": [
            "Accuracy score: 0.7737226277372263\n",
            "Precision score: 0.5986467046725985\n",
            "Recall score: 0.7737226277372263\n",
            "F1 score: 0.6750172719353579\n"
          ]
        },
        {
          "name": "stderr",
          "output_type": "stream",
          "text": [
            "/usr/local/lib/python3.6/dist-packages/sklearn/metrics/classification.py:1143: UndefinedMetricWarning:\n",
            "\n",
            "Precision is ill-defined and being set to 0.0 in labels with no predicted samples.\n",
            "\n",
            "/usr/local/lib/python3.6/dist-packages/sklearn/metrics/classification.py:1143: UndefinedMetricWarning:\n",
            "\n",
            "F-score is ill-defined and being set to 0.0 in labels with no predicted samples.\n",
            "\n"
          ]
        }
      ],
      "source": [
        "score = metrics.accuracy_score(y_test_c, y_pred_c)\n",
        "print(\"Accuracy score: {}\".format(score))\n",
        "\n",
        "score_tf_precision_stopping = metrics.precision_score(y_test_c, y_pred_c, average= \"weighted\")\n",
        "print(\"Precision score: {}\".format(score_tf_precision_stopping))\n",
        "\n",
        "\n",
        "score_tf_recall_stopping = metrics.recall_score(y_test_c, y_pred_c, average= \"weighted\")\n",
        "print(\"Recall score: {}\".format(score_tf_recall_stopping))\n",
        "\n",
        "\n",
        "score_tf_f1_stopping = metrics.f1_score(y_test_c, y_pred_c, average= \"weighted\")\n",
        "print(\"F1 score: {}\".format(score_tf_f1_stopping))"
      ]
    },
    {
      "cell_type": "code",
      "execution_count": null,
      "metadata": {
        "colab": {
          "base_uri": "https://localhost:8080/",
          "height": 472
        },
        "id": "o-dt266ktaTG",
        "outputId": "0ff728b5-75d4-446d-ce15-f344609e3bf2"
      },
      "outputs": [
        {
          "data": {
            "image/png": "[encoded data removed]",
            "text/plain": [
              "<Figure size 640x480 with 2 Axes>"
            ]
          },
          "metadata": {
            "tags": []
          },
          "output_type": "display_data"
        }
      ],
      "source": [
        "cf1 =confusion_matrix(y_test_c, y_pred_c)\n",
        "plt.imshow(cf1,cmap=plt.cm.Blues,interpolation='nearest')\n",
        "plt.colorbar()\n",
        "plt.title('Confusion Matrix without Normalization')\n",
        "plt.xlabel('Predicted')\n",
        "plt.ylabel('Actual')\n",
        "tick_marks = np.arange(len(set(y_test_c.flatten()))) # length of classes\n",
        "class_labels = ['0','1']\n",
        "tick_marks\n",
        "plt.xticks(tick_marks,class_labels)\n",
        "plt.yticks(tick_marks,class_labels)\n",
        "# plotting text value inside cells\n",
        "thresh = cf1.max() / 2.\n",
        "for i,j in itertools.product(range(cf1.shape[0]),range(cf1.shape[1])):\n",
        "    plt.text(j,i,format(cf1[i,j],'d'),horizontalalignment='center',color='white' if cf1[i,j] >thresh else 'black')\n",
        "plt.show();"
      ]
    },
    {
      "cell_type": "code",
      "execution_count": null,
      "metadata": {
        "collapsed": true,
        "id": "qUcgpIZ8taTM"
      },
      "outputs": [],
      "source": [
        ""
      ]
    },
    {
      "cell_type": "markdown",
      "metadata": {
        "id": "b1EJbK6kqcb4"
      },
      "source": [
        "# Testing with over sampling data Using SMOTENC"
      ]
    },
    {
      "cell_type": "code",
      "execution_count": null,
      "metadata": {
        "collapsed": true,
        "id": "giRJJo5Wc-_U"
      },
      "outputs": [],
      "source": [
        "y_df_oversampling = df_for_sampling['attempt_suicide']"
      ]
    },
    {
      "cell_type": "code",
      "execution_count": null,
      "metadata": {
        "collapsed": true,
        "id": "DwD90hqceBsq"
      },
      "outputs": [],
      "source": [
        "y_df_oversampling_array = y_df_oversampling.values"
      ]
    },
    {
      "cell_type": "code",
      "execution_count": null,
      "metadata": {
        "colab": {
          "base_uri": "https://localhost:8080/",
          "height": 748
        },
        "id": "D-7nHXxLDnpS",
        "outputId": "19b12f36-c7dd-4cd2-a799-4105818827a3"
      },
      "outputs": [
        {
          "data": {
            "text/plain": [
              "array(['Yes', 'No', 'No', 'No', 'No', 'Yes', 'No', 'Yes', 'No', 'Yes',\n",
              "       'No', 'Yes', 'No', 'Yes', 'No', 'No', 'No', 'No', 'Yes', 'No',\n",
              "       'No', 'No', 'No', 'No', 'No', 'No', 'No', 'No', 'No', 'No', 'No',\n",
              "       'No', 'No', 'No', 'No', 'No', 'No', 'No', 'No', 'No', 'No', 'No',\n",
              "       'Yes', 'No', 'No', 'No', 'No', 'No', 'No', 'Yes', 'No', 'No', 'No',\n",
              "       'No', 'No', 'No', 'No', 'No', 'No', 'No', 'No', 'Yes', 'No', 'No',\n",
              "       'No', 'No', 'No', 'Yes', 'No', 'No', 'No', 'Yes', 'Yes', 'No',\n",
              "       'No', 'No', 'No', 'Yes', 'No', 'No', 'No', 'No', 'No', 'No', 'No',\n",
              "       'No', 'No', 'No', 'No', 'No', 'No', 'No', 'No', 'Yes', 'No', 'No',\n",
              "       'Yes', 'No', 'Yes', 'Yes', 'No', 'Yes', 'No', 'No', 'No', 'No',\n",
              "       'No', 'Yes', 'No', 'No', 'No', 'Yes', 'No', 'No', 'No', 'No', 'No',\n",
              "       'No', 'No', 'Yes', 'No', 'No', 'No', 'No', 'No', 'No', 'Yes', 'No',\n",
              "       'No', 'No', 'No', 'No', 'No', 'No', 'No', 'No', 'No', 'No', 'Yes',\n",
              "       'No', 'Yes', 'No', 'No', 'No', 'No', 'No', 'No', 'Yes', 'No', 'No',\n",
              "       'No', 'Yes', 'No', 'No', 'No', 'Yes', 'No', 'No', 'No', 'No', 'No',\n",
              "       'No', 'No', 'No', 'No', 'No', 'No', 'No', 'No', 'No', 'No', 'No',\n",
              "       'Yes', 'No', 'No', 'No', 'No', 'No', 'Yes', 'No', 'No', 'Yes',\n",
              "       'No', 'No', 'Yes', 'No', 'No', 'No', 'No', 'No', 'No', 'No', 'Yes',\n",
              "       'No', 'No', 'Yes', 'Yes', 'No', 'Yes', 'No', 'No', 'No', 'No',\n",
              "       'No', 'No', 'Yes', 'No', 'Yes', 'No', 'No', 'No', 'No', 'No',\n",
              "       'Yes', 'Yes', 'No', 'No', 'No', 'No', 'Yes', 'No', 'No', 'No',\n",
              "       'No', 'No', 'No', 'No', 'No', 'No', 'Yes', 'No', 'No', 'No', 'No',\n",
              "       'No', 'No', 'No', 'Yes', 'No', 'Yes', 'No', 'No', 'No', 'No', 'No',\n",
              "       'No', 'No', 'No', 'No', 'No', 'No', 'Yes', 'Yes', 'No', 'No', 'No',\n",
              "       'Yes', 'Yes', 'No', 'No', 'No', 'No', 'No', 'No', 'No', 'No', 'No',\n",
              "       'No', 'No', 'Yes', 'No', 'Yes', 'No', 'Yes', 'No', 'No', 'Yes',\n",
              "       'No', 'No', 'No', 'No', 'No', 'No', 'No', 'No', 'No', 'No', 'No',\n",
              "       'No', 'Yes', 'No', 'No', 'No', 'No', 'No', 'No', 'No', 'No', 'No',\n",
              "       'No', 'No', 'No', 'Yes', 'No', 'No', 'No', 'No', 'No', 'No', 'Yes',\n",
              "       'No', 'Yes', 'No', 'No', 'Yes', 'No', 'No', 'No', 'No', 'No', 'No',\n",
              "       'No', 'No', 'No', 'No', 'Yes', 'No', 'No', 'No', 'No', 'No', 'Yes',\n",
              "       'No', 'Yes', 'No', 'No', 'No', 'No', 'No', 'No', 'No', 'Yes',\n",
              "       'Yes', 'No', 'No', 'No', 'No', 'No', 'No', 'Yes', 'Yes', 'No',\n",
              "       'No', 'No', 'No', 'No', 'Yes', 'No', 'No', 'Yes', 'No', 'No', 'No',\n",
              "       'No', 'No', 'No', 'No', 'No', 'No', 'No', 'No', 'No', 'No', 'No',\n",
              "       'No', 'No', 'No', 'No', 'No', 'No', 'Yes', 'No', 'Yes', 'No', 'No',\n",
              "       'No', 'No', 'No', 'No', 'No', 'Yes', 'Yes', 'No', 'No', 'No', 'No',\n",
              "       'No', 'No', 'No', 'Yes', 'No', 'No', 'No', 'No', 'No', 'No', 'Yes',\n",
              "       'No', 'No', 'Yes', 'Yes', 'No', 'No', 'Yes', 'No', 'No', 'No',\n",
              "       'No', 'No', 'Yes', 'No', 'No', 'No', 'No', 'No', 'No', 'No', 'No',\n",
              "       'Yes', 'Yes', 'No', 'Yes', 'Yes', 'No', 'No', 'No', 'Yes', 'No',\n",
              "       'No', 'No', 'No', 'No', 'No', 'No', 'No', 'No', 'No', 'Yes', 'No',\n",
              "       'Yes', 'No', 'No', 'Yes', 'No', 'No'], dtype=object)"
            ]
          },
          "execution_count": 117,
          "metadata": {
            "tags": []
          },
          "output_type": "execute_result"
        }
      ],
      "source": [
        "y_df_oversampling_array"
      ]
    },
    {
      "cell_type": "code",
      "execution_count": null,
      "metadata": {
        "collapsed": true,
        "id": "qiVj_1ncdjKU"
      },
      "outputs": [],
      "source": [
        "x_df_oversampling = df_for_sampling.drop(columns=\"attempt_suicide\")\n"
      ]
    },
    {
      "cell_type": "code",
      "execution_count": null,
      "metadata": {
        "collapsed": true,
        "id": "jsM6lzGaeLfA"
      },
      "outputs": [],
      "source": [
        "x_df_oversampling_array = x_df_oversampling.values"
      ]
    },
    {
      "cell_type": "code",
      "execution_count": null,
      "metadata": {
        "colab": {
          "base_uri": "https://localhost:8080/",
          "height": 85
        },
        "id": "X6L67UNLD4gh",
        "outputId": "9caf85b8-3c61-4786-f4f6-2c7d1bf500b0"
      },
      "outputs": [
        {
          "data": {
            "text/plain": [
              "array([['Male', 'Straight', 35, '$30,000 to $39,999',\n",
              "        'White non-Hispanic', 'Normal weight', 'Yes', 'No', 'No', 0,\n",
              "        'Yes', 'Yes', 'Employed for wages', 'mechanical drafter',\n",
              "        'Associate degree']], dtype=object)"
            ]
          },
          "execution_count": 120,
          "metadata": {
            "tags": []
          },
          "output_type": "execute_result"
        }
      ],
      "source": [
        "x_df_oversampling_array[:1]"
      ]
    },
    {
      "cell_type": "code",
      "execution_count": null,
      "metadata": {
        "colab": {
          "base_uri": "https://localhost:8080/",
          "height": 1071
        },
        "id": "UsEVk_G3eZXN",
        "outputId": "06638ae9-28f8-4145-936b-530c581b608a"
      },
      "outputs": [
        {
          "data": {
            "text/plain": [
              "0      Yes\n",
              "1       No\n",
              "2       No\n",
              "3       No\n",
              "4       No\n",
              "5      Yes\n",
              "6       No\n",
              "7      Yes\n",
              "8       No\n",
              "9      Yes\n",
              "10      No\n",
              "11     Yes\n",
              "12      No\n",
              "13     Yes\n",
              "14      No\n",
              "15      No\n",
              "16      No\n",
              "17      No\n",
              "18     Yes\n",
              "19      No\n",
              "20      No\n",
              "21      No\n",
              "22      No\n",
              "23      No\n",
              "24      No\n",
              "25      No\n",
              "26      No\n",
              "27      No\n",
              "28      No\n",
              "29      No\n",
              "      ... \n",
              "438     No\n",
              "439     No\n",
              "440     No\n",
              "441    Yes\n",
              "442    Yes\n",
              "443     No\n",
              "444    Yes\n",
              "445    Yes\n",
              "446     No\n",
              "447     No\n",
              "448     No\n",
              "449    Yes\n",
              "450     No\n",
              "451     No\n",
              "452     No\n",
              "453     No\n",
              "454     No\n",
              "455     No\n",
              "456     No\n",
              "458     No\n",
              "459     No\n",
              "460     No\n",
              "461    Yes\n",
              "462     No\n",
              "463    Yes\n",
              "464     No\n",
              "465     No\n",
              "466    Yes\n",
              "467     No\n",
              "468     No\n",
              "Name: attempt_suicide, Length: 455, dtype: object"
            ]
          },
          "execution_count": 121,
          "metadata": {
            "tags": []
          },
          "output_type": "execute_result"
        }
      ],
      "source": [
        "y_df_oversampling"
      ]
    },
    {
      "cell_type": "code",
      "execution_count": null,
      "metadata": {
        "colab": {
          "base_uri": "https://localhost:8080/",
          "height": 4080
        },
        "id": "1hzstEKfgqag",
        "outputId": "85e01ff3-674b-42c0-bb0f-bad022b42272"
      },
      "outputs": [
        {
          "data": {
            "text/html": [
              "<div>\n",
              "<style scoped>\n",
              "    .dataframe tbody tr th:only-of-type {\n",
              "        vertical-align: middle;\n",
              "    }\n",
              "\n",
              "    .dataframe tbody tr th {\n",
              "        vertical-align: top;\n",
              "    }\n",
              "\n",
              "    .dataframe thead th {\n",
              "        text-align: right;\n",
              "    }\n",
              "</style>\n",
              "<table border=\"1\" class=\"dataframe\">\n",
              "  <thead>\n",
              "    <tr style=\"text-align: right;\">\n",
              "      <th></th>\n",
              "      <th>gender</th>\n",
              "      <th>sexuallity</th>\n",
              "      <th>age</th>\n",
              "      <th>income</th>\n",
              "      <th>race</th>\n",
              "      <th>bodyweight</th>\n",
              "      <th>virgin</th>\n",
              "      <th>prostitution_legal</th>\n",
              "      <th>pay_for_sex</th>\n",
              "      <th>friends</th>\n",
              "      <th>social_fear</th>\n",
              "      <th>depressed</th>\n",
              "      <th>employment</th>\n",
              "      <th>job_title</th>\n",
              "      <th>edu_level</th>\n",
              "    </tr>\n",
              "  </thead>\n",
              "  <tbody>\n",
              "    <tr>\n",
              "      <th>0</th>\n",
              "      <td>Male</td>\n",
              "      <td>Straight</td>\n",
              "      <td>35</td>\n",
              "      <td>$30,000 to $39,999</td>\n",
              "      <td>White non-Hispanic</td>\n",
              "      <td>Normal weight</td>\n",
              "      <td>Yes</td>\n",
              "      <td>No</td>\n",
              "      <td>No</td>\n",
              "      <td>0</td>\n",
              "      <td>Yes</td>\n",
              "      <td>Yes</td>\n",
              "      <td>Employed for wages</td>\n",
              "      <td>mechanical drafter</td>\n",
              "      <td>Associate degree</td>\n",
              "    </tr>\n",
              "    <tr>\n",
              "      <th>1</th>\n",
              "      <td>Male</td>\n",
              "      <td>Bisexual</td>\n",
              "      <td>21</td>\n",
              "      <td>$1 to $10,000</td>\n",
              "      <td>White non-Hispanic</td>\n",
              "      <td>Underweight</td>\n",
              "      <td>Yes</td>\n",
              "      <td>No</td>\n",
              "      <td>No</td>\n",
              "      <td>0</td>\n",
              "      <td>Yes</td>\n",
              "      <td>Yes</td>\n",
              "      <td>Out of work and looking for work</td>\n",
              "      <td>None</td>\n",
              "      <td>Some college, no degree</td>\n",
              "    </tr>\n",
              "    <tr>\n",
              "      <th>2</th>\n",
              "      <td>Male</td>\n",
              "      <td>Straight</td>\n",
              "      <td>22</td>\n",
              "      <td>$0</td>\n",
              "      <td>White non-Hispanic</td>\n",
              "      <td>Overweight</td>\n",
              "      <td>Yes</td>\n",
              "      <td>No</td>\n",
              "      <td>No</td>\n",
              "      <td>10</td>\n",
              "      <td>Yes</td>\n",
              "      <td>Yes</td>\n",
              "      <td>Out of work but not currently looking for work</td>\n",
              "      <td>unemployed</td>\n",
              "      <td>Some college, no degree</td>\n",
              "    </tr>\n",
              "    <tr>\n",
              "      <th>3</th>\n",
              "      <td>Male</td>\n",
              "      <td>Straight</td>\n",
              "      <td>19</td>\n",
              "      <td>$1 to $10,000</td>\n",
              "      <td>White non-Hispanic</td>\n",
              "      <td>Overweight</td>\n",
              "      <td>Yes</td>\n",
              "      <td>Yes</td>\n",
              "      <td>No</td>\n",
              "      <td>8</td>\n",
              "      <td>Yes</td>\n",
              "      <td>Yes</td>\n",
              "      <td>A student</td>\n",
              "      <td>Student</td>\n",
              "      <td>Some college, no degree</td>\n",
              "    </tr>\n",
              "    <tr>\n",
              "      <th>4</th>\n",
              "      <td>Male</td>\n",
              "      <td>Straight</td>\n",
              "      <td>23</td>\n",
              "      <td>$30,000 to $39,999</td>\n",
              "      <td>White non-Hispanic</td>\n",
              "      <td>Overweight</td>\n",
              "      <td>No</td>\n",
              "      <td>No</td>\n",
              "      <td>Yes and I have</td>\n",
              "      <td>10</td>\n",
              "      <td>No</td>\n",
              "      <td>Yes</td>\n",
              "      <td>Employed for wages</td>\n",
              "      <td>Factory worker</td>\n",
              "      <td>High school graduate, diploma or the equivalen...</td>\n",
              "    </tr>\n",
              "    <tr>\n",
              "      <th>5</th>\n",
              "      <td>Male</td>\n",
              "      <td>Straight</td>\n",
              "      <td>24</td>\n",
              "      <td>$50,000 to $74,999</td>\n",
              "      <td>White non-Hispanic</td>\n",
              "      <td>Normal weight</td>\n",
              "      <td>Yes</td>\n",
              "      <td>No</td>\n",
              "      <td>Yes but I haven't</td>\n",
              "      <td>2</td>\n",
              "      <td>Yes</td>\n",
              "      <td>Yes</td>\n",
              "      <td>Employed for wages</td>\n",
              "      <td>game programmer</td>\n",
              "      <td>Bachelor’s degree</td>\n",
              "    </tr>\n",
              "    <tr>\n",
              "      <th>6</th>\n",
              "      <td>Male</td>\n",
              "      <td>Straight</td>\n",
              "      <td>22</td>\n",
              "      <td>$1 to $10,000</td>\n",
              "      <td>White non-Hispanic</td>\n",
              "      <td>Underweight</td>\n",
              "      <td>Yes</td>\n",
              "      <td>No</td>\n",
              "      <td>No</td>\n",
              "      <td>2</td>\n",
              "      <td>Yes</td>\n",
              "      <td>Yes</td>\n",
              "      <td>Employed for wages</td>\n",
              "      <td>Janitor</td>\n",
              "      <td>High school graduate, diploma or the equivalen...</td>\n",
              "    </tr>\n",
              "    <tr>\n",
              "      <th>7</th>\n",
              "      <td>Female</td>\n",
              "      <td>Gay/Lesbian</td>\n",
              "      <td>24</td>\n",
              "      <td>$20,000 to $29,999</td>\n",
              "      <td>White non-Hispanic</td>\n",
              "      <td>Normal weight</td>\n",
              "      <td>Yes</td>\n",
              "      <td>No</td>\n",
              "      <td>No</td>\n",
              "      <td>10</td>\n",
              "      <td>Yes</td>\n",
              "      <td>Yes</td>\n",
              "      <td>Employed for wages</td>\n",
              "      <td>Fabricator</td>\n",
              "      <td>Trade/technical/vocational training</td>\n",
              "    </tr>\n",
              "    <tr>\n",
              "      <th>8</th>\n",
              "      <td>Male</td>\n",
              "      <td>Straight</td>\n",
              "      <td>20</td>\n",
              "      <td>$10,000 to $19,999</td>\n",
              "      <td>White non-Hispanic</td>\n",
              "      <td>Overweight</td>\n",
              "      <td>Yes</td>\n",
              "      <td>No</td>\n",
              "      <td>Yes but I haven't</td>\n",
              "      <td>0</td>\n",
              "      <td>Yes</td>\n",
              "      <td>Yes</td>\n",
              "      <td>Employed for wages</td>\n",
              "      <td>cashier</td>\n",
              "      <td>Some college, no degree</td>\n",
              "    </tr>\n",
              "    <tr>\n",
              "      <th>9</th>\n",
              "      <td>Male</td>\n",
              "      <td>Straight</td>\n",
              "      <td>33</td>\n",
              "      <td>$50,000 to $74,999</td>\n",
              "      <td>White non-Hispanic</td>\n",
              "      <td>Overweight</td>\n",
              "      <td>No</td>\n",
              "      <td>No</td>\n",
              "      <td>Yes but I haven't</td>\n",
              "      <td>6</td>\n",
              "      <td>Yes</td>\n",
              "      <td>Yes</td>\n",
              "      <td>Employed for wages</td>\n",
              "      <td>Software Engineer</td>\n",
              "      <td>Master’s degree</td>\n",
              "    </tr>\n",
              "    <tr>\n",
              "      <th>10</th>\n",
              "      <td>Female</td>\n",
              "      <td>Straight</td>\n",
              "      <td>32</td>\n",
              "      <td>$50,000 to $74,999</td>\n",
              "      <td>Hispanic (of any race)</td>\n",
              "      <td>Overweight</td>\n",
              "      <td>Yes</td>\n",
              "      <td>No</td>\n",
              "      <td>No</td>\n",
              "      <td>5</td>\n",
              "      <td>No</td>\n",
              "      <td>No</td>\n",
              "      <td>Employed for wages</td>\n",
              "      <td>Nurse</td>\n",
              "      <td>Bachelor’s degree</td>\n",
              "    </tr>\n",
              "    <tr>\n",
              "      <th>11</th>\n",
              "      <td>Male</td>\n",
              "      <td>Straight</td>\n",
              "      <td>25</td>\n",
              "      <td>$1 to $10,000</td>\n",
              "      <td>Asian</td>\n",
              "      <td>Normal weight</td>\n",
              "      <td>Yes</td>\n",
              "      <td>No</td>\n",
              "      <td>No</td>\n",
              "      <td>0</td>\n",
              "      <td>Yes</td>\n",
              "      <td>Yes</td>\n",
              "      <td>Employed for wages</td>\n",
              "      <td>Freight associate</td>\n",
              "      <td>Some college, no degree</td>\n",
              "    </tr>\n",
              "    <tr>\n",
              "      <th>12</th>\n",
              "      <td>Male</td>\n",
              "      <td>Straight</td>\n",
              "      <td>24</td>\n",
              "      <td>$1 to $10,000</td>\n",
              "      <td>White non-Hispanic</td>\n",
              "      <td>Normal weight</td>\n",
              "      <td>No</td>\n",
              "      <td>No</td>\n",
              "      <td>Yes but I haven't</td>\n",
              "      <td>20</td>\n",
              "      <td>No</td>\n",
              "      <td>No</td>\n",
              "      <td>A student</td>\n",
              "      <td>Student</td>\n",
              "      <td>Some college, no degree</td>\n",
              "    </tr>\n",
              "    <tr>\n",
              "      <th>13</th>\n",
              "      <td>Female</td>\n",
              "      <td>Straight</td>\n",
              "      <td>23</td>\n",
              "      <td>$0</td>\n",
              "      <td>White non-Hispanic</td>\n",
              "      <td>Normal weight</td>\n",
              "      <td>Yes</td>\n",
              "      <td>No</td>\n",
              "      <td>Yes but I haven't</td>\n",
              "      <td>1</td>\n",
              "      <td>Yes</td>\n",
              "      <td>Yes</td>\n",
              "      <td>Unable to work</td>\n",
              "      <td>NEET</td>\n",
              "      <td>High school graduate, diploma or the equivalen...</td>\n",
              "    </tr>\n",
              "    <tr>\n",
              "      <th>14</th>\n",
              "      <td>Male</td>\n",
              "      <td>Straight</td>\n",
              "      <td>22</td>\n",
              "      <td>$30,000 to $39,999</td>\n",
              "      <td>Hispanic (of any race)</td>\n",
              "      <td>Normal weight</td>\n",
              "      <td>Yes</td>\n",
              "      <td>No</td>\n",
              "      <td>Yes but I haven't</td>\n",
              "      <td>0</td>\n",
              "      <td>No</td>\n",
              "      <td>Yes</td>\n",
              "      <td>Employed for wages</td>\n",
              "      <td>broker</td>\n",
              "      <td>Bachelor’s degree</td>\n",
              "    </tr>\n",
              "    <tr>\n",
              "      <th>15</th>\n",
              "      <td>Male</td>\n",
              "      <td>Straight</td>\n",
              "      <td>23</td>\n",
              "      <td>$0</td>\n",
              "      <td>White non-Hispanic</td>\n",
              "      <td>Underweight</td>\n",
              "      <td>Yes</td>\n",
              "      <td>Yes</td>\n",
              "      <td>No</td>\n",
              "      <td>6</td>\n",
              "      <td>No</td>\n",
              "      <td>Yes</td>\n",
              "      <td>Retired</td>\n",
              "      <td>Student</td>\n",
              "      <td>High school graduate, diploma or the equivalen...</td>\n",
              "    </tr>\n",
              "    <tr>\n",
              "      <th>16</th>\n",
              "      <td>Female</td>\n",
              "      <td>Straight</td>\n",
              "      <td>29</td>\n",
              "      <td>$1 to $10,000</td>\n",
              "      <td>white and asian</td>\n",
              "      <td>Normal weight</td>\n",
              "      <td>Yes</td>\n",
              "      <td>No</td>\n",
              "      <td>Yes but I haven't</td>\n",
              "      <td>5</td>\n",
              "      <td>Yes</td>\n",
              "      <td>Yes</td>\n",
              "      <td>Out of work and looking for work</td>\n",
              "      <td>Intern</td>\n",
              "      <td>Bachelor’s degree</td>\n",
              "    </tr>\n",
              "    <tr>\n",
              "      <th>17</th>\n",
              "      <td>Male</td>\n",
              "      <td>Straight</td>\n",
              "      <td>21</td>\n",
              "      <td>$1 to $10,000</td>\n",
              "      <td>Asian</td>\n",
              "      <td>Normal weight</td>\n",
              "      <td>No</td>\n",
              "      <td>No</td>\n",
              "      <td>No</td>\n",
              "      <td>12</td>\n",
              "      <td>No</td>\n",
              "      <td>No</td>\n",
              "      <td>A student</td>\n",
              "      <td>Student</td>\n",
              "      <td>Bachelor’s degree</td>\n",
              "    </tr>\n",
              "    <tr>\n",
              "      <th>18</th>\n",
              "      <td>Male</td>\n",
              "      <td>Straight</td>\n",
              "      <td>17</td>\n",
              "      <td>$1 to $10,000</td>\n",
              "      <td>White non-Hispanic</td>\n",
              "      <td>Overweight</td>\n",
              "      <td>Yes</td>\n",
              "      <td>Yes</td>\n",
              "      <td>No</td>\n",
              "      <td>5</td>\n",
              "      <td>Yes</td>\n",
              "      <td>Yes</td>\n",
              "      <td>A student</td>\n",
              "      <td>Student</td>\n",
              "      <td>Some high school, no diploma</td>\n",
              "    </tr>\n",
              "    <tr>\n",
              "      <th>19</th>\n",
              "      <td>Male</td>\n",
              "      <td>Straight</td>\n",
              "      <td>29</td>\n",
              "      <td>$75,000 to $99,999</td>\n",
              "      <td>caucasian</td>\n",
              "      <td>Normal weight</td>\n",
              "      <td>Yes</td>\n",
              "      <td>No</td>\n",
              "      <td>Yes but I haven't</td>\n",
              "      <td>1</td>\n",
              "      <td>Yes</td>\n",
              "      <td>Yes</td>\n",
              "      <td>Employed for wages</td>\n",
              "      <td>Surveyor</td>\n",
              "      <td>High school graduate, diploma or the equivalen...</td>\n",
              "    </tr>\n",
              "    <tr>\n",
              "      <th>20</th>\n",
              "      <td>Male</td>\n",
              "      <td>Straight</td>\n",
              "      <td>32</td>\n",
              "      <td>$10,000 to $19,999</td>\n",
              "      <td>White non-Hispanic</td>\n",
              "      <td>Normal weight</td>\n",
              "      <td>Yes</td>\n",
              "      <td>Yes</td>\n",
              "      <td>No</td>\n",
              "      <td>10</td>\n",
              "      <td>Yes</td>\n",
              "      <td>Yes</td>\n",
              "      <td>Employed for wages</td>\n",
              "      <td>Part time computer Tutor</td>\n",
              "      <td>Bachelor’s degree</td>\n",
              "    </tr>\n",
              "    <tr>\n",
              "      <th>21</th>\n",
              "      <td>Female</td>\n",
              "      <td>Straight</td>\n",
              "      <td>20</td>\n",
              "      <td>$1 to $10,000</td>\n",
              "      <td>White non-Hispanic</td>\n",
              "      <td>Normal weight</td>\n",
              "      <td>Yes</td>\n",
              "      <td>No</td>\n",
              "      <td>No</td>\n",
              "      <td>8</td>\n",
              "      <td>Yes</td>\n",
              "      <td>Yes</td>\n",
              "      <td>A student</td>\n",
              "      <td>Student</td>\n",
              "      <td>Some college, no degree</td>\n",
              "    </tr>\n",
              "    <tr>\n",
              "      <th>22</th>\n",
              "      <td>Male</td>\n",
              "      <td>Straight</td>\n",
              "      <td>24</td>\n",
              "      <td>$0</td>\n",
              "      <td>Hispanic (of any race)</td>\n",
              "      <td>Normal weight</td>\n",
              "      <td>Yes</td>\n",
              "      <td>No</td>\n",
              "      <td>No</td>\n",
              "      <td>40</td>\n",
              "      <td>Yes</td>\n",
              "      <td>Yes</td>\n",
              "      <td>A student</td>\n",
              "      <td>Student</td>\n",
              "      <td>Some high school, no diploma</td>\n",
              "    </tr>\n",
              "    <tr>\n",
              "      <th>23</th>\n",
              "      <td>Male</td>\n",
              "      <td>Straight</td>\n",
              "      <td>20</td>\n",
              "      <td>$1 to $10,000</td>\n",
              "      <td>White non-Hispanic</td>\n",
              "      <td>Normal weight</td>\n",
              "      <td>Yes</td>\n",
              "      <td>No</td>\n",
              "      <td>No</td>\n",
              "      <td>10</td>\n",
              "      <td>No</td>\n",
              "      <td>No</td>\n",
              "      <td>A student</td>\n",
              "      <td>Kitchen staff</td>\n",
              "      <td>Bachelor’s degree</td>\n",
              "    </tr>\n",
              "    <tr>\n",
              "      <th>24</th>\n",
              "      <td>Male</td>\n",
              "      <td>Straight</td>\n",
              "      <td>21</td>\n",
              "      <td>$20,000 to $29,999</td>\n",
              "      <td>White non-Hispanic</td>\n",
              "      <td>Normal weight</td>\n",
              "      <td>Yes</td>\n",
              "      <td>No</td>\n",
              "      <td>No</td>\n",
              "      <td>5</td>\n",
              "      <td>Yes</td>\n",
              "      <td>Yes</td>\n",
              "      <td>Employed for wages</td>\n",
              "      <td>Software Developer</td>\n",
              "      <td>High school graduate, diploma or the equivalen...</td>\n",
              "    </tr>\n",
              "    <tr>\n",
              "      <th>25</th>\n",
              "      <td>Female</td>\n",
              "      <td>Straight</td>\n",
              "      <td>17</td>\n",
              "      <td>$0</td>\n",
              "      <td>White non-Hispanic</td>\n",
              "      <td>Underweight</td>\n",
              "      <td>Yes</td>\n",
              "      <td>No</td>\n",
              "      <td>No</td>\n",
              "      <td>5</td>\n",
              "      <td>Yes</td>\n",
              "      <td>No</td>\n",
              "      <td>A student</td>\n",
              "      <td>Student</td>\n",
              "      <td>Some high school, no diploma</td>\n",
              "    </tr>\n",
              "    <tr>\n",
              "      <th>26</th>\n",
              "      <td>Male</td>\n",
              "      <td>Straight</td>\n",
              "      <td>24</td>\n",
              "      <td>$20,000 to $29,999</td>\n",
              "      <td>White non-Hispanic</td>\n",
              "      <td>Normal weight</td>\n",
              "      <td>No</td>\n",
              "      <td>Yes</td>\n",
              "      <td>No</td>\n",
              "      <td>3</td>\n",
              "      <td>No</td>\n",
              "      <td>No</td>\n",
              "      <td>Employed for wages</td>\n",
              "      <td>Guy</td>\n",
              "      <td>Trade/technical/vocational training</td>\n",
              "    </tr>\n",
              "    <tr>\n",
              "      <th>27</th>\n",
              "      <td>Male</td>\n",
              "      <td>Straight</td>\n",
              "      <td>17</td>\n",
              "      <td>$0</td>\n",
              "      <td>White non-Hispanic</td>\n",
              "      <td>Normal weight</td>\n",
              "      <td>Yes</td>\n",
              "      <td>No</td>\n",
              "      <td>No</td>\n",
              "      <td>5</td>\n",
              "      <td>Yes</td>\n",
              "      <td>Yes</td>\n",
              "      <td>A student</td>\n",
              "      <td>none (?)</td>\n",
              "      <td>Some high school, no diploma</td>\n",
              "    </tr>\n",
              "    <tr>\n",
              "      <th>28</th>\n",
              "      <td>Female</td>\n",
              "      <td>Straight</td>\n",
              "      <td>28</td>\n",
              "      <td>$0</td>\n",
              "      <td>Asian</td>\n",
              "      <td>Normal weight</td>\n",
              "      <td>Yes</td>\n",
              "      <td>Yes</td>\n",
              "      <td>No</td>\n",
              "      <td>1</td>\n",
              "      <td>Yes</td>\n",
              "      <td>Yes</td>\n",
              "      <td>A student</td>\n",
              "      <td>Student</td>\n",
              "      <td>Bachelor’s degree</td>\n",
              "    </tr>\n",
              "    <tr>\n",
              "      <th>29</th>\n",
              "      <td>Male</td>\n",
              "      <td>Straight</td>\n",
              "      <td>19</td>\n",
              "      <td>$1 to $10,000</td>\n",
              "      <td>White non-Hispanic</td>\n",
              "      <td>Underweight</td>\n",
              "      <td>Yes</td>\n",
              "      <td>No</td>\n",
              "      <td>No</td>\n",
              "      <td>0</td>\n",
              "      <td>Yes</td>\n",
              "      <td>No</td>\n",
              "      <td>A student</td>\n",
              "      <td>Peon</td>\n",
              "      <td>Some college, no degree</td>\n",
              "    </tr>\n",
              "    <tr>\n",
              "      <th>...</th>\n",
              "      <td>...</td>\n",
              "      <td>...</td>\n",
              "      <td>...</td>\n",
              "      <td>...</td>\n",
              "      <td>...</td>\n",
              "      <td>...</td>\n",
              "      <td>...</td>\n",
              "      <td>...</td>\n",
              "      <td>...</td>\n",
              "      <td>...</td>\n",
              "      <td>...</td>\n",
              "      <td>...</td>\n",
              "      <td>...</td>\n",
              "      <td>...</td>\n",
              "      <td>...</td>\n",
              "    </tr>\n",
              "    <tr>\n",
              "      <th>438</th>\n",
              "      <td>Male</td>\n",
              "      <td>Straight</td>\n",
              "      <td>26</td>\n",
              "      <td>$0</td>\n",
              "      <td>Hispanic (of any race)</td>\n",
              "      <td>Normal weight</td>\n",
              "      <td>Yes</td>\n",
              "      <td>Yes</td>\n",
              "      <td>Yes but I haven't</td>\n",
              "      <td>0</td>\n",
              "      <td>Yes</td>\n",
              "      <td>Yes</td>\n",
              "      <td>Out of work but not currently looking for work</td>\n",
              "      <td>None</td>\n",
              "      <td>Some high school, no diploma</td>\n",
              "    </tr>\n",
              "    <tr>\n",
              "      <th>439</th>\n",
              "      <td>Female</td>\n",
              "      <td>Straight</td>\n",
              "      <td>20</td>\n",
              "      <td>$1 to $10,000</td>\n",
              "      <td>White non-Hispanic</td>\n",
              "      <td>Normal weight</td>\n",
              "      <td>Yes</td>\n",
              "      <td>No</td>\n",
              "      <td>No</td>\n",
              "      <td>2</td>\n",
              "      <td>Yes</td>\n",
              "      <td>Yes</td>\n",
              "      <td>Employed for wages</td>\n",
              "      <td>Cleaner</td>\n",
              "      <td>High school graduate, diploma or the equivalen...</td>\n",
              "    </tr>\n",
              "    <tr>\n",
              "      <th>440</th>\n",
              "      <td>Female</td>\n",
              "      <td>Straight</td>\n",
              "      <td>23</td>\n",
              "      <td>$0</td>\n",
              "      <td>White non-Hispanic</td>\n",
              "      <td>Normal weight</td>\n",
              "      <td>Yes</td>\n",
              "      <td>No</td>\n",
              "      <td>No</td>\n",
              "      <td>2</td>\n",
              "      <td>Yes</td>\n",
              "      <td>No</td>\n",
              "      <td>A student</td>\n",
              "      <td>I don't have a job</td>\n",
              "      <td>Bachelor’s degree</td>\n",
              "    </tr>\n",
              "    <tr>\n",
              "      <th>441</th>\n",
              "      <td>Male</td>\n",
              "      <td>Bisexual</td>\n",
              "      <td>26</td>\n",
              "      <td>$10,000 to $19,999</td>\n",
              "      <td>Hispanic (of any race)</td>\n",
              "      <td>Normal weight</td>\n",
              "      <td>No</td>\n",
              "      <td>No</td>\n",
              "      <td>No</td>\n",
              "      <td>15</td>\n",
              "      <td>Yes</td>\n",
              "      <td>No</td>\n",
              "      <td>Self-employed</td>\n",
              "      <td>Marketing</td>\n",
              "      <td>High school graduate, diploma or the equivalen...</td>\n",
              "    </tr>\n",
              "    <tr>\n",
              "      <th>442</th>\n",
              "      <td>Male</td>\n",
              "      <td>Straight</td>\n",
              "      <td>16</td>\n",
              "      <td>$0</td>\n",
              "      <td>White non-Hispanic</td>\n",
              "      <td>Underweight</td>\n",
              "      <td>Yes</td>\n",
              "      <td>No</td>\n",
              "      <td>No</td>\n",
              "      <td>0</td>\n",
              "      <td>Yes</td>\n",
              "      <td>Yes</td>\n",
              "      <td>A student</td>\n",
              "      <td>None</td>\n",
              "      <td>Some high school, no diploma</td>\n",
              "    </tr>\n",
              "    <tr>\n",
              "      <th>443</th>\n",
              "      <td>Male</td>\n",
              "      <td>Straight</td>\n",
              "      <td>24</td>\n",
              "      <td>$30,000 to $39,999</td>\n",
              "      <td>White non-Hispanic</td>\n",
              "      <td>Overweight</td>\n",
              "      <td>No</td>\n",
              "      <td>No</td>\n",
              "      <td>No</td>\n",
              "      <td>6</td>\n",
              "      <td>No</td>\n",
              "      <td>No</td>\n",
              "      <td>Employed for wages</td>\n",
              "      <td>Screener</td>\n",
              "      <td>Some college, no degree</td>\n",
              "    </tr>\n",
              "    <tr>\n",
              "      <th>444</th>\n",
              "      <td>Male</td>\n",
              "      <td>Straight</td>\n",
              "      <td>22</td>\n",
              "      <td>$0</td>\n",
              "      <td>Hispanic (of any race)</td>\n",
              "      <td>Overweight</td>\n",
              "      <td>Yes</td>\n",
              "      <td>No</td>\n",
              "      <td>No</td>\n",
              "      <td>0</td>\n",
              "      <td>Yes</td>\n",
              "      <td>Yes</td>\n",
              "      <td>A student</td>\n",
              "      <td>Student</td>\n",
              "      <td>Some college, no degree</td>\n",
              "    </tr>\n",
              "    <tr>\n",
              "      <th>445</th>\n",
              "      <td>Female</td>\n",
              "      <td>Bisexual</td>\n",
              "      <td>20</td>\n",
              "      <td>$1 to $10,000</td>\n",
              "      <td>Black</td>\n",
              "      <td>Normal weight</td>\n",
              "      <td>Yes</td>\n",
              "      <td>Yes</td>\n",
              "      <td>No</td>\n",
              "      <td>3</td>\n",
              "      <td>Yes</td>\n",
              "      <td>Yes</td>\n",
              "      <td>A student</td>\n",
              "      <td>🌚</td>\n",
              "      <td>High school graduate, diploma or the equivalen...</td>\n",
              "    </tr>\n",
              "    <tr>\n",
              "      <th>446</th>\n",
              "      <td>Male</td>\n",
              "      <td>Straight</td>\n",
              "      <td>25</td>\n",
              "      <td>$10,000 to $19,999</td>\n",
              "      <td>White non-Hispanic</td>\n",
              "      <td>Normal weight</td>\n",
              "      <td>No</td>\n",
              "      <td>No</td>\n",
              "      <td>No</td>\n",
              "      <td>0</td>\n",
              "      <td>No</td>\n",
              "      <td>No</td>\n",
              "      <td>Employed for wages</td>\n",
              "      <td>Program Manager, Non-profit</td>\n",
              "      <td>Associate degree</td>\n",
              "    </tr>\n",
              "    <tr>\n",
              "      <th>447</th>\n",
              "      <td>Male</td>\n",
              "      <td>Straight</td>\n",
              "      <td>23</td>\n",
              "      <td>$0</td>\n",
              "      <td>White non-Hispanic</td>\n",
              "      <td>Normal weight</td>\n",
              "      <td>Yes</td>\n",
              "      <td>No</td>\n",
              "      <td>Yes but I haven't</td>\n",
              "      <td>0</td>\n",
              "      <td>Yes</td>\n",
              "      <td>Yes</td>\n",
              "      <td>Out of work but not currently looking for work</td>\n",
              "      <td>NEET parasite</td>\n",
              "      <td>Some college, no degree</td>\n",
              "    </tr>\n",
              "    <tr>\n",
              "      <th>448</th>\n",
              "      <td>Male</td>\n",
              "      <td>Straight</td>\n",
              "      <td>25</td>\n",
              "      <td>$0</td>\n",
              "      <td>White non-Hispanic</td>\n",
              "      <td>Overweight</td>\n",
              "      <td>Yes</td>\n",
              "      <td>No</td>\n",
              "      <td>No</td>\n",
              "      <td>3</td>\n",
              "      <td>No</td>\n",
              "      <td>Yes</td>\n",
              "      <td>A student</td>\n",
              "      <td>T</td>\n",
              "      <td>Professional degree</td>\n",
              "    </tr>\n",
              "    <tr>\n",
              "      <th>449</th>\n",
              "      <td>Male</td>\n",
              "      <td>Straight</td>\n",
              "      <td>27</td>\n",
              "      <td>$1 to $10,000</td>\n",
              "      <td>White non-Hispanic</td>\n",
              "      <td>Overweight</td>\n",
              "      <td>Yes</td>\n",
              "      <td>Yes</td>\n",
              "      <td>No</td>\n",
              "      <td>5</td>\n",
              "      <td>No</td>\n",
              "      <td>Yes</td>\n",
              "      <td>A student</td>\n",
              "      <td>Designer</td>\n",
              "      <td>Some high school, no diploma</td>\n",
              "    </tr>\n",
              "    <tr>\n",
              "      <th>450</th>\n",
              "      <td>Male</td>\n",
              "      <td>Straight</td>\n",
              "      <td>23</td>\n",
              "      <td>$30,000 to $39,999</td>\n",
              "      <td>White non-Hispanic</td>\n",
              "      <td>Normal weight</td>\n",
              "      <td>No</td>\n",
              "      <td>No</td>\n",
              "      <td>No</td>\n",
              "      <td>10</td>\n",
              "      <td>No</td>\n",
              "      <td>No</td>\n",
              "      <td>Employed for wages</td>\n",
              "      <td>Account Manager</td>\n",
              "      <td>Bachelor’s degree</td>\n",
              "    </tr>\n",
              "    <tr>\n",
              "      <th>451</th>\n",
              "      <td>Female</td>\n",
              "      <td>Straight</td>\n",
              "      <td>25</td>\n",
              "      <td>$0</td>\n",
              "      <td>White non-Hispanic</td>\n",
              "      <td>Normal weight</td>\n",
              "      <td>Yes</td>\n",
              "      <td>No</td>\n",
              "      <td>No</td>\n",
              "      <td>2</td>\n",
              "      <td>Yes</td>\n",
              "      <td>No</td>\n",
              "      <td>A student</td>\n",
              "      <td>student teacher</td>\n",
              "      <td>Bachelor’s degree</td>\n",
              "    </tr>\n",
              "    <tr>\n",
              "      <th>452</th>\n",
              "      <td>Male</td>\n",
              "      <td>Straight</td>\n",
              "      <td>22</td>\n",
              "      <td>$1 to $10,000</td>\n",
              "      <td>Black</td>\n",
              "      <td>Normal weight</td>\n",
              "      <td>Yes</td>\n",
              "      <td>No</td>\n",
              "      <td>No</td>\n",
              "      <td>15</td>\n",
              "      <td>No</td>\n",
              "      <td>No</td>\n",
              "      <td>A student</td>\n",
              "      <td>Guest Advisor</td>\n",
              "      <td>Some college, no degree</td>\n",
              "    </tr>\n",
              "    <tr>\n",
              "      <th>453</th>\n",
              "      <td>Male</td>\n",
              "      <td>Straight</td>\n",
              "      <td>23</td>\n",
              "      <td>$0</td>\n",
              "      <td>White non-Hispanic</td>\n",
              "      <td>Normal weight</td>\n",
              "      <td>Yes</td>\n",
              "      <td>No</td>\n",
              "      <td>No</td>\n",
              "      <td>2</td>\n",
              "      <td>Yes</td>\n",
              "      <td>No</td>\n",
              "      <td>A student</td>\n",
              "      <td>...</td>\n",
              "      <td>Some college, no degree</td>\n",
              "    </tr>\n",
              "    <tr>\n",
              "      <th>454</th>\n",
              "      <td>Female</td>\n",
              "      <td>Straight</td>\n",
              "      <td>21</td>\n",
              "      <td>$10,000 to $19,999</td>\n",
              "      <td>Black</td>\n",
              "      <td>Overweight</td>\n",
              "      <td>No</td>\n",
              "      <td>No</td>\n",
              "      <td>No</td>\n",
              "      <td>0</td>\n",
              "      <td>Yes</td>\n",
              "      <td>No</td>\n",
              "      <td>Employed for wages</td>\n",
              "      <td>customer service</td>\n",
              "      <td>Some college, no degree</td>\n",
              "    </tr>\n",
              "    <tr>\n",
              "      <th>455</th>\n",
              "      <td>Female</td>\n",
              "      <td>Straight</td>\n",
              "      <td>31</td>\n",
              "      <td>$40,000 to $49,999</td>\n",
              "      <td>White non-Hispanic</td>\n",
              "      <td>Overweight</td>\n",
              "      <td>No</td>\n",
              "      <td>No</td>\n",
              "      <td>No</td>\n",
              "      <td>30</td>\n",
              "      <td>Yes</td>\n",
              "      <td>Yes</td>\n",
              "      <td>Employed for wages</td>\n",
              "      <td>Teacher</td>\n",
              "      <td>Master’s degree</td>\n",
              "    </tr>\n",
              "    <tr>\n",
              "      <th>456</th>\n",
              "      <td>Male</td>\n",
              "      <td>Straight</td>\n",
              "      <td>18</td>\n",
              "      <td>$0</td>\n",
              "      <td>White non-Hispanic</td>\n",
              "      <td>Normal weight</td>\n",
              "      <td>Yes</td>\n",
              "      <td>No</td>\n",
              "      <td>No</td>\n",
              "      <td>2</td>\n",
              "      <td>Yes</td>\n",
              "      <td>Yes</td>\n",
              "      <td>A student</td>\n",
              "      <td>None</td>\n",
              "      <td>Some high school, no diploma</td>\n",
              "    </tr>\n",
              "    <tr>\n",
              "      <th>458</th>\n",
              "      <td>Male</td>\n",
              "      <td>Straight</td>\n",
              "      <td>24</td>\n",
              "      <td>$75,000 to $99,999</td>\n",
              "      <td>White non-Hispanic</td>\n",
              "      <td>Normal weight</td>\n",
              "      <td>No</td>\n",
              "      <td>No</td>\n",
              "      <td>No</td>\n",
              "      <td>11</td>\n",
              "      <td>Yes</td>\n",
              "      <td>No</td>\n",
              "      <td>Employed for wages</td>\n",
              "      <td>Terminal worker</td>\n",
              "      <td>Some high school, no diploma</td>\n",
              "    </tr>\n",
              "    <tr>\n",
              "      <th>459</th>\n",
              "      <td>Male</td>\n",
              "      <td>Bisexual</td>\n",
              "      <td>23</td>\n",
              "      <td>$40,000 to $49,999</td>\n",
              "      <td>White non-Hispanic</td>\n",
              "      <td>Overweight</td>\n",
              "      <td>Yes</td>\n",
              "      <td>Yes</td>\n",
              "      <td>No</td>\n",
              "      <td>10</td>\n",
              "      <td>Yes</td>\n",
              "      <td>Yes</td>\n",
              "      <td>Employed for wages</td>\n",
              "      <td>PA</td>\n",
              "      <td>Bachelor’s degree</td>\n",
              "    </tr>\n",
              "    <tr>\n",
              "      <th>460</th>\n",
              "      <td>Male</td>\n",
              "      <td>Straight</td>\n",
              "      <td>28</td>\n",
              "      <td>$20,000 to $29,999</td>\n",
              "      <td>Black</td>\n",
              "      <td>Normal weight</td>\n",
              "      <td>No</td>\n",
              "      <td>No</td>\n",
              "      <td>No</td>\n",
              "      <td>1</td>\n",
              "      <td>Yes</td>\n",
              "      <td>No</td>\n",
              "      <td>Employed for wages</td>\n",
              "      <td>Case Worker</td>\n",
              "      <td>Bachelor’s degree</td>\n",
              "    </tr>\n",
              "    <tr>\n",
              "      <th>461</th>\n",
              "      <td>Male</td>\n",
              "      <td>Straight</td>\n",
              "      <td>18</td>\n",
              "      <td>$1 to $10,000</td>\n",
              "      <td>Asian</td>\n",
              "      <td>Overweight</td>\n",
              "      <td>Yes</td>\n",
              "      <td>No</td>\n",
              "      <td>Yes but I haven't</td>\n",
              "      <td>5</td>\n",
              "      <td>Yes</td>\n",
              "      <td>Yes</td>\n",
              "      <td>Employed for wages</td>\n",
              "      <td>Home Depot order fulfillment</td>\n",
              "      <td>High school graduate, diploma or the equivalen...</td>\n",
              "    </tr>\n",
              "    <tr>\n",
              "      <th>462</th>\n",
              "      <td>Male</td>\n",
              "      <td>Straight</td>\n",
              "      <td>18</td>\n",
              "      <td>$0</td>\n",
              "      <td>White non-Hispanic</td>\n",
              "      <td>Normal weight</td>\n",
              "      <td>Yes</td>\n",
              "      <td>Yes</td>\n",
              "      <td>Yes but I haven't</td>\n",
              "      <td>6</td>\n",
              "      <td>No</td>\n",
              "      <td>No</td>\n",
              "      <td>A student</td>\n",
              "      <td>erdet</td>\n",
              "      <td>Some high school, no diploma</td>\n",
              "    </tr>\n",
              "    <tr>\n",
              "      <th>463</th>\n",
              "      <td>Transgender male</td>\n",
              "      <td>Bisexual</td>\n",
              "      <td>12</td>\n",
              "      <td>$0</td>\n",
              "      <td>White non-Hispanic</td>\n",
              "      <td>Obese</td>\n",
              "      <td>No</td>\n",
              "      <td>No</td>\n",
              "      <td>Yes and I have</td>\n",
              "      <td>0</td>\n",
              "      <td>Yes</td>\n",
              "      <td>No</td>\n",
              "      <td>A student</td>\n",
              "      <td>Boss</td>\n",
              "      <td>Some high school, no diploma</td>\n",
              "    </tr>\n",
              "    <tr>\n",
              "      <th>464</th>\n",
              "      <td>Female</td>\n",
              "      <td>Straight</td>\n",
              "      <td>26</td>\n",
              "      <td>$10,000 to $19,999</td>\n",
              "      <td>White non-Hispanic</td>\n",
              "      <td>Overweight</td>\n",
              "      <td>Yes</td>\n",
              "      <td>No</td>\n",
              "      <td>Yes but I haven't</td>\n",
              "      <td>10</td>\n",
              "      <td>Yes</td>\n",
              "      <td>No</td>\n",
              "      <td>Employed for wages</td>\n",
              "      <td>Consultant IT</td>\n",
              "      <td>Master’s degree</td>\n",
              "    </tr>\n",
              "    <tr>\n",
              "      <th>465</th>\n",
              "      <td>Male</td>\n",
              "      <td>Straight</td>\n",
              "      <td>31</td>\n",
              "      <td>$30,000 to $39,999</td>\n",
              "      <td>White non-Hispanic</td>\n",
              "      <td>Normal weight</td>\n",
              "      <td>No</td>\n",
              "      <td>No</td>\n",
              "      <td>Yes but I haven't</td>\n",
              "      <td>10</td>\n",
              "      <td>No</td>\n",
              "      <td>No</td>\n",
              "      <td>Employed for wages</td>\n",
              "      <td>castor</td>\n",
              "      <td>High school graduate, diploma or the equivalen...</td>\n",
              "    </tr>\n",
              "    <tr>\n",
              "      <th>466</th>\n",
              "      <td>Female</td>\n",
              "      <td>Straight</td>\n",
              "      <td>17</td>\n",
              "      <td>$1 to $10,000</td>\n",
              "      <td>Asian</td>\n",
              "      <td>Normal weight</td>\n",
              "      <td>Yes</td>\n",
              "      <td>No</td>\n",
              "      <td>No</td>\n",
              "      <td>20</td>\n",
              "      <td>Yes</td>\n",
              "      <td>Yes</td>\n",
              "      <td>Employed for wages</td>\n",
              "      <td>receptionist</td>\n",
              "      <td>Some high school, no diploma</td>\n",
              "    </tr>\n",
              "    <tr>\n",
              "      <th>467</th>\n",
              "      <td>Male</td>\n",
              "      <td>Straight</td>\n",
              "      <td>18</td>\n",
              "      <td>$0</td>\n",
              "      <td>Asian</td>\n",
              "      <td>Obese</td>\n",
              "      <td>Yes</td>\n",
              "      <td>No</td>\n",
              "      <td>No</td>\n",
              "      <td>16</td>\n",
              "      <td>Yes</td>\n",
              "      <td>Yes</td>\n",
              "      <td>Out of work but not currently looking for work</td>\n",
              "      <td>Student</td>\n",
              "      <td>High school graduate, diploma or the equivalen...</td>\n",
              "    </tr>\n",
              "    <tr>\n",
              "      <th>468</th>\n",
              "      <td>Male</td>\n",
              "      <td>Straight</td>\n",
              "      <td>28</td>\n",
              "      <td>$40,000 to $49,999</td>\n",
              "      <td>White non-Hispanic</td>\n",
              "      <td>Normal weight</td>\n",
              "      <td>Yes</td>\n",
              "      <td>No</td>\n",
              "      <td>Yes but I haven't</td>\n",
              "      <td>3</td>\n",
              "      <td>Yes</td>\n",
              "      <td>Yes</td>\n",
              "      <td>Employed for wages</td>\n",
              "      <td>Scientist</td>\n",
              "      <td>Master’s degree</td>\n",
              "    </tr>\n",
              "  </tbody>\n",
              "</table>\n",
              "<p>455 rows × 15 columns</p>\n",
              "</div>"
            ],
            "text/plain": [
              "               gender   sexuallity  age              income  \\\n",
              "0                Male     Straight   35  $30,000 to $39,999   \n",
              "1                Male     Bisexual   21       $1 to $10,000   \n",
              "2                Male     Straight   22                  $0   \n",
              "3                Male     Straight   19       $1 to $10,000   \n",
              "4                Male     Straight   23  $30,000 to $39,999   \n",
              "5                Male     Straight   24  $50,000 to $74,999   \n",
              "6                Male     Straight   22       $1 to $10,000   \n",
              "7              Female  Gay/Lesbian   24  $20,000 to $29,999   \n",
              "8                Male     Straight   20  $10,000 to $19,999   \n",
              "9                Male     Straight   33  $50,000 to $74,999   \n",
              "10             Female     Straight   32  $50,000 to $74,999   \n",
              "11               Male     Straight   25       $1 to $10,000   \n",
              "12               Male     Straight   24       $1 to $10,000   \n",
              "13             Female     Straight   23                  $0   \n",
              "14               Male     Straight   22  $30,000 to $39,999   \n",
              "15               Male     Straight   23                  $0   \n",
              "16             Female     Straight   29       $1 to $10,000   \n",
              "17               Male     Straight   21       $1 to $10,000   \n",
              "18               Male     Straight   17       $1 to $10,000   \n",
              "19               Male     Straight   29  $75,000 to $99,999   \n",
              "20               Male     Straight   32  $10,000 to $19,999   \n",
              "21             Female     Straight   20       $1 to $10,000   \n",
              "22               Male     Straight   24                  $0   \n",
              "23               Male     Straight   20       $1 to $10,000   \n",
              "24               Male     Straight   21  $20,000 to $29,999   \n",
              "25             Female     Straight   17                  $0   \n",
              "26               Male     Straight   24  $20,000 to $29,999   \n",
              "27               Male     Straight   17                  $0   \n",
              "28             Female     Straight   28                  $0   \n",
              "29               Male     Straight   19       $1 to $10,000   \n",
              "..                ...          ...  ...                 ...   \n",
              "438              Male     Straight   26                  $0   \n",
              "439            Female     Straight   20       $1 to $10,000   \n",
              "440            Female     Straight   23                  $0   \n",
              "441              Male     Bisexual   26  $10,000 to $19,999   \n",
              "442              Male     Straight   16                  $0   \n",
              "443              Male     Straight   24  $30,000 to $39,999   \n",
              "444              Male     Straight   22                  $0   \n",
              "445            Female     Bisexual   20       $1 to $10,000   \n",
              "446              Male     Straight   25  $10,000 to $19,999   \n",
              "447              Male     Straight   23                  $0   \n",
              "448              Male     Straight   25                  $0   \n",
              "449              Male     Straight   27       $1 to $10,000   \n",
              "450              Male     Straight   23  $30,000 to $39,999   \n",
              "451            Female     Straight   25                  $0   \n",
              "452              Male     Straight   22       $1 to $10,000   \n",
              "453              Male     Straight   23                  $0   \n",
              "454            Female     Straight   21  $10,000 to $19,999   \n",
              "455            Female     Straight   31  $40,000 to $49,999   \n",
              "456              Male     Straight   18                  $0   \n",
              "458              Male     Straight   24  $75,000 to $99,999   \n",
              "459              Male     Bisexual   23  $40,000 to $49,999   \n",
              "460              Male     Straight   28  $20,000 to $29,999   \n",
              "461              Male     Straight   18       $1 to $10,000   \n",
              "462              Male     Straight   18                  $0   \n",
              "463  Transgender male     Bisexual   12                  $0   \n",
              "464            Female     Straight   26  $10,000 to $19,999   \n",
              "465              Male     Straight   31  $30,000 to $39,999   \n",
              "466            Female     Straight   17       $1 to $10,000   \n",
              "467              Male     Straight   18                  $0   \n",
              "468              Male     Straight   28  $40,000 to $49,999   \n",
              "\n",
              "                       race     bodyweight virgin prostitution_legal  \\\n",
              "0        White non-Hispanic  Normal weight    Yes                 No   \n",
              "1        White non-Hispanic    Underweight    Yes                 No   \n",
              "2        White non-Hispanic     Overweight    Yes                 No   \n",
              "3        White non-Hispanic     Overweight    Yes                Yes   \n",
              "4        White non-Hispanic     Overweight     No                 No   \n",
              "5        White non-Hispanic  Normal weight    Yes                 No   \n",
              "6        White non-Hispanic    Underweight    Yes                 No   \n",
              "7        White non-Hispanic  Normal weight    Yes                 No   \n",
              "8        White non-Hispanic     Overweight    Yes                 No   \n",
              "9        White non-Hispanic     Overweight     No                 No   \n",
              "10   Hispanic (of any race)     Overweight    Yes                 No   \n",
              "11                    Asian  Normal weight    Yes                 No   \n",
              "12       White non-Hispanic  Normal weight     No                 No   \n",
              "13       White non-Hispanic  Normal weight    Yes                 No   \n",
              "14   Hispanic (of any race)  Normal weight    Yes                 No   \n",
              "15       White non-Hispanic    Underweight    Yes                Yes   \n",
              "16          white and asian  Normal weight    Yes                 No   \n",
              "17                    Asian  Normal weight     No                 No   \n",
              "18       White non-Hispanic     Overweight    Yes                Yes   \n",
              "19                caucasian  Normal weight    Yes                 No   \n",
              "20       White non-Hispanic  Normal weight    Yes                Yes   \n",
              "21       White non-Hispanic  Normal weight    Yes                 No   \n",
              "22   Hispanic (of any race)  Normal weight    Yes                 No   \n",
              "23       White non-Hispanic  Normal weight    Yes                 No   \n",
              "24       White non-Hispanic  Normal weight    Yes                 No   \n",
              "25       White non-Hispanic    Underweight    Yes                 No   \n",
              "26       White non-Hispanic  Normal weight     No                Yes   \n",
              "27       White non-Hispanic  Normal weight    Yes                 No   \n",
              "28                    Asian  Normal weight    Yes                Yes   \n",
              "29       White non-Hispanic    Underweight    Yes                 No   \n",
              "..                      ...            ...    ...                ...   \n",
              "438  Hispanic (of any race)  Normal weight    Yes                Yes   \n",
              "439      White non-Hispanic  Normal weight    Yes                 No   \n",
              "440      White non-Hispanic  Normal weight    Yes                 No   \n",
              "441  Hispanic (of any race)  Normal weight     No                 No   \n",
              "442      White non-Hispanic    Underweight    Yes                 No   \n",
              "443      White non-Hispanic     Overweight     No                 No   \n",
              "444  Hispanic (of any race)     Overweight    Yes                 No   \n",
              "445                   Black  Normal weight    Yes                Yes   \n",
              "446      White non-Hispanic  Normal weight     No                 No   \n",
              "447      White non-Hispanic  Normal weight    Yes                 No   \n",
              "448      White non-Hispanic     Overweight    Yes                 No   \n",
              "449      White non-Hispanic     Overweight    Yes                Yes   \n",
              "450      White non-Hispanic  Normal weight     No                 No   \n",
              "451      White non-Hispanic  Normal weight    Yes                 No   \n",
              "452                   Black  Normal weight    Yes                 No   \n",
              "453      White non-Hispanic  Normal weight    Yes                 No   \n",
              "454                   Black     Overweight     No                 No   \n",
              "455      White non-Hispanic     Overweight     No                 No   \n",
              "456      White non-Hispanic  Normal weight    Yes                 No   \n",
              "458      White non-Hispanic  Normal weight     No                 No   \n",
              "459      White non-Hispanic     Overweight    Yes                Yes   \n",
              "460                   Black  Normal weight     No                 No   \n",
              "461                   Asian     Overweight    Yes                 No   \n",
              "462      White non-Hispanic  Normal weight    Yes                Yes   \n",
              "463      White non-Hispanic          Obese     No                 No   \n",
              "464      White non-Hispanic     Overweight    Yes                 No   \n",
              "465      White non-Hispanic  Normal weight     No                 No   \n",
              "466                   Asian  Normal weight    Yes                 No   \n",
              "467                   Asian          Obese    Yes                 No   \n",
              "468      White non-Hispanic  Normal weight    Yes                 No   \n",
              "\n",
              "           pay_for_sex  friends social_fear depressed  \\\n",
              "0                   No        0         Yes       Yes   \n",
              "1                   No        0         Yes       Yes   \n",
              "2                   No       10         Yes       Yes   \n",
              "3                   No        8         Yes       Yes   \n",
              "4       Yes and I have       10          No       Yes   \n",
              "5    Yes but I haven't        2         Yes       Yes   \n",
              "6                   No        2         Yes       Yes   \n",
              "7                   No       10         Yes       Yes   \n",
              "8    Yes but I haven't        0         Yes       Yes   \n",
              "9    Yes but I haven't        6         Yes       Yes   \n",
              "10                  No        5          No        No   \n",
              "11                  No        0         Yes       Yes   \n",
              "12   Yes but I haven't       20          No        No   \n",
              "13   Yes but I haven't        1         Yes       Yes   \n",
              "14   Yes but I haven't        0          No       Yes   \n",
              "15                  No        6          No       Yes   \n",
              "16   Yes but I haven't        5         Yes       Yes   \n",
              "17                  No       12          No        No   \n",
              "18                  No        5         Yes       Yes   \n",
              "19   Yes but I haven't        1         Yes       Yes   \n",
              "20                  No       10         Yes       Yes   \n",
              "21                  No        8         Yes       Yes   \n",
              "22                  No       40         Yes       Yes   \n",
              "23                  No       10          No        No   \n",
              "24                  No        5         Yes       Yes   \n",
              "25                  No        5         Yes        No   \n",
              "26                  No        3          No        No   \n",
              "27                  No        5         Yes       Yes   \n",
              "28                  No        1         Yes       Yes   \n",
              "29                  No        0         Yes        No   \n",
              "..                 ...      ...         ...       ...   \n",
              "438  Yes but I haven't        0         Yes       Yes   \n",
              "439                 No        2         Yes       Yes   \n",
              "440                 No        2         Yes        No   \n",
              "441                 No       15         Yes        No   \n",
              "442                 No        0         Yes       Yes   \n",
              "443                 No        6          No        No   \n",
              "444                 No        0         Yes       Yes   \n",
              "445                 No        3         Yes       Yes   \n",
              "446                 No        0          No        No   \n",
              "447  Yes but I haven't        0         Yes       Yes   \n",
              "448                 No        3          No       Yes   \n",
              "449                 No        5          No       Yes   \n",
              "450                 No       10          No        No   \n",
              "451                 No        2         Yes        No   \n",
              "452                 No       15          No        No   \n",
              "453                 No        2         Yes        No   \n",
              "454                 No        0         Yes        No   \n",
              "455                 No       30         Yes       Yes   \n",
              "456                 No        2         Yes       Yes   \n",
              "458                 No       11         Yes        No   \n",
              "459                 No       10         Yes       Yes   \n",
              "460                 No        1         Yes        No   \n",
              "461  Yes but I haven't        5         Yes       Yes   \n",
              "462  Yes but I haven't        6          No        No   \n",
              "463     Yes and I have        0         Yes        No   \n",
              "464  Yes but I haven't       10         Yes        No   \n",
              "465  Yes but I haven't       10          No        No   \n",
              "466                 No       20         Yes       Yes   \n",
              "467                 No       16         Yes       Yes   \n",
              "468  Yes but I haven't        3         Yes       Yes   \n",
              "\n",
              "                                         employment  \\\n",
              "0                                Employed for wages   \n",
              "1                  Out of work and looking for work   \n",
              "2    Out of work but not currently looking for work   \n",
              "3                                         A student   \n",
              "4                                Employed for wages   \n",
              "5                                Employed for wages   \n",
              "6                                Employed for wages   \n",
              "7                                Employed for wages   \n",
              "8                                Employed for wages   \n",
              "9                                Employed for wages   \n",
              "10                               Employed for wages   \n",
              "11                               Employed for wages   \n",
              "12                                        A student   \n",
              "13                                   Unable to work   \n",
              "14                               Employed for wages   \n",
              "15                                          Retired   \n",
              "16                 Out of work and looking for work   \n",
              "17                                        A student   \n",
              "18                                        A student   \n",
              "19                               Employed for wages   \n",
              "20                               Employed for wages   \n",
              "21                                        A student   \n",
              "22                                        A student   \n",
              "23                                        A student   \n",
              "24                               Employed for wages   \n",
              "25                                        A student   \n",
              "26                               Employed for wages   \n",
              "27                                        A student   \n",
              "28                                        A student   \n",
              "29                                        A student   \n",
              "..                                              ...   \n",
              "438  Out of work but not currently looking for work   \n",
              "439                              Employed for wages   \n",
              "440                                       A student   \n",
              "441                                   Self-employed   \n",
              "442                                       A student   \n",
              "443                              Employed for wages   \n",
              "444                                       A student   \n",
              "445                                       A student   \n",
              "446                              Employed for wages   \n",
              "447  Out of work but not currently looking for work   \n",
              "448                                       A student   \n",
              "449                                       A student   \n",
              "450                              Employed for wages   \n",
              "451                                       A student   \n",
              "452                                       A student   \n",
              "453                                       A student   \n",
              "454                              Employed for wages   \n",
              "455                              Employed for wages   \n",
              "456                                       A student   \n",
              "458                              Employed for wages   \n",
              "459                              Employed for wages   \n",
              "460                              Employed for wages   \n",
              "461                              Employed for wages   \n",
              "462                                       A student   \n",
              "463                                       A student   \n",
              "464                              Employed for wages   \n",
              "465                              Employed for wages   \n",
              "466                              Employed for wages   \n",
              "467  Out of work but not currently looking for work   \n",
              "468                              Employed for wages   \n",
              "\n",
              "                        job_title  \\\n",
              "0              mechanical drafter   \n",
              "1                            None   \n",
              "2                      unemployed   \n",
              "3                         Student   \n",
              "4                  Factory worker   \n",
              "5                 game programmer   \n",
              "6                         Janitor   \n",
              "7                      Fabricator   \n",
              "8                         cashier   \n",
              "9               Software Engineer   \n",
              "10                          Nurse   \n",
              "11              Freight associate   \n",
              "12                        Student   \n",
              "13                           NEET   \n",
              "14                         broker   \n",
              "15                        Student   \n",
              "16                         Intern   \n",
              "17                        Student   \n",
              "18                        Student   \n",
              "19                       Surveyor   \n",
              "20       Part time computer Tutor   \n",
              "21                        Student   \n",
              "22                        Student   \n",
              "23                  Kitchen staff   \n",
              "24             Software Developer   \n",
              "25                        Student   \n",
              "26                            Guy   \n",
              "27                       none (?)   \n",
              "28                        Student   \n",
              "29                           Peon   \n",
              "..                            ...   \n",
              "438                          None   \n",
              "439                       Cleaner   \n",
              "440            I don't have a job   \n",
              "441                     Marketing   \n",
              "442                          None   \n",
              "443                      Screener   \n",
              "444                       Student   \n",
              "445                             🌚   \n",
              "446   Program Manager, Non-profit   \n",
              "447                 NEET parasite   \n",
              "448                             T   \n",
              "449                      Designer   \n",
              "450               Account Manager   \n",
              "451               student teacher   \n",
              "452                 Guest Advisor   \n",
              "453                           ...   \n",
              "454              customer service   \n",
              "455                       Teacher   \n",
              "456                          None   \n",
              "458               Terminal worker   \n",
              "459                            PA   \n",
              "460                   Case Worker   \n",
              "461  Home Depot order fulfillment   \n",
              "462                         erdet   \n",
              "463                          Boss   \n",
              "464                 Consultant IT   \n",
              "465                        castor   \n",
              "466                  receptionist   \n",
              "467                       Student   \n",
              "468                     Scientist   \n",
              "\n",
              "                                             edu_level  \n",
              "0                                     Associate degree  \n",
              "1                              Some college, no degree  \n",
              "2                              Some college, no degree  \n",
              "3                              Some college, no degree  \n",
              "4    High school graduate, diploma or the equivalen...  \n",
              "5                                    Bachelor’s degree  \n",
              "6    High school graduate, diploma or the equivalen...  \n",
              "7                  Trade/technical/vocational training  \n",
              "8                              Some college, no degree  \n",
              "9                                      Master’s degree  \n",
              "10                                   Bachelor’s degree  \n",
              "11                             Some college, no degree  \n",
              "12                             Some college, no degree  \n",
              "13   High school graduate, diploma or the equivalen...  \n",
              "14                                   Bachelor’s degree  \n",
              "15   High school graduate, diploma or the equivalen...  \n",
              "16                                   Bachelor’s degree  \n",
              "17                                   Bachelor’s degree  \n",
              "18                        Some high school, no diploma  \n",
              "19   High school graduate, diploma or the equivalen...  \n",
              "20                                   Bachelor’s degree  \n",
              "21                             Some college, no degree  \n",
              "22                        Some high school, no diploma  \n",
              "23                                   Bachelor’s degree  \n",
              "24   High school graduate, diploma or the equivalen...  \n",
              "25                        Some high school, no diploma  \n",
              "26                 Trade/technical/vocational training  \n",
              "27                        Some high school, no diploma  \n",
              "28                                   Bachelor’s degree  \n",
              "29                             Some college, no degree  \n",
              "..                                                 ...  \n",
              "438                       Some high school, no diploma  \n",
              "439  High school graduate, diploma or the equivalen...  \n",
              "440                                  Bachelor’s degree  \n",
              "441  High school graduate, diploma or the equivalen...  \n",
              "442                       Some high school, no diploma  \n",
              "443                            Some college, no degree  \n",
              "444                            Some college, no degree  \n",
              "445  High school graduate, diploma or the equivalen...  \n",
              "446                                   Associate degree  \n",
              "447                            Some college, no degree  \n",
              "448                                Professional degree  \n",
              "449                       Some high school, no diploma  \n",
              "450                                  Bachelor’s degree  \n",
              "451                                  Bachelor’s degree  \n",
              "452                            Some college, no degree  \n",
              "453                            Some college, no degree  \n",
              "454                            Some college, no degree  \n",
              "455                                    Master’s degree  \n",
              "456                       Some high school, no diploma  \n",
              "458                       Some high school, no diploma  \n",
              "459                                  Bachelor’s degree  \n",
              "460                                  Bachelor’s degree  \n",
              "461  High school graduate, diploma or the equivalen...  \n",
              "462                       Some high school, no diploma  \n",
              "463                       Some high school, no diploma  \n",
              "464                                    Master’s degree  \n",
              "465  High school graduate, diploma or the equivalen...  \n",
              "466                       Some high school, no diploma  \n",
              "467  High school graduate, diploma or the equivalen...  \n",
              "468                                    Master’s degree  \n",
              "\n",
              "[455 rows x 15 columns]"
            ]
          },
          "execution_count": 122,
          "metadata": {
            "tags": []
          },
          "output_type": "execute_result"
        }
      ],
      "source": [
        "x_df_oversampling"
      ]
    },
    {
      "cell_type": "code",
      "execution_count": null,
      "metadata": {
        "collapsed": true,
        "id": "ei7wML3_iFJ0"
      },
      "outputs": [],
      "source": [
        "x_train_over_sampling,x_test_over_sampling,y_train_over_sampling,y_test_oversampling = train_test_split(x_df_oversampling_array,y_df_oversampling_array, test_size=0.3,random_state=42)"
      ]
    },
    {
      "cell_type": "code",
      "execution_count": null,
      "metadata": {
        "colab": {
          "base_uri": "https://localhost:8080/",
          "height": 34
        },
        "id": "rBErck3O1qHo",
        "outputId": "f7eda0ab-58fd-4516-f1a9-b73c0bf6a0bf"
      },
      "outputs": [
        {
          "data": {
            "text/plain": [
              "(318, 15)"
            ]
          },
          "execution_count": 124,
          "metadata": {
            "tags": []
          },
          "output_type": "execute_result"
        }
      ],
      "source": [
        "x_train_over_sampling.shape\n"
      ]
    },
    {
      "cell_type": "code",
      "execution_count": null,
      "metadata": {
        "colab": {
          "base_uri": "https://localhost:8080/",
          "height": 34
        },
        "id": "weQPBEYF1yy_",
        "outputId": "186aae9d-831f-42f8-f178-ae150a1c415f"
      },
      "outputs": [
        {
          "data": {
            "text/plain": [
              "(137, 15)"
            ]
          },
          "execution_count": 125,
          "metadata": {
            "tags": []
          },
          "output_type": "execute_result"
        }
      ],
      "source": [
        "x_test_over_sampling.shape"
      ]
    },
    {
      "cell_type": "code",
      "execution_count": null,
      "metadata": {
        "colab": {
          "base_uri": "https://localhost:8080/",
          "height": 34
        },
        "id": "goniR3Lp12eS",
        "outputId": "58e58753-16db-4374-f68d-77d6bbd7b545"
      },
      "outputs": [
        {
          "data": {
            "text/plain": [
              "(318,)"
            ]
          },
          "execution_count": 126,
          "metadata": {
            "tags": []
          },
          "output_type": "execute_result"
        }
      ],
      "source": [
        "y_train_over_sampling.shape"
      ]
    },
    {
      "cell_type": "code",
      "execution_count": null,
      "metadata": {
        "colab": {
          "base_uri": "https://localhost:8080/",
          "height": 34
        },
        "id": "WPAWT0lw17kq",
        "outputId": "1c10eb2e-f34b-468f-a6ed-3fb516bebeb9"
      },
      "outputs": [
        {
          "data": {
            "text/plain": [
              "(137,)"
            ]
          },
          "execution_count": 127,
          "metadata": {
            "tags": []
          },
          "output_type": "execute_result"
        }
      ],
      "source": [
        "y_test_oversampling.shape"
      ]
    },
    {
      "cell_type": "markdown",
      "metadata": {
        "id": "8Npxm1YT63w8"
      },
      "source": [
        "# OverSampling Technique"
      ]
    },
    {
      "cell_type": "code",
      "execution_count": null,
      "metadata": {
        "colab": {
          "base_uri": "https://localhost:8080/",
          "height": 34
        },
        "id": "GIQpwQEvi4QQ",
        "outputId": "4f7e52ca-ae03-4d54-c85f-96982f3b1b5f"
      },
      "outputs": [
        {
          "name": "stdout",
          "output_type": "stream",
          "text": [
            "[('No', 265), ('Yes', 265)]\n"
          ]
        }
      ],
      "source": [
        ">>> from imblearn.over_sampling import SMOTENC\n",
        ">>> smote_nc = SMOTENC(categorical_features=[0,1,2,3,4,5,6,7,8,10,11,12,13,14], random_state=0)\n",
        ">>> x_resampled, y_resampled = smote_nc.fit_resample(x_train_over_sampling, y_train_over_sampling)\n",
        ">>> print(sorted(collections.Counter(y_resampled).items()))"
      ]
    },
    {
      "cell_type": "code",
      "execution_count": null,
      "metadata": {
        "collapsed": true,
        "id": "JLcwMmX0jRwW"
      },
      "outputs": [],
      "source": [
        "y_column = ['attempt_suicide']\n",
        "x_columns = [\"gender\",\"sexuallity\",\"age\",\"income\",\"race\",\"bodyweight\",\"virgin\",\"prostitution_legal\",\"pay_for_sex\",\"friends\",\"social_fear\",\"depressed\",\"employment\",\"job_title\",\"edu_level\"]"
      ]
    },
    {
      "cell_type": "code",
      "execution_count": null,
      "metadata": {
        "colab": {
          "base_uri": "https://localhost:8080/",
          "height": 34
        },
        "id": "-UBcxMozmQes",
        "outputId": "e0d35032-0eb5-4f68-8c3f-9ed1081f574f"
      },
      "outputs": [
        {
          "data": {
            "text/plain": [
              "(530, 15)"
            ]
          },
          "execution_count": 130,
          "metadata": {
            "tags": []
          },
          "output_type": "execute_result"
        }
      ],
      "source": [
        "x_resampled_dataframe = pd.DataFrame(x_resampled, columns=x_columns)\n",
        "x_resampled_dataframe.shape"
      ]
    },
    {
      "cell_type": "code",
      "execution_count": null,
      "metadata": {
        "colab": {
          "base_uri": "https://localhost:8080/",
          "height": 134
        },
        "id": "ytvUNmZQGg2o",
        "outputId": "f191cf3a-bae1-4da9-ccaf-17d6f2d0994b"
      },
      "outputs": [
        {
          "data": {
            "text/html": [
              "<div>\n",
              "<style scoped>\n",
              "    .dataframe tbody tr th:only-of-type {\n",
              "        vertical-align: middle;\n",
              "    }\n",
              "\n",
              "    .dataframe tbody tr th {\n",
              "        vertical-align: top;\n",
              "    }\n",
              "\n",
              "    .dataframe thead th {\n",
              "        text-align: right;\n",
              "    }\n",
              "</style>\n",
              "<table border=\"1\" class=\"dataframe\">\n",
              "  <thead>\n",
              "    <tr style=\"text-align: right;\">\n",
              "      <th></th>\n",
              "      <th>gender</th>\n",
              "      <th>sexuallity</th>\n",
              "      <th>age</th>\n",
              "      <th>income</th>\n",
              "      <th>race</th>\n",
              "      <th>bodyweight</th>\n",
              "      <th>virgin</th>\n",
              "      <th>prostitution_legal</th>\n",
              "      <th>pay_for_sex</th>\n",
              "      <th>friends</th>\n",
              "      <th>social_fear</th>\n",
              "      <th>depressed</th>\n",
              "      <th>employment</th>\n",
              "      <th>job_title</th>\n",
              "      <th>edu_level</th>\n",
              "    </tr>\n",
              "  </thead>\n",
              "  <tbody>\n",
              "    <tr>\n",
              "      <th>0</th>\n",
              "      <td>Male</td>\n",
              "      <td>Straight</td>\n",
              "      <td>19</td>\n",
              "      <td>$30,000 to $39,999</td>\n",
              "      <td>Asian</td>\n",
              "      <td>Normal weight</td>\n",
              "      <td>Yes</td>\n",
              "      <td>No</td>\n",
              "      <td>Yes but I haven't</td>\n",
              "      <td>1</td>\n",
              "      <td>No</td>\n",
              "      <td>Yes</td>\n",
              "      <td>A student</td>\n",
              "      <td>i/t support</td>\n",
              "      <td>Bachelor’s degree</td>\n",
              "    </tr>\n",
              "  </tbody>\n",
              "</table>\n",
              "</div>"
            ],
            "text/plain": [
              "  gender sexuallity age              income   race     bodyweight virgin  \\\n",
              "0   Male   Straight  19  $30,000 to $39,999  Asian  Normal weight    Yes   \n",
              "\n",
              "  prostitution_legal        pay_for_sex friends social_fear depressed  \\\n",
              "0                 No  Yes but I haven't       1          No       Yes   \n",
              "\n",
              "  employment    job_title          edu_level  \n",
              "0  A student  i/t support  Bachelor’s degree  "
            ]
          },
          "execution_count": 131,
          "metadata": {
            "tags": []
          },
          "output_type": "execute_result"
        }
      ],
      "source": [
        "x_resampled_dataframe[:1]"
      ]
    },
    {
      "cell_type": "code",
      "execution_count": null,
      "metadata": {
        "colab": {
          "base_uri": "https://localhost:8080/",
          "height": 34
        },
        "id": "e3iYUntwnyEr",
        "outputId": "ccb2deb2-8307-4f0b-9f8e-ec7422129d29"
      },
      "outputs": [
        {
          "data": {
            "text/plain": [
              "(530, 1)"
            ]
          },
          "execution_count": 132,
          "metadata": {
            "tags": []
          },
          "output_type": "execute_result"
        }
      ],
      "source": [
        "y_resampled_dataframe = pd.DataFrame(y_resampled, columns=y_column)\n",
        "y_resampled_dataframe.shape"
      ]
    },
    {
      "cell_type": "code",
      "execution_count": null,
      "metadata": {
        "colab": {
          "base_uri": "https://localhost:8080/",
          "height": 34
        },
        "id": "0snyR5UXoMtj",
        "outputId": "383cdabb-29a5-4551-a0fa-f0951165dfee"
      },
      "outputs": [
        {
          "data": {
            "text/plain": [
              "(137, 15)"
            ]
          },
          "execution_count": 133,
          "metadata": {
            "tags": []
          },
          "output_type": "execute_result"
        }
      ],
      "source": [
        "x_test_dataframe = pd.DataFrame(x_test_over_sampling, columns=x_columns)\n",
        "x_test_dataframe.shape"
      ]
    },
    {
      "cell_type": "code",
      "execution_count": null,
      "metadata": {
        "colab": {
          "base_uri": "https://localhost:8080/",
          "height": 34
        },
        "id": "lxrs9WG9oM0L",
        "outputId": "147cf543-27d8-40e8-dc61-72815fbbe069"
      },
      "outputs": [
        {
          "data": {
            "text/plain": [
              "(137, 1)"
            ]
          },
          "execution_count": 134,
          "metadata": {
            "tags": []
          },
          "output_type": "execute_result"
        }
      ],
      "source": [
        "y_test_dataframe = pd.DataFrame(y_test_oversampling, columns=y_column)\n",
        "y_test_dataframe.shape"
      ]
    },
    {
      "cell_type": "code",
      "execution_count": null,
      "metadata": {
        "collapsed": true,
        "id": "8tITb9fNongD"
      },
      "outputs": [],
      "source": [
        "# Label Encoding Only for Y (output)\n",
        "def encode_text_index1(df_arg1, name):\n",
        "    le = preprocessing.LabelEncoder()\n",
        "    df_arg1[name] = le.fit_transform(df_arg1[name])\n",
        "    return le.classes_"
      ]
    },
    {
      "cell_type": "code",
      "execution_count": null,
      "metadata": {
        "collapsed": true,
        "id": "Rs21uCgootH4"
      },
      "outputs": [],
      "source": [
        "my_list = ['attempt_suicide']\n",
        "\n",
        "for i in my_list:\n",
        "  encode_text_index1(y_resampled_dataframe,i)\n",
        "  encode_text_index1(y_test_dataframe,i) "
      ]
    },
    {
      "cell_type": "code",
      "execution_count": null,
      "metadata": {
        "collapsed": true,
        "id": "QZtY4m9Jo15U"
      },
      "outputs": [],
      "source": [
        "def encode_text_dummy1(df_arg, name):\n",
        "    dummies = pd.get_dummies(df_arg[name])\n",
        "    print(dummies)\n",
        "    for x in dummies.columns:\n",
        "        dummy_name = \"{}-{}\".format(name, x)\n",
        "        df_arg[dummy_name] = dummies[x]\n",
        "    df_arg.drop(name, axis=1, inplace=True)\n",
        "    \n",
        "    for x in dummies.columns:\n",
        "        dummy_name = \"{}-{}\".format(name, x)\n",
        "        x_test_dataframe[dummy_name] = dummies[x]\n",
        "    x_test_dataframe.drop(name, axis=1, inplace=True)"
      ]
    },
    {
      "cell_type": "code",
      "execution_count": null,
      "metadata": {
        "collapsed": true,
        "id": "q6Pg2goyo9-Q"
      },
      "outputs": [],
      "source": [
        "print(x_resampled_dataframe.shape)\n",
        "print(x_test_dataframe.shape)\n",
        "\n",
        "mylist_3 = [\"gender\",\"age\",\"sexuallity\",\"income\",\"race\",\"bodyweight\",\"virgin\",\"prostitution_legal\",\"pay_for_sex\",\"social_fear\",\"depressed\",\"employment\",\"job_title\",\"edu_level\"]\n",
        "for t in mylist_3:\n",
        "    encode_text_dummy1(x_resampled_dataframe,t)\n",
        "    #encode_text_dummy1(x_test_dataframe,t)\n",
        "print(x_resampled_dataframe.shape)\n",
        "print(x_test_dataframe.shape)"
      ]
    },
    {
      "cell_type": "code",
      "execution_count": null,
      "metadata": {
        "collapsed": true,
        "id": "fZzkGz-Zp4wO"
      },
      "outputs": [],
      "source": [
        "final_x_train_resampled = x_resampled_dataframe.values\n",
        "final_y_train_resampled = y_resampled_dataframe.values \n",
        "final_x_test_resampled = x_test_dataframe.values\n",
        "final_y_test_resampled = y_test_dataframe.values\n",
        "\n",
        "final_y_train_resampled = final_y_train_resampled.flatten()\n",
        "final_y_test_resampled = final_y_test_resampled.flatten()"
      ]
    },
    {
      "cell_type": "markdown",
      "metadata": {
        "id": "9rxpC5oj7LQy"
      },
      "source": [
        "# Logistic Regression"
      ]
    },
    {
      "cell_type": "code",
      "execution_count": null,
      "metadata": {
        "collapsed": true,
        "id": "HrpFxNOOqc7l"
      },
      "outputs": [],
      "source": [
        "logreg_resampled = linear_model.LogisticRegression()"
      ]
    },
    {
      "cell_type": "code",
      "execution_count": null,
      "metadata": {
        "colab": {
          "base_uri": "https://localhost:8080/",
          "height": 34
        },
        "id": "sRB-T1ESZ0ra",
        "outputId": "a0e53463-93c1-41e3-f3d3-a685aff719a7"
      },
      "outputs": [
        {
          "data": {
            "text/plain": [
              "array([0, 0, 0, 0, 0])"
            ]
          },
          "execution_count": 141,
          "metadata": {
            "tags": []
          },
          "output_type": "execute_result"
        }
      ],
      "source": [
        "final_y_train_resampled[:5]"
      ]
    },
    {
      "cell_type": "code",
      "execution_count": null,
      "metadata": {
        "colab": {
          "base_uri": "https://localhost:8080/",
          "height": 153
        },
        "id": "8u2EQc0iqoWf",
        "outputId": "5690949f-fdb2-42e5-b17f-f0e67717e841"
      },
      "outputs": [
        {
          "name": "stderr",
          "output_type": "stream",
          "text": [
            "/usr/local/lib/python3.6/dist-packages/sklearn/linear_model/logistic.py:433: FutureWarning:\n",
            "\n",
            "Default solver will be changed to 'lbfgs' in 0.22. Specify a solver to silence this warning.\n",
            "\n"
          ]
        },
        {
          "data": {
            "text/plain": [
              "LogisticRegression(C=1.0, class_weight=None, dual=False, fit_intercept=True,\n",
              "          intercept_scaling=1, max_iter=100, multi_class='warn',\n",
              "          n_jobs=None, penalty='l2', random_state=None, solver='warn',\n",
              "          tol=0.0001, verbose=0, warm_start=False)"
            ]
          },
          "execution_count": 142,
          "metadata": {
            "tags": []
          },
          "output_type": "execute_result"
        }
      ],
      "source": [
        "logreg_resampled.fit(final_x_train_resampled, final_y_train_resampled.flatten())"
      ]
    },
    {
      "cell_type": "code",
      "execution_count": null,
      "metadata": {
        "collapsed": true,
        "id": "-Lm5NKJ2qxPD"
      },
      "outputs": [],
      "source": [
        "y_pred_logistic_resampled = logreg_resampled.predict(final_x_test_resampled)\n"
      ]
    },
    {
      "cell_type": "code",
      "execution_count": null,
      "metadata": {
        "colab": {
          "base_uri": "https://localhost:8080/",
          "height": 34
        },
        "id": "hOMMidp3q6Lz",
        "outputId": "5721d701-f4d4-40c0-f32e-9a2a1dfc1653"
      },
      "outputs": [
        {
          "name": "stdout",
          "output_type": "stream",
          "text": [
            "Mean squared error: 0.33\n"
          ]
        }
      ],
      "source": [
        "# The coefficients\n",
        "#print('Coefficients: \\n', logreg.coef_)\n",
        "# The mean squared error\n",
        "print(\"Mean squared error: %.2f\"\n",
        "      % mean_squared_error(final_y_test_resampled, y_pred_logistic_resampled))"
      ]
    },
    {
      "cell_type": "code",
      "execution_count": null,
      "metadata": {
        "colab": {
          "base_uri": "https://localhost:8080/",
          "height": 34
        },
        "id": "MBM3xwUXq_z-",
        "outputId": "7b9cadbd-85d9-49be-85e8-7fa963be5254"
      },
      "outputs": [
        {
          "name": "stdout",
          "output_type": "stream",
          "text": [
            "Accuracy score: 0.6715328467153284\n"
          ]
        }
      ],
      "source": [
        "score = metrics.accuracy_score(final_y_test_resampled, y_pred_logistic_resampled)\n",
        "print(\"Accuracy score: {}\".format(score))"
      ]
    },
    {
      "cell_type": "code",
      "execution_count": null,
      "metadata": {
        "colab": {
          "base_uri": "https://localhost:8080/",
          "height": 68
        },
        "id": "yiuLttE6rAfH",
        "outputId": "adc695d1-4b41-42d9-f519-cb08dfbb24e9"
      },
      "outputs": [
        {
          "name": "stdout",
          "output_type": "stream",
          "text": [
            "Precision score: 0.6516786297808196\n",
            "Recall score: 0.6715328467153284\n",
            "F1 score: 0.6609105764174976\n"
          ]
        }
      ],
      "source": [
        "score_tf_precision_stopping = metrics.precision_score(final_y_test_resampled, y_pred_logistic_resampled, average= \"weighted\")\n",
        "print(\"Precision score: {}\".format(score_tf_precision_stopping))\n",
        "\n",
        "\n",
        "score_tf_recall_stopping = metrics.recall_score(final_y_test_resampled, y_pred_logistic_resampled, average= \"weighted\")\n",
        "print(\"Recall score: {}\".format(score_tf_recall_stopping))\n",
        "\n",
        "\n",
        "score_tf_f1_stopping = metrics.f1_score(final_y_test_resampled, y_pred_logistic_resampled, average= \"weighted\")\n",
        "print(\"F1 score: {}\".format(score_tf_f1_stopping))\n",
        "\n"
      ]
    },
    {
      "cell_type": "code",
      "execution_count": null,
      "metadata": {
        "collapsed": true,
        "id": "mDOZjQefrItX"
      },
      "outputs": [],
      "source": [
        "cf1 =confusion_matrix(final_y_test_resampled,y_pred_logistic_resampled)"
      ]
    },
    {
      "cell_type": "code",
      "execution_count": null,
      "metadata": {
        "collapsed": true,
        "id": "s0zivBtvYsoh"
      },
      "outputs": [],
      "source": [
        ""
      ]
    },
    {
      "cell_type": "code",
      "execution_count": null,
      "metadata": {
        "colab": {
          "base_uri": "https://localhost:8080/",
          "height": 472
        },
        "id": "yuMAkvbUrL0F",
        "outputId": "99aaa163-1c40-4bb1-d971-f74cf1629ed7"
      },
      "outputs": [
        {
          "data": {
            "image/png": "[encoded data removed]",
            "text/plain": [
              "<Figure size 640x480 with 2 Axes>"
            ]
          },
          "metadata": {
            "tags": []
          },
          "output_type": "display_data"
        }
      ],
      "source": [
        "plt.imshow(cf1,cmap=plt.cm.Blues,interpolation='nearest')\n",
        "plt.colorbar()\n",
        "plt.title('Confusion Matrix without Normalization')\n",
        "plt.xlabel('Predicted')\n",
        "plt.ylabel('Actual')\n",
        "tick_marks = np.arange(len(set(final_y_test_resampled.flatten()))) # length of classes\n",
        "class_labels = ['0','1']\n",
        "tick_marks\n",
        "plt.xticks(tick_marks,class_labels)\n",
        "plt.yticks(tick_marks,class_labels)\n",
        "# plotting text value inside cells\n",
        "thresh = cf1.max() / 2.\n",
        "for i,j in itertools.product(range(cf1.shape[0]),range(cf1.shape[1])):\n",
        "    plt.text(j,i,format(cf1[i,j],'d'),horizontalalignment='center',color='white' if cf1[i,j] >thresh else 'black')\n",
        "plt.show();"
      ]
    },
    {
      "cell_type": "code",
      "execution_count": null,
      "metadata": {
        "collapsed": true,
        "id": "p7871zgyWMWf"
      },
      "outputs": [],
      "source": [
        ""
      ]
    },
    {
      "cell_type": "markdown",
      "metadata": {
        "id": "E2157ZPjaJQM"
      },
      "source": [
        "# Naive Bayes model"
      ]
    },
    {
      "cell_type": "code",
      "execution_count": null,
      "metadata": {
        "collapsed": true,
        "id": "a22t-b9faP36"
      },
      "outputs": [],
      "source": [
        "nb = MultinomialNB()\n",
        "nb.fit(final_x_train_resampled,final_y_train_resampled)\n",
        "\n",
        "y_nb_predict = nb.predict(final_x_test_resampled)"
      ]
    },
    {
      "cell_type": "code",
      "execution_count": null,
      "metadata": {
        "colab": {
          "base_uri": "https://localhost:8080/",
          "height": 34
        },
        "id": "l3GrfTimedBJ",
        "outputId": "03b2dc3c-afbf-4b84-a838-de35acec6f37"
      },
      "outputs": [
        {
          "name": "stdout",
          "output_type": "stream",
          "text": [
            "Accuracy score: 0.5474452554744526\n"
          ]
        }
      ],
      "source": [
        "score = metrics.accuracy_score(final_y_test_resampled, y_nb_predict)\n",
        "print(\"Accuracy score: {}\".format(score))"
      ]
    },
    {
      "cell_type": "code",
      "execution_count": null,
      "metadata": {
        "colab": {
          "base_uri": "https://localhost:8080/",
          "height": 68
        },
        "id": "h4q9bM16edTy",
        "outputId": "220b9628-ffd6-4a62-935c-76125c2833eb"
      },
      "outputs": [
        {
          "name": "stdout",
          "output_type": "stream",
          "text": [
            "Precision score: 0.6218531208103679\n",
            "Recall score: 0.5474452554744526\n",
            "F1 score: 0.5773628564978552\n"
          ]
        }
      ],
      "source": [
        "score_tf_precision_stopping = metrics.precision_score(final_y_test_resampled, y_nb_predict, average= \"weighted\")\n",
        "print(\"Precision score: {}\".format(score_tf_precision_stopping))\n",
        "\n",
        "\n",
        "score_tf_recall_stopping = metrics.recall_score(final_y_test_resampled, y_nb_predict, average= \"weighted\")\n",
        "print(\"Recall score: {}\".format(score_tf_recall_stopping))\n",
        "\n",
        "\n",
        "score_tf_f1_stopping = metrics.f1_score(final_y_test_resampled,y_nb_predict, average= \"weighted\")\n",
        "print(\"F1 score: {}\".format(score_tf_f1_stopping))\n",
        "\n"
      ]
    },
    {
      "cell_type": "code",
      "execution_count": null,
      "metadata": {
        "colab": {
          "base_uri": "https://localhost:8080/",
          "height": 472
        },
        "id": "SiUN20Dffa-5",
        "outputId": "2f01a19d-290d-4aeb-9737-211f0d7f3ede"
      },
      "outputs": [
        {
          "data": {
            "image/png": "[encoded data removed]",
            "text/plain": [
              "<Figure size 640x480 with 2 Axes>"
            ]
          },
          "metadata": {
            "tags": []
          },
          "output_type": "display_data"
        }
      ],
      "source": [
        "cf1 =confusion_matrix(final_y_test_resampled,y_nb_predict)\n",
        "plt.imshow(cf1,cmap=plt.cm.Blues,interpolation='nearest')\n",
        "plt.colorbar()\n",
        "plt.title('Confusion Matrix without Normalization')\n",
        "plt.xlabel('Predicted')\n",
        "plt.ylabel('Actual')\n",
        "tick_marks = np.arange(len(set(final_y_test_resampled.flatten()))) # length of classes\n",
        "class_labels = ['0','1']\n",
        "tick_marks\n",
        "plt.xticks(tick_marks,class_labels)\n",
        "plt.yticks(tick_marks,class_labels)\n",
        "# plotting text value inside cells\n",
        "thresh = cf1.max() / 2.\n",
        "for i,j in itertools.product(range(cf1.shape[0]),range(cf1.shape[1])):\n",
        "    plt.text(j,i,format(cf1[i,j],'d'),horizontalalignment='center',color='white' if cf1[i,j] >thresh else 'black')\n",
        "plt.show();"
      ]
    },
    {
      "cell_type": "code",
      "execution_count": null,
      "metadata": {
        "collapsed": true,
        "id": "IFXKIAR0fkvC"
      },
      "outputs": [],
      "source": [
        ""
      ]
    },
    {
      "cell_type": "markdown",
      "metadata": {
        "id": "Hs82bAfLih8E"
      },
      "source": [
        "# KNN"
      ]
    },
    {
      "cell_type": "code",
      "execution_count": null,
      "metadata": {
        "collapsed": true,
        "id": "KsD10zM2ilMG"
      },
      "outputs": [],
      "source": [
        "#knn\n",
        "from sklearn.neighbors import KNeighborsClassifier\n",
        "knn_extra = KNeighborsClassifier(n_neighbors=10)\n",
        "knn_extra.fit(final_x_train_resampled,final_y_train_resampled)\n",
        "y_pred_knn_e = knn_extra.predict(final_x_test_resampled)\n",
        "\n"
      ]
    },
    {
      "cell_type": "code",
      "execution_count": null,
      "metadata": {
        "colab": {
          "base_uri": "https://localhost:8080/",
          "height": 85
        },
        "id": "PMydOpAIjMtw",
        "outputId": "91f5a8ab-ed75-4830-9329-e332b22e9d77"
      },
      "outputs": [
        {
          "name": "stdout",
          "output_type": "stream",
          "text": [
            "Accuracy score: 0.583941605839416\n",
            "Precision score: 0.6059739185597391\n",
            "Recall score: 0.583941605839416\n",
            "F1 score: 0.5944413129528491\n"
          ]
        }
      ],
      "source": [
        "score = metrics.accuracy_score(final_y_test_resampled, y_pred_knn_e)\n",
        "print(\"Accuracy score: {}\".format(score))\n",
        "\n",
        "score_tf_precision_stopping = metrics.precision_score(final_y_test_resampled, y_pred_knn_e, average= \"weighted\")\n",
        "print(\"Precision score: {}\".format(score_tf_precision_stopping))\n",
        "\n",
        "\n",
        "score_tf_recall_stopping = metrics.recall_score(final_y_test_resampled, y_pred_knn_e, average= \"weighted\")\n",
        "print(\"Recall score: {}\".format(score_tf_recall_stopping))\n",
        "\n",
        "\n",
        "score_tf_f1_stopping = metrics.f1_score(final_y_test_resampled,y_pred_knn_e, average= \"weighted\")\n",
        "print(\"F1 score: {}\".format(score_tf_f1_stopping))"
      ]
    },
    {
      "cell_type": "code",
      "execution_count": null,
      "metadata": {
        "colab": {
          "base_uri": "https://localhost:8080/",
          "height": 472
        },
        "id": "FHdQcmyWjV-n",
        "outputId": "5e54c77b-9783-4402-ade6-fdf159b8b129"
      },
      "outputs": [
        {
          "data": {
            "image/png": "[encoded data removed]",
            "text/plain": [
              "<Figure size 640x480 with 2 Axes>"
            ]
          },
          "metadata": {
            "tags": []
          },
          "output_type": "display_data"
        }
      ],
      "source": [
        "cf1 =confusion_matrix(final_y_test_resampled,y_pred_knn_e)\n",
        "plt.imshow(cf1,cmap=plt.cm.Blues,interpolation='nearest')\n",
        "plt.colorbar()\n",
        "plt.title('Confusion Matrix without Normalization')\n",
        "plt.xlabel('Predicted')\n",
        "plt.ylabel('Actual')\n",
        "tick_marks = np.arange(len(set(final_y_test_resampled.flatten()))) # length of classes\n",
        "class_labels = ['0','1']\n",
        "tick_marks\n",
        "plt.xticks(tick_marks,class_labels)\n",
        "plt.yticks(tick_marks,class_labels)\n",
        "# plotting text value inside cells\n",
        "thresh = cf1.max() / 2.\n",
        "for i,j in itertools.product(range(cf1.shape[0]),range(cf1.shape[1])):\n",
        "    plt.text(j,i,format(cf1[i,j],'d'),horizontalalignment='center',color='white' if cf1[i,j] >thresh else 'black')\n",
        "plt.show();"
      ]
    },
    {
      "cell_type": "markdown",
      "metadata": {
        "id": "oTcq1OtdkzID"
      },
      "source": [
        "# Tensorflow classification"
      ]
    },
    {
      "cell_type": "code",
      "execution_count": null,
      "metadata": {
        "collapsed": true,
        "id": "l4oFrNtLlavF"
      },
      "outputs": [],
      "source": [
        "import keras\n",
        "import keras\n",
        "from keras.models import Sequential\n",
        "from keras import regularizers\n",
        "from keras.layers.core import Dense, Activation\n",
        "from keras.layers import Dropout, Flatten\n",
        "from keras.layers import Conv2D, MaxPooling2D\n",
        "from keras.callbacks import EarlyStopping, ModelCheckpoint"
      ]
    },
    {
      "cell_type": "code",
      "execution_count": null,
      "metadata": {
        "colab": {
          "base_uri": "https://localhost:8080/",
          "height": 51
        },
        "id": "zDhfaIrzk4H0",
        "outputId": "da299586-fe77-4cb4-a68a-eeae30c27317"
      },
      "outputs": [
        {
          "name": "stdout",
          "output_type": "stream",
          "text": [
            "(530, 294)\n",
            "(137, 2)\n"
          ]
        }
      ],
      "source": [
        "num_classes = 2\n",
        "#Convert class vectors to one hot format\n",
        "final_y_train1_resampled = keras.utils.to_categorical(final_y_train_resampled,num_classes)\n",
        "\n",
        "final_y_test1_resampled = keras.utils.to_categorical(final_y_test_resampled,num_classes)\n",
        "print(final_x_train_resampled.shape)\n",
        "print(final_y_test1_resampled.shape)"
      ]
    },
    {
      "cell_type": "code",
      "execution_count": null,
      "metadata": {
        "collapsed": true,
        "id": "cnNDh3cHlogg"
      },
      "outputs": [],
      "source": [
        "checkpointer2 = ModelCheckpoint(filepath=\"./best1.hdf5\", verbose=0, save_best_only=True) # save best model"
      ]
    },
    {
      "cell_type": "code",
      "execution_count": null,
      "metadata": {
        "colab": {
          "base_uri": "https://localhost:8080/",
          "height": 1870
        },
        "id": "-TtjpL3Dlcuj",
        "outputId": "25e7588e-5849-45f9-b971-c45618e5c988"
      },
      "outputs": [
        {
          "name": "stdout",
          "output_type": "stream",
          "text": [
            "0\n",
            "Train on 530 samples, validate on 137 samples\n",
            "Epoch 1/10\n",
            "530/530 [==============================] - 0s 765us/step - loss: 0.6549 - val_loss: 0.6324\n",
            "Epoch 2/10\n",
            "530/530 [==============================] - 0s 125us/step - loss: 0.5987 - val_loss: 0.6236\n",
            "Epoch 3/10\n",
            "530/530 [==============================] - 0s 107us/step - loss: 0.5387 - val_loss: 0.6343\n",
            "Epoch 4/10\n",
            "530/530 [==============================] - 0s 127us/step - loss: 0.4678 - val_loss: 0.6410\n",
            "Epoch 5/10\n",
            "530/530 [==============================] - 0s 109us/step - loss: 0.3979 - val_loss: 0.6742\n",
            "Epoch 6/10\n",
            "530/530 [==============================] - 0s 113us/step - loss: 0.3288 - val_loss: 0.7358\n",
            "Epoch 7/10\n",
            "530/530 [==============================] - 0s 112us/step - loss: 0.2801 - val_loss: 0.7995\n",
            "Epoch 8/10\n",
            "530/530 [==============================] - 0s 109us/step - loss: 0.2358 - val_loss: 0.8577\n",
            "Epoch 00008: early stopping\n",
            "1\n",
            "Train on 530 samples, validate on 137 samples\n",
            "Epoch 1/10\n",
            "530/530 [==============================] - 0s 875us/step - loss: 0.6682 - val_loss: 0.7282\n",
            "Epoch 2/10\n",
            "530/530 [==============================] - 0s 118us/step - loss: 0.6278 - val_loss: 0.7085\n",
            "Epoch 3/10\n",
            "530/530 [==============================] - 0s 111us/step - loss: 0.5924 - val_loss: 0.7042\n",
            "Epoch 4/10\n",
            "530/530 [==============================] - 0s 114us/step - loss: 0.5523 - val_loss: 0.7030\n",
            "Epoch 5/10\n",
            "530/530 [==============================] - 0s 111us/step - loss: 0.5057 - val_loss: 0.6893\n",
            "Epoch 6/10\n",
            "530/530 [==============================] - 0s 114us/step - loss: 0.4557 - val_loss: 0.6900\n",
            "Epoch 7/10\n",
            "530/530 [==============================] - 0s 111us/step - loss: 0.4023 - val_loss: 0.6625\n",
            "Epoch 8/10\n",
            "530/530 [==============================] - 0s 111us/step - loss: 0.3520 - val_loss: 0.6603\n",
            "Epoch 9/10\n",
            "530/530 [==============================] - 0s 118us/step - loss: 0.3049 - val_loss: 0.6772\n",
            "Epoch 10/10\n",
            "530/530 [==============================] - 0s 112us/step - loss: 0.2657 - val_loss: 0.7088\n",
            "2\n",
            "Train on 530 samples, validate on 137 samples\n",
            "Epoch 1/10\n",
            "530/530 [==============================] - 0s 894us/step - loss: 0.6900 - val_loss: 0.6768\n",
            "Epoch 2/10\n",
            "530/530 [==============================] - 0s 140us/step - loss: 0.6212 - val_loss: 0.6449\n",
            "Epoch 3/10\n",
            "530/530 [==============================] - 0s 116us/step - loss: 0.5656 - val_loss: 0.6432\n",
            "Epoch 4/10\n",
            "530/530 [==============================] - 0s 117us/step - loss: 0.5016 - val_loss: 0.6343\n",
            "Epoch 5/10\n",
            "530/530 [==============================] - 0s 112us/step - loss: 0.4329 - val_loss: 0.6475\n",
            "Epoch 6/10\n",
            "530/530 [==============================] - 0s 120us/step - loss: 0.3648 - val_loss: 0.6525\n",
            "Epoch 7/10\n",
            "530/530 [==============================] - 0s 146us/step - loss: 0.3080 - val_loss: 0.7032\n",
            "Epoch 8/10\n",
            "530/530 [==============================] - 0s 159us/step - loss: 0.2614 - val_loss: 0.7307\n",
            "Epoch 9/10\n",
            "530/530 [==============================] - 0s 142us/step - loss: 0.2257 - val_loss: 0.7866\n",
            "Epoch 10/10\n",
            "530/530 [==============================] - 0s 139us/step - loss: 0.1925 - val_loss: 0.8427\n",
            "Epoch 00010: early stopping\n",
            "3\n",
            "Train on 530 samples, validate on 137 samples\n",
            "Epoch 1/10\n",
            "530/530 [==============================] - 1s 1ms/step - loss: 0.7267 - val_loss: 0.7100\n",
            "Epoch 2/10\n",
            "530/530 [==============================] - 0s 160us/step - loss: 0.6580 - val_loss: 0.7042\n",
            "Epoch 3/10\n",
            "530/530 [==============================] - 0s 146us/step - loss: 0.6067 - val_loss: 0.6863\n",
            "Epoch 4/10\n",
            "530/530 [==============================] - 0s 138us/step - loss: 0.5489 - val_loss: 0.6618\n",
            "Epoch 5/10\n",
            "530/530 [==============================] - 0s 139us/step - loss: 0.4773 - val_loss: 0.6355\n",
            "Epoch 6/10\n",
            "530/530 [==============================] - 0s 139us/step - loss: 0.4005 - val_loss: 0.6294\n",
            "Epoch 7/10\n",
            "530/530 [==============================] - 0s 140us/step - loss: 0.3303 - val_loss: 0.6680\n",
            "Epoch 8/10\n",
            "530/530 [==============================] - 0s 140us/step - loss: 0.2700 - val_loss: 0.6952\n",
            "Epoch 9/10\n",
            "530/530 [==============================] - 0s 155us/step - loss: 0.2301 - val_loss: 0.7449\n",
            "Epoch 10/10\n",
            "530/530 [==============================] - 0s 155us/step - loss: 0.2052 - val_loss: 0.8084\n",
            "4\n",
            "Train on 530 samples, validate on 137 samples\n",
            "Epoch 1/10\n",
            "530/530 [==============================] - 1s 1ms/step - loss: 0.6321 - val_loss: 0.6948\n",
            "Epoch 2/10\n",
            "530/530 [==============================] - 0s 149us/step - loss: 0.5527 - val_loss: 0.6573\n",
            "Epoch 3/10\n",
            "530/530 [==============================] - 0s 160us/step - loss: 0.4788 - val_loss: 0.6561\n",
            "Epoch 4/10\n",
            "530/530 [==============================] - 0s 140us/step - loss: 0.4085 - val_loss: 0.6502\n",
            "Epoch 5/10\n",
            "530/530 [==============================] - 0s 144us/step - loss: 0.3435 - val_loss: 0.6638\n",
            "Epoch 6/10\n",
            "530/530 [==============================] - 0s 140us/step - loss: 0.2914 - val_loss: 0.6887\n",
            "Epoch 7/10\n",
            "530/530 [==============================] - 0s 139us/step - loss: 0.2518 - val_loss: 0.7259\n",
            "Epoch 8/10\n",
            "530/530 [==============================] - 0s 145us/step - loss: 0.2230 - val_loss: 0.7524\n",
            "Epoch 9/10\n",
            "530/530 [==============================] - 0s 142us/step - loss: 0.2006 - val_loss: 0.7802\n",
            "Epoch 10/10\n",
            "530/530 [==============================] - 0s 146us/step - loss: 0.1816 - val_loss: 0.8238\n",
            "Epoch 00010: early stopping\n"
          ]
        }
      ],
      "source": [
        "\n",
        "for i in range(5):\n",
        "   print(i)\n",
        "\n",
        "   model = Sequential()\n",
        "   model.add(Dense(25, input_dim=final_x_train_resampled.shape[1], activation='relu')) # Hidden 1\n",
        "   model.add(Dense(10, activation='relu')) # Hidden 3\n",
        "   model.add(Dense(final_y_train1_resampled.shape[1], activation='softmax'))\n",
        "\n",
        "   #adam = optimizers.Adam(lr=0.001, beta_1=0.9, beta_2=0.999, epsilon=None, decay=0.0, amsgrad=False)\n",
        "   monitor = EarlyStopping(monitor='val_loss', min_delta=1e-3, patience=6, verbose=2, mode='auto')\n",
        "   model.compile(loss=\"categorical_crossentropy\", optimizer='adam')\n",
        "   model.fit(final_x_train_resampled,final_y_train1_resampled,callbacks=[monitor,checkpointer2],validation_data=(final_x_test_resampled, final_y_test1_resampled),epochs=10)"
      ]
    },
    {
      "cell_type": "code",
      "execution_count": null,
      "metadata": {
        "colab": {
          "base_uri": "https://localhost:8080/",
          "height": 34
        },
        "id": "8MIyIiPAmSAA",
        "outputId": "b0889c0d-6dbc-4633-858c-59fed7e063f1"
      },
      "outputs": [
        {
          "name": "stdout",
          "output_type": "stream",
          "text": [
            "Accuracy score: 0.6715328467153284\n"
          ]
        }
      ],
      "source": [
        "model.load_weights('./best1.hdf5')\n",
        "y_pred_c = model.predict(final_x_test_resampled)\n",
        "y_pred_c = np.argmax(y_pred_c,axis=1)\n",
        "y_test_c= np.argmax(final_y_test1_resampled,axis=1)\n",
        "score = metrics.accuracy_score(y_test_c, y_pred_c)\n",
        "print(\"Accuracy score: {}\".format(score))"
      ]
    },
    {
      "cell_type": "code",
      "execution_count": null,
      "metadata": {
        "colab": {
          "base_uri": "https://localhost:8080/",
          "height": 85
        },
        "id": "e7GCYH2lmSQ2",
        "outputId": "665335a9-a5f7-4b5e-ddf4-f426193f6dc4"
      },
      "outputs": [
        {
          "name": "stdout",
          "output_type": "stream",
          "text": [
            "Accuracy score: 0.6715328467153284\n",
            "Precision score: 0.6516786297808196\n",
            "Recall score: 0.6715328467153284\n",
            "F1 score: 0.6609105764174976\n"
          ]
        }
      ],
      "source": [
        "score = metrics.accuracy_score(y_test_c, y_pred_c)\n",
        "print(\"Accuracy score: {}\".format(score))\n",
        "\n",
        "score_tf_precision_stopping = metrics.precision_score(y_test_c, y_pred_c, average= \"weighted\")\n",
        "print(\"Precision score: {}\".format(score_tf_precision_stopping))\n",
        "\n",
        "\n",
        "score_tf_recall_stopping = metrics.recall_score(y_test_c, y_pred_c, average= \"weighted\")\n",
        "print(\"Recall score: {}\".format(score_tf_recall_stopping))\n",
        "\n",
        "\n",
        "score_tf_f1_stopping = metrics.f1_score(y_test_c, y_pred_c, average= \"weighted\")\n",
        "print(\"F1 score: {}\".format(score_tf_f1_stopping))"
      ]
    },
    {
      "cell_type": "code",
      "execution_count": null,
      "metadata": {
        "colab": {
          "base_uri": "https://localhost:8080/",
          "height": 472
        },
        "id": "M358kdGfmSb6",
        "outputId": "0cf49d44-4086-4916-a9ab-654fa1bd49de"
      },
      "outputs": [
        {
          "data": {
            "image/png": "[encoded data removed]",
            "text/plain": [
              "<Figure size 640x480 with 2 Axes>"
            ]
          },
          "metadata": {
            "tags": []
          },
          "output_type": "display_data"
        }
      ],
      "source": [
        "cf1 =confusion_matrix(y_test_c, y_pred_c)\n",
        "plt.imshow(cf1,cmap=plt.cm.Blues,interpolation='nearest')\n",
        "plt.colorbar()\n",
        "plt.title('Confusion Matrix without Normalization')\n",
        "plt.xlabel('Predicted')\n",
        "plt.ylabel('Actual')\n",
        "tick_marks = np.arange(len(set(y_test_c.flatten()))) # length of classes\n",
        "class_labels = ['0','1']\n",
        "tick_marks\n",
        "plt.xticks(tick_marks,class_labels)\n",
        "plt.yticks(tick_marks,class_labels)\n",
        "# plotting text value inside cells\n",
        "thresh = cf1.max() / 2.\n",
        "for i,j in itertools.product(range(cf1.shape[0]),range(cf1.shape[1])):\n",
        "    plt.text(j,i,format(cf1[i,j],'d'),horizontalalignment='center',color='white' if cf1[i,j] >thresh else 'black')\n",
        "plt.show();"
      ]
    },
    {
      "cell_type": "code",
      "execution_count": null,
      "metadata": {
        "collapsed": true,
        "id": "IFT4ctNJpL9P"
      },
      "outputs": [],
      "source": [
        ""
      ]
    },
    {
      "cell_type": "markdown",
      "metadata": {
        "id": "eBqLMjmwq130"
      },
      "source": [
        "# Discussion\n",
        "\n",
        "---\n",
        "\n",
        "### Based on the exploratory data analysis records which are classified as suicide attempt as positive, counts to 85 and records which are classified as never attempt a suicide is 372. Data is biased because one class has more number of records as compared to other. Therefore and accuracy wont be the best measure to predict on such biased data.\n",
        "\n",
        "### Therefore,  over sampling is done to the records of class which has minimum number of records. This helped to make number of records in both classes to be equal. The technique used to do oversampling is by using SMOTE-NC (Synthetic Minority Over-sampling Technique for Nominal and Continuous) as dataset contains both numerical and categorical data. Important thing to note here is that oversampling is performed only on training set after train test split to avoid synthetic records to be added to test set which does not represent the actual test set and real world recordings/readings. \n",
        "\n",
        "### After oversampling, confusion matrix shows that correct prediction on class which had less records has increased but not to a substantial amount. Moreover incorrect classification also increased where majority class is present. Hence we cannot rely completely on accuracy metric here again and need more evidence  on this behavior of this model.\n",
        "\n",
        "\n",
        "---\n",
        "\n"
      ]
    },
    {
      "cell_type": "code",
      "execution_count": null,
      "metadata": {
        "collapsed": true,
        "id": "2pZSvV4Jq7Je"
      },
      "outputs": [],
      "source": [
        ""
      ]
    },
    {
      "cell_type": "markdown",
      "metadata": {
        "id": "1isZznfLrQ5p"
      },
      "source": [
        "# Conclusion\n",
        "\n",
        "\n",
        "---\n",
        "\n",
        "### Accuracy for various developed models are in range from 54% to 77%. But accuracy is not the best measure to predict the model performance/ quality when we look at the confusion matrix.\n",
        "\n",
        "### Moreover having more number of records might help Neural network models to learn features of classes, due to behavior observed in confusion matrix.\n",
        "\n",
        "\n",
        "---\n",
        "\n"
      ]
    },
    {
      "cell_type": "markdown",
      "metadata": {
        "id": "Bc_H3gBxrjis"
      },
      "source": [
        "# References\n",
        "\n",
        "\n",
        "---\n",
        "\n",
        "## Dataset \n",
        "https://www.kaggle.com/kingburrito666/the-demographic-rforeveralone-dataset/home \n",
        "\n",
        "## Synthetic Minority Over-sampling Technique for Nominal and Continuous \n",
        "https://imbalancedlearn.readthedocs.io/en/stable/generated/imblearn.over_sampling.SMOTENC.html \n",
        "\n",
        "## Scikit Learn Official Website for documentation\n",
        "https://scikit-learn.org/stable/\n",
        "\n",
        "## Pandas Documentation \n",
        "https://pandas.pydata.org/pandas-docs/stable/reference/api/pandas.DataFrame.html\n",
        "\n",
        "## Matplotlib library reference\n",
        "https://matplotlib.org/\n",
        "\n",
        "\n"
      ]
    },
    {
      "cell_type": "code",
      "execution_count": null,
      "metadata": {
        "collapsed": true,
        "id": "JBgk6Q-WrwO6"
      },
      "outputs": [],
      "source": [
        ""
      ]
    }
  ],
  "metadata": {
    "accelerator": "GPU",
    "colab": {
      "collapsed_sections": [],
      "name": "Suicide_Ideation [ Data Analysis 1 & Machine Learning Model]-.ipynb",
      "provenance": []
    },
    "kernelspec": {
      "display_name": "Python 3",
      "language": "python",
      "name": "python3"
    },
    "language_info": {
      "codemirror_mode": {
        "name": "ipython",
        "version": 3
      },
      "file_extension": ".py",
      "mimetype": "text/x-python",
      "name": "python",
      "nbconvert_exporter": "python",
      "pygments_lexer": "ipython3",
      "version": "3.7.3"
    }
  },
  "nbformat": 4,
  "nbformat_minor": 0
}